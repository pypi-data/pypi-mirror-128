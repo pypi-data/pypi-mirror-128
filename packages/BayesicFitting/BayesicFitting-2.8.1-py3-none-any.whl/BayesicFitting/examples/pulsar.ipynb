{
 "cells": [
  {
   "cell_type": "markdown",
   "metadata": {},
   "source": [
    "## Pulsars\n",
    "\n",
    "\n",
    "\n",
    "The data is taken from HTRU2, a data set which describes a sample of pulsar candidates collected during the\n",
    "High Time Resolution Universe Survey (South).\n",
    "\n",
    "Author: Rob Lyon, School of Computer Science & Jodrell Bank Centre for Astrophysics,\n",
    "                University of Manchester, Kilburn Building, Oxford Road, Manchester M13 9PL.\n",
    "\n",
    "Contact:        rob@scienceguyrob.com or robert.lyon@.manchester.ac.uk\n",
    "Web:            http://www.scienceguyrob.com or http://www.cs.manchester.ac.uk\n",
    "                        or alternatively http://www.jb.man.ac.uk\n",
    "\n",
    "\n",
    "The text below is copied from the Readme.txt file:\n",
    "\n",
    "Pulsars are a rare type of Neutron star that produce radio emission detectable here on\n",
    "Earth. They are of considerable scientific interest as probes of space-time, the inter-\n",
    "stellar medium, and states of matter.\n",
    "        \n",
    "As pulsars rotate, their emission beam sweeps across the sky, and when this crosses\n",
    "our line of sight, produces a detectable pattern of broadband radio emission. As pulsars\n",
    "rotate rapidly, this pattern repeats periodically. Thus pulsar search involves looking\n",
    "for periodic radio signals with large radio telescopes.\n",
    "        \n",
    "Each pulsar produces a slightly different emission pattern, which varies slightly with each\n",
    "rotation (see [2] for an introduction to pulsar astrophysics to find out why). Thus a \n",
    "potential signal detection known as a 'candidate', is averaged over many rotations of the\n",
    "pulsar, as determined by the length of an observation. In the absence of additional info,\n",
    "each candidate could potentially describe a real pulsar. However in practice almost all\n",
    "detections are caused by radio frequency interference (RFI) and noise, making legitimate\n",
    "signals hard to find.\n",
    "        \n",
    "Machine learning tools are now being used to automatically label pulsar candidates to\n",
    "facilitate rapid analysis. Classification systems in particular are being widely adopted,\n",
    "(see [4,5,6,7,8,9]) which treat the candidate data sets  as binary classification problems.\n",
    "Here the legitimate pulsar examples are a minority positive class, and spurious examples\n",
    "the majority negative class. At present multi-class labels are unavailable, given the\n",
    "costs associated with data annotation.\n",
    "        \n",
    "The data set shared here contains 16,259 spurious examples caused by RFI/noise, and 1,639\n",
    "real pulsar examples. These examples have all been checked by human annotators. Each\n",
    "candidate is described by 8 continuous variables. The first four are simple statistics\n",
    "obtained from the integrated pulse profile (folded profile). This is an array of continuous\n",
    "variables that describe a longitude-resolved version of the signal that has been averaged\n",
    "in both time and frequency (see [3] for more details). The remaining four variables are\n",
    "similarly obtained from the DM-SNR curve (again see [3] for more details). These are \n",
    "summarised below:\n",
    "        \n",
    "1. Mean of the integrated profile.\n",
    "2. Standard deviation of the integrated profile.\n",
    "3. Excess kurtosis of the integrated profile.\n",
    "4. Skewness of the integrated profile.\n",
    "5. Mean of the DM-SNR curve.\n",
    "6. Standard deviation of the DM-SNR curve.\n",
    "7. Excess kurtosis of the DM-SNR curve.\n",
    "8. Skewness of the DM-SNR curve.\n",
    "\n",
    "9. 0 : noise\n",
    "   1 : pulsar\n",
    "   \n"
   ]
  },
  {
   "cell_type": "code",
   "execution_count": 21,
   "metadata": {},
   "outputs": [],
   "source": [
    "import numpy as numpy\n",
    "import math\n",
    "\n",
    "from astropy.io import ascii\n",
    "from BayesicFitting import SoftMaxModel\n",
    "from BayesicFitting import BernoulliErrorDistribution\n",
    "from BayesicFitting import LaplacePrior\n",
    "from BayesicFitting import CauchyPrior\n",
    "\n",
    "from BayesicFitting import ClassicProblem\n",
    "from BayesicFitting import MultipleOutputProblem\n",
    "from BayesicFitting import NestedSampler\n",
    "from BayesicFitting import formatter as fmt\n",
    "from BayesicFitting import plotFit\n",
    "from BayesicFitting import Tools\n",
    "import matplotlib.pyplot as plt\n",
    "\n"
   ]
  },
  {
   "cell_type": "code",
   "execution_count": 16,
   "metadata": {},
   "outputs": [],
   "source": [
    "#%matplotlib osx"
   ]
  },
  {
   "cell_type": "code",
   "execution_count": 17,
   "metadata": {},
   "outputs": [],
   "source": [
    "tbl = ascii.read( \"data/HTRU.csv\" )\n"
   ]
  },
  {
   "cell_type": "code",
   "execution_count": 18,
   "metadata": {},
   "outputs": [
    {
     "name": "stdout",
     "output_type": "stream",
     "text": [
      "[[  140.562  102.508  103.016  136.750   88.727 ...  119.336  114.508   57.062]\n",
      " [   55.684   58.882   39.342   57.178   40.672 ...   59.936   53.902   85.797]\n",
      " [   -0.235    0.465    0.323   -0.068    0.601 ...    0.159    0.201    1.406]\n",
      " [   -0.700   -0.515    1.051   -0.636    1.123 ...   -0.743   -0.025    0.090]\n",
      " [    3.200    1.677    3.121    3.643    1.179 ...   21.431    1.946  188.306]\n",
      " [   19.110   14.860   21.745   20.959   11.469 ...   58.872   13.382   64.713]\n",
      " [    7.976   10.576    7.736    6.896   14.270 ...    2.500   10.008   -1.598]\n",
      " [   74.242  127.394   63.172   53.594  252.567 ...    4.595  134.239    1.429]]\n"
     ]
    }
   ],
   "source": [
    "xall = numpy.zeros( (8,17898), dtype=float )\n",
    "for k in range( 8 ) :\n",
    "    key = 'col%d' % (k+1)\n",
    "    xall[k,:] = tbl[key].data\n",
    "\n",
    "y = tbl[\"col9\"].data\n",
    "\n",
    "print( fmt( xall, tail=3 ) )\n",
    "\n",
    "#w = numpy.ones_like( y )\n",
    "#wgt = numpy.where( y == 0, w, 10 * w )"
   ]
  },
  {
   "cell_type": "markdown",
   "metadata": {},
   "source": [
    "Rescale the data"
   ]
  },
  {
   "cell_type": "code",
   "execution_count": 19,
   "metadata": {},
   "outputs": [
    {
     "name": "stdout",
     "output_type": "stream",
     "text": [
      "[  111.080   46.550    0.478    1.770   12.614   26.327    8.304  104.858]\n",
      "[[    1.406    5.568   -0.235   -0.700    0.320    1.911    7.976    7.424]\n",
      " [    1.025    5.888    0.465   -0.515    0.168    1.486   10.576   12.739]\n",
      " [    1.030    3.934    0.323    1.051    0.312    2.174    7.736    6.317]\n",
      " [    1.367    5.718   -0.068   -0.636    0.364    2.096    6.896    5.359]\n",
      " [    0.887    4.067    0.601    1.123    0.118    1.147   14.270   25.257]\n",
      "  ...\n",
      " [    1.193    5.994    0.159   -0.743    2.143    5.887    2.500    0.460]\n",
      " [    1.145    5.390    0.201   -0.025    0.195    1.338   10.008   13.424]\n",
      " [    0.571    8.580    1.406    0.090   18.831    6.471   -1.598    0.143]]\n"
     ]
    }
   ],
   "source": [
    "xdata = xall.T\n",
    "xm = numpy.mean( xdata, 0 )\n",
    "print( fmt( xm, max=None ) )\n",
    "\n",
    "xmm = [100, 10, 1, 1, 10, 10, 1, 10]\n",
    "xdat = xdata / xmm\n",
    "print( fmt( xdat, tail=3 ) )\n"
   ]
  },
  {
   "cell_type": "markdown",
   "metadata": {},
   "source": [
    "Start a SoftMaxModel (logistic) with 8 inputs and 2 outputs"
   ]
  },
  {
   "cell_type": "code",
   "execution_count": 22,
   "metadata": {},
   "outputs": [],
   "source": [
    "mdl = SoftMaxModel( ndim=8, ndout=2, offset=True )\n",
    "mdl.setPrior( 0, CauchyPrior( ) )\n",
    "\n",
    "#Tools.printclass( mdl )\n",
    "\n",
    "problem = ClassicProblem( model=mdl, xdata=xdat, ydata=y )    #, weights=wgt )"
   ]
  },
  {
   "cell_type": "markdown",
   "metadata": {},
   "source": [
    "Use NestedSampler with a BernoulliErrdorDistribution, for categorials"
   ]
  },
  {
   "cell_type": "code",
   "execution_count": 23,
   "metadata": {},
   "outputs": [
    {
     "name": "stderr",
     "output_type": "stream",
     "text": [
      "/opt/local/Library/Frameworks/Python.framework/Versions/3.8/lib/python3.8/site-packages/BayesicFitting-2.7.2-py3.8.egg/BayesicFitting/source/SoftMaxModel.py:155: RuntimeWarning: overflow encountered in exp\n",
      "/opt/local/Library/Frameworks/Python.framework/Versions/3.8/lib/python3.8/site-packages/BayesicFitting-2.7.2-py3.8.egg/BayesicFitting/source/SoftMaxModel.py:177: RuntimeWarning: invalid value encountered in true_divide\n",
      "/opt/local/Library/Frameworks/Python.framework/Versions/3.8/lib/python3.8/site-packages/BayesicFitting-2.7.2-py3.8.egg/BayesicFitting/source/BernoulliErrorDistribution.py:156: RuntimeWarning: divide by zero encountered in log\n"
     ]
    },
    {
     "name": "stdout",
     "output_type": "stream",
     "text": [
      "Fit all parameters of\n",
      "  SoftMax: f_n( x:p ) = exp( sum_i( x_i * p_in ) + q_n)/ sum_n )\n",
      "Using a Bernoulli error distribution\n",
      "Moving the walkers with   GalileanEngine  ChordEngine\n",
      "Iteration     logZ        H       LowL     npar parameters\n",
      "       0  -2.81e+06 941097.6  -1.87e+06     18  [   -0.161  -29.288   -0.643    0.866 ...]\n"
     ]
    },
    {
     "name": "stderr",
     "output_type": "stream",
     "text": [
      "/opt/local/Library/Frameworks/Python.framework/Versions/3.8/lib/python3.8/site-packages/BayesicFitting-2.7.2-py3.8.egg/BayesicFitting/source/CauchyPrior.py:129: RuntimeWarning: invalid value encountered in tan\n",
      "/opt/local/Library/Frameworks/Python.framework/Versions/3.8/lib/python3.8/site-packages/BayesicFitting-2.7.2-py3.8.egg/BayesicFitting/source/SoftMaxModel.py:224: RuntimeWarning: overflow encountered in multiply\n",
      "/opt/local/Library/Frameworks/Python.framework/Versions/3.8/lib/python3.8/site-packages/BayesicFitting-2.7.2-py3.8.egg/BayesicFitting/source/BernoulliErrorDistribution.py:211: RuntimeWarning: overflow encountered in true_divide\n",
      "/opt/local/Library/Frameworks/Python.framework/Versions/3.8/lib/python3.8/site-packages/numpy/core/fromnumeric.py:86: RuntimeWarning: invalid value encountered in reduce\n",
      "  return ufunc.reduce(obj, axis, dtype, out, **passkwargs)\n",
      "/opt/local/Library/Frameworks/Python.framework/Versions/3.8/lib/python3.8/site-packages/BayesicFitting-2.7.2-py3.8.egg/BayesicFitting/source/SoftMaxModel.py:238: RuntimeWarning: overflow encountered in multiply\n",
      "/opt/local/Library/Frameworks/Python.framework/Versions/3.8/lib/python3.8/site-packages/BayesicFitting-2.7.2-py3.8.egg/BayesicFitting/source/SoftMaxModel.py:238: RuntimeWarning: invalid value encountered in true_divide\n",
      "/opt/local/Library/Frameworks/Python.framework/Versions/3.8/lib/python3.8/site-packages/BayesicFitting-2.7.2-py3.8.egg/BayesicFitting/source/SoftMaxModel.py:249: RuntimeWarning: overflow encountered in multiply\n",
      "/opt/local/Library/Frameworks/Python.framework/Versions/3.8/lib/python3.8/site-packages/BayesicFitting-2.7.2-py3.8.egg/BayesicFitting/source/SoftMaxModel.py:249: RuntimeWarning: invalid value encountered in true_divide\n",
      "/opt/local/Library/Frameworks/Python.framework/Versions/3.8/lib/python3.8/site-packages/BayesicFitting-2.7.2-py3.8.egg/BayesicFitting/source/SoftMaxModel.py:236: RuntimeWarning: overflow encountered in multiply\n",
      "/opt/local/Library/Frameworks/Python.framework/Versions/3.8/lib/python3.8/site-packages/BayesicFitting-2.7.2-py3.8.egg/BayesicFitting/source/SoftMaxModel.py:236: RuntimeWarning: invalid value encountered in true_divide\n",
      "/opt/local/Library/Frameworks/Python.framework/Versions/3.8/lib/python3.8/site-packages/BayesicFitting-2.7.2-py3.8.egg/BayesicFitting/source/SoftMaxModel.py:247: RuntimeWarning: overflow encountered in multiply\n",
      "/opt/local/Library/Frameworks/Python.framework/Versions/3.8/lib/python3.8/site-packages/BayesicFitting-2.7.2-py3.8.egg/BayesicFitting/source/SoftMaxModel.py:247: RuntimeWarning: invalid value encountered in true_divide\n"
     ]
    },
    {
     "name": "stdout",
     "output_type": "stream",
     "text": [
      "     100  -1.36e+05   1316.3  -1.35e+05     18  [    2.728   -0.853    1.745    3.286 ...]\n",
      "     200  -4.37e+04     77.1  -4.36e+04     18  [    0.004    1.350   -0.103   -0.721 ...]\n",
      "     300  -1.87e+04    141.1  -1.85e+04     18  [   -0.818   -0.039    1.147    0.571 ...]\n",
      "     400  -1.07e+04     20.7  -1.07e+04     18  [   -2.760   -0.072    4.008   -1.524 ...]\n",
      "     500  -7.65e+03     48.5  -7.60e+03     18  [   17.733   -0.299    0.546   -0.136 ...]\n",
      "     600  -6.02e+03     17.4  -6.01e+03     18  [   24.447   -0.774    0.293   -3.320 ...]\n",
      "     700  -4.83e+03     14.4  -4.82e+03     18  [    4.401    1.537   -0.307   -0.944 ...]\n",
      "     800  -3.87e+03     15.8  -3.86e+03     18  [    6.560   -1.647   -0.818    0.301 ...]\n",
      "     900  -3.18e+03     16.7  -3.16e+03     18  [   -0.417    0.019   -1.543    0.161 ...]\n"
     ]
    },
    {
     "name": "stderr",
     "output_type": "stream",
     "text": [
      "/opt/local/Library/Frameworks/Python.framework/Versions/3.8/lib/python3.8/site-packages/BayesicFitting-2.7.2-py3.8.egg/BayesicFitting/source/SoftMaxModel.py:236: RuntimeWarning: divide by zero encountered in true_divide\n",
      "/opt/local/Library/Frameworks/Python.framework/Versions/3.8/lib/python3.8/site-packages/BayesicFitting-2.7.2-py3.8.egg/BayesicFitting/source/SoftMaxModel.py:238: RuntimeWarning: divide by zero encountered in true_divide\n"
     ]
    },
    {
     "name": "stdout",
     "output_type": "stream",
     "text": [
      "    1000  -2.79e+03     18.1  -2.77e+03     18  [    2.937    1.538   -0.922   -0.605 ...]\n",
      "    1100  -2.56e+03     19.0  -2.54e+03     18  [   10.384   -1.435    0.213   -0.629 ...]\n",
      "    1200  -2.31e+03     15.7  -2.29e+03     18  [    9.436   -1.068    0.343   -0.797 ...]\n",
      "    1300  -2.15e+03     17.1  -2.13e+03     18  [   13.016   -1.478    0.115   -0.632 ...]\n",
      "    1400  -2.04e+03     18.2  -2.02e+03     18  [    2.292    0.731   -1.916   -1.347 ...]\n",
      "    1500  -1.93e+03     18.8  -1.91e+03     18  [    0.031    0.485    0.168    1.358 ...]\n",
      "    1600  -1.83e+03     21.8  -1.81e+03     18  [   -0.046   -0.273   -1.419   -0.641 ...]\n",
      "    1700  -1.76e+03     20.6  -1.74e+03     18  [    4.921   -0.542   -0.237   -0.686 ...]\n",
      "    1800  -1.68e+03     22.1  -1.66e+03     18  [    2.933   -0.666   -1.076   -1.213 ...]\n",
      "    1900  -1.63e+03     22.4  -1.60e+03     18  [    0.644   -0.058   -0.624   -0.238 ...]\n",
      "    2000  -1.57e+03     22.7  -1.55e+03     18  [    0.192    0.425   -0.052    1.678 ...]\n",
      "    2100  -1.54e+03     23.6  -1.52e+03     18  [   -0.062    0.440    0.420    1.409 ...]\n",
      "    2200  -1.51e+03     24.9  -1.48e+03     18  [    0.128   -0.148   -2.293   -0.235 ...]\n",
      "    2300  -1.48e+03     25.1  -1.45e+03     18  [    0.124    0.633    0.140    2.456 ...]\n",
      "    2400  -1.45e+03     26.3  -1.42e+03     18  [    0.167    0.585   -0.289    2.654 ...]\n",
      "    2500  -1.43e+03     26.6  -1.41e+03     18  [    0.098   -0.370   -1.331   -0.194 ...]\n",
      "    2600  -1.42e+03     27.8  -1.39e+03     18  [    0.234   -0.007   -1.006   -0.218 ...]\n",
      "    2700  -1.41e+03     28.4  -1.38e+03     18  [    0.195    0.607   -0.419    2.693 ...]\n",
      "    2800  -1.40e+03     29.0  -1.37e+03     18  [    0.219    0.608   -0.486    3.342 ...]\n",
      "    2900  -1.39e+03     29.7  -1.36e+03     18  [    1.006    0.012   -0.801   -0.427 ...]\n",
      "    3000  -1.39e+03     30.4  -1.35e+03     18  [    0.377   -0.339   -1.350   -0.673 ...]\n",
      "    3100  -1.38e+03     30.9  -1.35e+03     18  [    0.282   -0.215   -0.931   -0.500 ...]\n",
      "    3200  -1.38e+03     32.1  -1.35e+03     18  [    0.031    0.794   -0.422    2.278 ...]\n",
      "    3300  -1.37e+03     33.1  -1.34e+03     18  [    0.311   -0.233   -1.100   -0.476 ...]\n",
      "    3400  -1.37e+03     34.3  -1.34e+03     18  [    0.194   -0.157   -0.766   -0.662 ...]\n",
      "    3500  -1.37e+03     34.8  -1.33e+03     18  [    0.143   -0.259   -0.949   -0.497 ...]\n",
      "    3600  -1.37e+03     35.3  -1.33e+03     18  [    0.807   -0.342   -2.796   -0.230 ...]\n",
      "    3700  -1.36e+03     35.7  -1.33e+03     18  [    0.714   -0.231   -2.996   -0.220 ...]\n",
      "    3800  -1.36e+03     36.4  -1.32e+03     18  [    0.222   -0.356   -0.894   -0.437 ...]\n",
      "    3900  -1.36e+03     37.1  -1.32e+03     18  [    0.236   -0.307   -0.952   -0.544 ...]\n",
      "    4000  -1.36e+03     37.8  -1.32e+03     18  [    0.170   -0.220   -0.842   -0.533 ...]\n",
      "    4100  -1.36e+03     38.4  -1.32e+03     18  [    0.182   -0.256   -0.880   -0.486 ...]\n",
      "    4200  -1.36e+03     38.8  -1.32e+03     18  [    0.157   -0.238   -0.987   -0.413 ...]\n",
      "    4300  -1.36e+03     39.1  -1.32e+03     18  [    0.285   -0.313   -1.045   -0.424 ...]\n",
      "    4400  -1.36e+03     39.4  -1.32e+03     18  [    0.231   -0.386   -0.879   -0.491 ...]\n",
      "    4500  -1.36e+03     39.6  -1.32e+03     18  [    0.125   -0.305   -1.062   -0.415 ...]\n",
      "    4600  -1.36e+03     39.8  -1.32e+03     18  [    0.202   -0.383   -0.728   -0.480 ...]\n",
      "    4700  -1.36e+03     40.0  -1.32e+03     18  [    0.084   -0.492   -0.688   -0.509 ...]\n",
      "    4800  -1.36e+03     40.1  -1.31e+03     18  [    0.239   -0.406   -0.936   -0.430 ...]\n",
      "    4900  -1.36e+03     40.2  -1.31e+03     18  [    0.086   -0.379   -0.714   -0.477 ...]\n",
      "    5000  -1.36e+03     40.2  -1.31e+03     18  [    0.148   -0.408   -0.807   -0.420 ...]\n",
      "    5100  -1.36e+03     40.3  -1.31e+03     18  [    0.223   -0.434   -0.887   -0.428 ...]\n",
      "    5200  -1.36e+03     40.3  -1.31e+03     18  [    0.277   -0.452   -0.988   -0.416 ...]\n",
      "    5300  -1.36e+03     40.3  -1.31e+03     18  [    0.243   -0.418   -0.865   -0.400 ...]\n",
      "    5400  -1.36e+03     40.3  -1.31e+03     18  [    0.168   -0.471   -0.981   -0.341 ...]\n",
      "    5500  -1.36e+03     40.3  -1.31e+03     18  [    0.225   -0.452   -1.216   -0.397 ...]\n",
      "    5600  -1.36e+03     40.3  -1.31e+03     18  [    0.165   -0.455   -1.019   -0.400 ...]\n",
      "    5700  -1.36e+03     40.3  -1.31e+03     18  [    0.136   -0.456   -1.123   -0.365 ...]\n",
      "    5800  -1.36e+03     40.3  -1.31e+03     18  [    0.180   -0.424   -1.019   -0.382 ...]\n",
      "    5900  -1.36e+03     40.3  -1.31e+03     18  [    0.147   -0.479   -1.074   -0.305 ...]\n",
      "    6000  -1.36e+03     40.3  -1.31e+03     18  [    0.105   -0.456   -1.006   -0.315 ...]\n",
      "    6100  -1.36e+03     40.3  -1.31e+03     18  [    0.143   -0.468   -1.045   -0.308 ...]\n",
      "    6200  -1.36e+03     40.3  -1.31e+03     18  [    0.112   -0.511   -1.096   -0.322 ...]\n",
      "    6300  -1.36e+03     40.3  -1.31e+03     18  [    0.081   -0.477   -1.049   -0.264 ...]\n",
      "    6400  -1.36e+03     40.3  -1.31e+03     18  [    0.061   -0.462   -1.066   -0.363 ...]\n",
      "    6500  -1.36e+03     40.3  -1.31e+03     18  [    0.087   -0.460   -1.076   -0.366 ...]\n",
      "    6600  -1.36e+03     40.3  -1.31e+03     18  [    0.111   -0.489   -1.128   -0.293 ...]\n",
      "    6700  -1.36e+03     40.3  -1.31e+03     18  [    0.121   -0.504   -1.128   -0.311 ...]\n",
      "    6800  -1.36e+03     40.3  -1.31e+03     18  [    0.088   -0.475   -1.022   -0.277 ...]\n",
      "    6900  -1.36e+03     40.3  -1.31e+03     18  [    0.115   -0.477   -1.048   -0.264 ...]\n",
      "    7000  -1.36e+03     40.3  -1.31e+03     18  [    0.092   -0.488   -1.049   -0.285 ...]\n",
      "    7100  -1.36e+03     40.3  -1.31e+03     18  [    0.123   -0.491   -1.140   -0.303 ...]\n",
      "    7200  -1.36e+03     40.3  -1.31e+03     18  [    0.116   -0.486   -1.162   -0.308 ...]\n",
      "    7300  -1.36e+03     40.3  -1.31e+03     18  [    0.095   -0.459   -1.010   -0.266 ...]\n",
      "    7400  -1.36e+03     40.3  -1.31e+03     18  [    0.134   -0.504   -1.147   -0.315 ...]\n",
      "    7500  -1.36e+03     40.3  -1.31e+03     18  [    0.110   -0.496   -1.141   -0.304 ...]\n",
      "    7600  -1.36e+03     40.3  -1.31e+03     18  [    0.143   -0.496   -1.107   -0.310 ...]\n",
      "    7700  -1.36e+03     40.3  -1.31e+03     18  [    0.132   -0.493   -1.128   -0.318 ...]\n",
      "    7800  -1.36e+03     40.3  -1.31e+03     18  [    0.027   -0.497   -1.156   -0.317 ...]\n",
      "    7900  -1.36e+03     40.3  -1.31e+03     18  [    0.040   -0.501   -1.126   -0.311 ...]\n",
      "    8000  -1.36e+03     40.3  -1.31e+03     18  [    0.029   -0.502   -1.155   -0.316 ...]\n",
      "    8063  -1.36e+03     40.3  -1.31e+03     18 \n",
      "[    0.084   -0.511   -1.165   -0.303   -0.284    0.674   -0.108    0.497    2.325   -0.822    5.118   -0.894   -0.580\n",
      "     1.219   -0.069    0.452    8.484    0.230]\n",
      "Engines              success     reject     failed       best      calls\n",
      "GalileanEngine         54410      21043      27947          0       9157\n",
      "ChordEngine            64156     212486          0          0       9157\n",
      "Calls to LogL         380042   to dLogL      21043\n",
      "Samples        8163\n",
      "Evidence      -590.199 +-      0.276\n"
     ]
    }
   ],
   "source": [
    "ns = NestedSampler( problem=problem, distribution=\"bernoulli\", verbose=2 )\n",
    "\n",
    "loge = ns.sample()"
   ]
  },
  {
   "cell_type": "code",
   "execution_count": 24,
   "metadata": {},
   "outputs": [
    {
     "name": "stdout",
     "output_type": "stream",
     "text": [
      "(17898, 2)\n"
     ]
    }
   ],
   "source": [
    "sl = ns.samples\n",
    "pars = sl[-1].parameters\n",
    "yfit = mdl.result( xdat, pars )\n",
    "print( yfit.shape )\n",
    "yfit = yfit[:,1]"
   ]
  },
  {
   "cell_type": "markdown",
   "metadata": {},
   "source": [
    "As there are only 2 outputs yfit1 is the reverse of yfit2 (= 1 - yfit1 )"
   ]
  },
  {
   "cell_type": "code",
   "execution_count": 25,
   "metadata": {},
   "outputs": [
    {
     "name": "stdout",
     "output_type": "stream",
     "text": [
      "[12186 14049 13504 ...  4422   537  9937]\n"
     ]
    },
    {
     "data": {
      "image/png": "[encoded data removed]",
      "text/plain": [
       "<Figure size 864x576 with 1 Axes>"
      ]
     },
     "metadata": {
      "needs_background": "light"
     },
     "output_type": "display_data"
    }
   ],
   "source": [
    "\n",
    "#yfit = ns.yfit\n",
    "kst = numpy.argsort( yfit )\n",
    "yf = yfit[kst]\n",
    "yy = y[kst]\n",
    "\n",
    "print( kst )\n",
    "q = numpy.where( ( yy == 0 ) & ( yf > 0.6 ) )\n",
    "\n",
    "xx = numpy.arange( len( y ) )\n",
    "plt.figure( 1, figsize=[12,8] )\n",
    "col = ['k.','r.','g.','b.','c.','m.','y.'] \n",
    "plt.plot( xx, yf, 'g-' )\n",
    "plt.plot( xx, yy, 'k,')\n",
    "plt.plot( q[0], yy[q], 'r,' )\n",
    "plt.plot( q[0], yf[q], 'r.' )\n",
    "plt.show()\n"
   ]
  },
  {
   "cell_type": "markdown",
   "metadata": {},
   "source": [
    "The separation between pulsars and noise is not perfect, based on the data at hand.\n",
    "\n",
    "One might surmise that the red dots might be pulsars too, in stead of noise. "
   ]
  }
 ],
 "metadata": {
  "kernelspec": {
   "display_name": "Python 3 (ipykernel)",
   "language": "python",
   "name": "python3"
  },
  "language_info": {
   "codemirror_mode": {
    "name": "ipython",
    "version": 3
   },
   "file_extension": ".py",
   "mimetype": "text/x-python",
   "name": "python",
   "nbconvert_exporter": "python",
   "pygments_lexer": "ipython3",
   "version": "3.8.12"
  }
 },
 "nbformat": 4,
 "nbformat_minor": 2
}
