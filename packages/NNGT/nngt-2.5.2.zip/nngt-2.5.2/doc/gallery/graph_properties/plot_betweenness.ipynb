{
  "cells": [
    {
      "cell_type": "code",
      "execution_count": null,
      "metadata": {
        "collapsed": false
      },
      "outputs": [],
      "source": [
        "%matplotlib inline"
      ]
    },
    {
      "cell_type": "markdown",
      "metadata": {},
      "source": [
        "\n# Plot the betweenness distributions of a graph\n"
      ]
    },
    {
      "cell_type": "code",
      "execution_count": null,
      "metadata": {
        "collapsed": false
      },
      "outputs": [],
      "source": [
        "import nngt\nimport nngt.plot as nplt\nfrom nngt.geometry import Shape\n\nimport matplotlib.pyplot as plt\n\nplt.rcParams.update({\n    'axes.edgecolor': 'grey', 'xtick.color': 'grey', 'ytick.color': 'grey',\n    \"figure.facecolor\": (0, 0, 0, 0), \"axes.facecolor\": (0, 0, 0, 0),\n    \"axes.labelcolor\": \"grey\", \"text.color\": \"grey\", \"legend.facecolor\": \"none\"\n})\n\n\nnngt.seed(0)"
      ]
    },
    {
      "cell_type": "markdown",
      "metadata": {},
      "source": [
        "Let's start by making a random exponential graph\n\n"
      ]
    },
    {
      "cell_type": "code",
      "execution_count": null,
      "metadata": {
        "collapsed": false
      },
      "outputs": [],
      "source": [
        "shape = Shape.disk(100)\n\ng = nngt.generation.distance_rule(5, shape=shape, nodes=1000, avg_deg=3)"
      ]
    },
    {
      "cell_type": "markdown",
      "metadata": {},
      "source": [
        "then we can plot the betweenness\n\n"
      ]
    },
    {
      "cell_type": "code",
      "execution_count": null,
      "metadata": {
        "collapsed": false
      },
      "outputs": [],
      "source": [
        "nplt.betweenness_distribution(g, logx=True, show=True, legend_location='left')"
      ]
    },
    {
      "cell_type": "markdown",
      "metadata": {},
      "source": [
        "we can of course change various parameters and plot only the nodes\n\n"
      ]
    },
    {
      "cell_type": "code",
      "execution_count": null,
      "metadata": {
        "collapsed": false
      },
      "outputs": [],
      "source": [
        "nplt.betweenness_distribution(g, logx=False, show=True)\n\nnplt.betweenness_distribution(g, btype=\"node\", num_nbins=\"auto\", alpha=0.5,\n                              show=True)"
      ]
    },
    {
      "cell_type": "markdown",
      "metadata": {},
      "source": [
        "By the way, this is the graph we're looking at\n\n"
      ]
    },
    {
      "cell_type": "code",
      "execution_count": null,
      "metadata": {
        "collapsed": false
      },
      "outputs": [],
      "source": [
        "nplt.draw_network(g, max_nsize=5, max_esize=4, ecolor=\"grey\", eborder_color=\"w\",\n                  curved_edges=True, show_environment=False, show=True)"
      ]
    }
  ],
  "metadata": {
    "kernelspec": {
      "display_name": "Python 3",
      "language": "python",
      "name": "python3"
    },
    "language_info": {
      "codemirror_mode": {
        "name": "ipython",
        "version": 3
      },
      "file_extension": ".py",
      "mimetype": "text/x-python",
      "name": "python",
      "nbconvert_exporter": "python",
      "pygments_lexer": "ipython3",
      "version": "3.9.7"
    }
  },
  "nbformat": 4,
  "nbformat_minor": 0
}