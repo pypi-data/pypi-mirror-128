{
 "cells": [
  {
   "cell_type": "markdown",
   "metadata": {},
   "source": [
    "#  Generating new quantities of interest.\n",
    "\n",
    "\n",
    "The [generated quantities block](https://mc-stan.org/docs/reference-manual/program-block-generated-quantities.html)\n",
    "computes quantities of interest based on the data,\n",
    "transformed data, parameters, and transformed parameters.\n",
    "It can be used to:\n",
    "\n",
    "-  generate simulated data for model testing by forward sampling\n",
    "-  generate predictions for new data\n",
    "-  calculate posterior event probabilities, including multiple\n",
    "   comparisons, sign tests, etc.\n",
    "-  calculating posterior expectations\n",
    "-  transform parameters for reporting\n",
    "-  apply full Bayesian decision theory\n",
    "-  calculate log likelihoods, deviances, etc. for model comparison"
   ]
  },
  {
   "cell_type": "markdown",
   "metadata": {},
   "source": [
    "## Example:  add posterior predictive checks to `bernoulli.stan`\n",
    "\n",
    "\n",
    "In this example we use the CmdStan example model [bernoulli.stan](https://github.com/stan-dev/cmdstanpy/blob/master/test/data/bernoulli.stan)\n",
    "and data file [bernoulli.data.json](https://github.com/stan-dev/cmdstanpy/blob/master/test/data/bernoulli.data.json) as our existing model and data.\n",
    "\n",
    "We instantiate the model `bernoulli`,\n",
    "as in the \"Hello World\" section\n",
    "of the CmdStanPy [tutorial](https://github.com/stan-dev/cmdstanpy/blob/develop/cmdstanpy_tutorial.ipynb) notebook."
   ]
  },
  {
   "cell_type": "code",
   "execution_count": 1,
   "metadata": {
    "execution": {
     "iopub.execute_input": "2021-11-18T20:34:37.290572Z",
     "iopub.status.busy": "2021-11-18T20:34:37.289629Z",
     "iopub.status.idle": "2021-11-18T20:34:37.639402Z",
     "shell.execute_reply": "2021-11-18T20:34:37.639848Z"
    }
   },
   "outputs": [
    {
     "name": "stderr",
     "output_type": "stream",
     "text": [
      "INFO:cmdstanpy:found newer exe file, not recompiling\n"
     ]
    },
    {
     "name": "stdout",
     "output_type": "stream",
     "text": [
      "data {\n",
      "  int<lower=0> N;\n",
      "  array[N] int<lower=0,upper=1> y; // or int<lower=0,upper=1> y[N];\n",
      "}\n",
      "parameters {\n",
      "  real<lower=0,upper=1> theta;\n",
      "}\n",
      "model {\n",
      "  theta ~ beta(1,1);  // uniform prior on interval 0,1\n",
      "  y ~ bernoulli(theta);\n",
      "}\n",
      "\n"
     ]
    }
   ],
   "source": [
    "import os\n",
    "from cmdstanpy import cmdstan_path, CmdStanModel, CmdStanMCMC, CmdStanGQ\n",
    "\n",
    "bernoulli_dir = os.path.join(cmdstan_path(), 'examples', 'bernoulli')\n",
    "stan_file = os.path.join(bernoulli_dir, 'bernoulli.stan')\n",
    "data_file = os.path.join(bernoulli_dir, 'bernoulli.data.json')\n",
    "\n",
    "# instantiate, compile bernoulli model\n",
    "model = CmdStanModel(stan_file=stan_file)\n",
    "print(model.code())"
   ]
  },
  {
   "cell_type": "markdown",
   "metadata": {},
   "source": [
    "The input data consists of `N` - the number of bernoulli trials and `y` - the list of observed outcomes.\n",
    "Inspection of the data shows that on average, there is a 20% chance of success for any given Bernoulli trial."
   ]
  },
  {
   "cell_type": "code",
   "execution_count": 2,
   "metadata": {
    "execution": {
     "iopub.execute_input": "2021-11-18T20:34:37.645760Z",
     "iopub.status.busy": "2021-11-18T20:34:37.645007Z",
     "iopub.status.idle": "2021-11-18T20:34:37.791545Z",
     "shell.execute_reply": "2021-11-18T20:34:37.790862Z"
    }
   },
   "outputs": [
    {
     "name": "stdout",
     "output_type": "stream",
     "text": [
      "{'N': 10, 'y': [0, 1, 0, 0, 0, 0, 0, 0, 0, 1]}\n",
      "mean of y: 0.2\n"
     ]
    }
   ],
   "source": [
    "# examine bernoulli data\n",
    "import ujson\n",
    "import statistics\n",
    "with open(data_file,'r') as fp:\n",
    "    data_dict = ujson.load(fp)\n",
    "print(data_dict)\n",
    "print('mean of y: {}'.format(statistics.mean(data_dict['y'])))"
   ]
  },
  {
   "cell_type": "markdown",
   "metadata": {},
   "source": [
    "As in the \"Hello World\" tutorial, we produce a sample from the posterior of the model conditioned on the data:"
   ]
  },
  {
   "cell_type": "code",
   "execution_count": 3,
   "metadata": {
    "execution": {
     "iopub.execute_input": "2021-11-18T20:34:37.800213Z",
     "iopub.status.busy": "2021-11-18T20:34:37.799189Z",
     "iopub.status.idle": "2021-11-18T20:34:37.914931Z",
     "shell.execute_reply": "2021-11-18T20:34:37.915345Z"
    }
   },
   "outputs": [
    {
     "name": "stderr",
     "output_type": "stream",
     "text": [
      "INFO:cmdstanpy:CmdStan start procesing\n"
     ]
    },
    {
     "name": "stderr",
     "output_type": "stream",
     "text": [
      "ERROR:cmdstanpy:Error in progress bar initialization:\n",
      "\tIProgress not found. Please update jupyter and ipywidgets. See https://ipywidgets.readthedocs.io/en/stable/user_install.html\n",
      "Disabling progress bars for this session\n"
     ]
    },
    {
     "name": "stderr",
     "output_type": "stream",
     "text": [
      "Exception ignored in: <function tqdm.__del__ at 0x7f7ff8f67a60>\n",
      "Traceback (most recent call last):\n",
      "  File \"/opt/hostedtoolcache/Python/3.9.8/x64/lib/python3.9/site-packages/tqdm/std.py\", line 1147, in __del__\n",
      "    self.close()\n",
      "  File \"/opt/hostedtoolcache/Python/3.9.8/x64/lib/python3.9/site-packages/tqdm/notebook.py\", line 286, in close\n",
      "    self.disp(bar_style='danger', check_delay=False)\n",
      "AttributeError: 'tqdm' object has no attribute 'disp'\n"
     ]
    },
    {
     "name": "stdout",
     "output_type": "stream",
     "text": [
      "                                                                                "
     ]
    },
    {
     "name": "stdout",
     "output_type": "stream",
     "text": [
      "                                                                                "
     ]
    },
    {
     "name": "stdout",
     "output_type": "stream",
     "text": [
      "                                                                                "
     ]
    },
    {
     "name": "stdout",
     "output_type": "stream",
     "text": [
      "                                                                                "
     ]
    },
    {
     "name": "stderr",
     "output_type": "stream",
     "text": [
      "INFO:cmdstanpy:CmdStan done processing.\n"
     ]
    },
    {
     "name": "stdout",
     "output_type": "stream",
     "text": [
      "\n"
     ]
    }
   ],
   "source": [
    "# fit the model to the data\n",
    "fit = model.sample(data=data_file)"
   ]
  },
  {
   "cell_type": "markdown",
   "metadata": {},
   "source": [
    "The fitted model produces an estimate of `theta` - the chance of success"
   ]
  },
  {
   "cell_type": "code",
   "execution_count": 4,
   "metadata": {
    "execution": {
     "iopub.execute_input": "2021-11-18T20:34:37.920457Z",
     "iopub.status.busy": "2021-11-18T20:34:37.919909Z",
     "iopub.status.idle": "2021-11-18T20:34:37.998823Z",
     "shell.execute_reply": "2021-11-18T20:34:37.999310Z"
    }
   },
   "outputs": [
    {
     "data": {
      "text/html": [
       "<div>\n",
       "<style scoped>\n",
       "    .dataframe tbody tr th:only-of-type {\n",
       "        vertical-align: middle;\n",
       "    }\n",
       "\n",
       "    .dataframe tbody tr th {\n",
       "        vertical-align: top;\n",
       "    }\n",
       "\n",
       "    .dataframe thead th {\n",
       "        text-align: right;\n",
       "    }\n",
       "</style>\n",
       "<table border=\"1\" class=\"dataframe\">\n",
       "  <thead>\n",
       "    <tr style=\"text-align: right;\">\n",
       "      <th></th>\n",
       "      <th>Mean</th>\n",
       "      <th>MCSE</th>\n",
       "      <th>StdDev</th>\n",
       "      <th>5%</th>\n",
       "      <th>50%</th>\n",
       "      <th>95%</th>\n",
       "      <th>N_Eff</th>\n",
       "      <th>N_Eff/s</th>\n",
       "      <th>R_hat</th>\n",
       "    </tr>\n",
       "    <tr>\n",
       "      <th>name</th>\n",
       "      <th></th>\n",
       "      <th></th>\n",
       "      <th></th>\n",
       "      <th></th>\n",
       "      <th></th>\n",
       "      <th></th>\n",
       "      <th></th>\n",
       "      <th></th>\n",
       "      <th></th>\n",
       "    </tr>\n",
       "  </thead>\n",
       "  <tbody>\n",
       "    <tr>\n",
       "      <th>lp__</th>\n",
       "      <td>-7.30</td>\n",
       "      <td>0.018</td>\n",
       "      <td>0.72</td>\n",
       "      <td>-8.80</td>\n",
       "      <td>-7.00</td>\n",
       "      <td>-6.70</td>\n",
       "      <td>1600.0</td>\n",
       "      <td>28000.0</td>\n",
       "      <td>1.0</td>\n",
       "    </tr>\n",
       "    <tr>\n",
       "      <th>theta</th>\n",
       "      <td>0.25</td>\n",
       "      <td>0.003</td>\n",
       "      <td>0.12</td>\n",
       "      <td>0.08</td>\n",
       "      <td>0.23</td>\n",
       "      <td>0.47</td>\n",
       "      <td>1600.0</td>\n",
       "      <td>28000.0</td>\n",
       "      <td>1.0</td>\n",
       "    </tr>\n",
       "  </tbody>\n",
       "</table>\n",
       "</div>"
      ],
      "text/plain": [
       "       Mean   MCSE  StdDev    5%   50%   95%   N_Eff  N_Eff/s  R_hat\n",
       "name                                                                \n",
       "lp__  -7.30  0.018    0.72 -8.80 -7.00 -6.70  1600.0  28000.0    1.0\n",
       "theta  0.25  0.003    0.12  0.08  0.23  0.47  1600.0  28000.0    1.0"
      ]
     },
     "execution_count": 4,
     "metadata": {},
     "output_type": "execute_result"
    }
   ],
   "source": [
    "fit.summary()"
   ]
  },
  {
   "cell_type": "markdown",
   "metadata": {},
   "source": [
    "To run a prior predictive check, we add a `generated quantities` block to the model, in which we generate a new data vector `y_rep` using the current estimate of theta.  The resulting model is in file [bernoulli_ppc.stan](https://github.com/stan-dev/cmdstanpy/blob/master/test/data/bernoulli_ppc.stan)"
   ]
  },
  {
   "cell_type": "code",
   "execution_count": 5,
   "metadata": {
    "execution": {
     "iopub.execute_input": "2021-11-18T20:34:38.004147Z",
     "iopub.status.busy": "2021-11-18T20:34:38.003602Z",
     "iopub.status.idle": "2021-11-18T20:34:46.294069Z",
     "shell.execute_reply": "2021-11-18T20:34:46.293580Z"
    }
   },
   "outputs": [
    {
     "name": "stderr",
     "output_type": "stream",
     "text": [
      "INFO:cmdstanpy:compiling stan file /home/runner/work/cmdstanpy/cmdstanpy/docsrc/examples/bernoulli_ppc.stan to exe file /home/runner/work/cmdstanpy/cmdstanpy/docsrc/examples/bernoulli_ppc\n"
     ]
    },
    {
     "name": "stderr",
     "output_type": "stream",
     "text": [
      "INFO:cmdstanpy:compiled model executable: /home/runner/work/cmdstanpy/cmdstanpy/docsrc/examples/bernoulli_ppc\n"
     ]
    },
    {
     "name": "stdout",
     "output_type": "stream",
     "text": [
      "data { \n",
      "  int<lower=0> N; \n",
      "  int<lower=0,upper=1> y[N];\n",
      "} \n",
      "parameters {\n",
      "  real<lower=0,upper=1> theta;\n",
      "} \n",
      "model {\n",
      "  theta ~ beta(1,1);\n",
      "  y ~ bernoulli(theta);\n",
      "}\n",
      "generated quantities {\n",
      "  int y_rep[N];\n",
      "  for (n in 1:N)\n",
      "    y_rep[n] = bernoulli_rng(theta);\n",
      "}\n",
      "\n"
     ]
    }
   ],
   "source": [
    "model_ppc = CmdStanModel(stan_file='bernoulli_ppc.stan')\n",
    "print(model_ppc.code())"
   ]
  },
  {
   "cell_type": "markdown",
   "metadata": {},
   "source": [
    "We run the `generate_quantities` method on `bernoulli_ppc` using existing sample `fit` as input.  The `generate_quantities` method takes the values of `theta` in the `fit` sample as the set of draws from the posterior used to generate the corresponsing `y_rep` quantities of interest.\n",
    "\n",
    "The arguments to the `generate_quantities` method are:\n",
    " + `data`  - the data used to fit the model\n",
    " + `mcmc_sample` - either a `CmdStanMCMC` object or a list of stan-csv files\n"
   ]
  },
  {
   "cell_type": "code",
   "execution_count": 6,
   "metadata": {
    "execution": {
     "iopub.execute_input": "2021-11-18T20:34:46.299546Z",
     "iopub.status.busy": "2021-11-18T20:34:46.299011Z",
     "iopub.status.idle": "2021-11-18T20:34:46.404115Z",
     "shell.execute_reply": "2021-11-18T20:34:46.403629Z"
    }
   },
   "outputs": [
    {
     "name": "stderr",
     "output_type": "stream",
     "text": [
      "INFO:cmdstanpy:Chain [1] start processing\n"
     ]
    },
    {
     "name": "stderr",
     "output_type": "stream",
     "text": [
      "INFO:cmdstanpy:Chain [1] done processing\n"
     ]
    },
    {
     "name": "stderr",
     "output_type": "stream",
     "text": [
      "INFO:cmdstanpy:Chain [2] start processing\n"
     ]
    },
    {
     "name": "stderr",
     "output_type": "stream",
     "text": [
      "INFO:cmdstanpy:Chain [2] done processing\n"
     ]
    },
    {
     "name": "stderr",
     "output_type": "stream",
     "text": [
      "INFO:cmdstanpy:Chain [3] start processing\n"
     ]
    },
    {
     "name": "stderr",
     "output_type": "stream",
     "text": [
      "INFO:cmdstanpy:Chain [3] done processing\n"
     ]
    },
    {
     "name": "stderr",
     "output_type": "stream",
     "text": [
      "INFO:cmdstanpy:Chain [4] start processing\n"
     ]
    },
    {
     "name": "stderr",
     "output_type": "stream",
     "text": [
      "INFO:cmdstanpy:Chain [4] done processing\n"
     ]
    }
   ],
   "source": [
    "new_quantities = model_ppc.generate_quantities(data=data_file, mcmc_sample=fit)"
   ]
  },
  {
   "cell_type": "markdown",
   "metadata": {},
   "source": [
    "The `generate_quantities` method returns a `CmdStanGQ` object which contains the values for all variables in the generated quantitites block of the program ``bernoulli_ppc.stan``.  Unlike the output from the ``sample`` method, it doesn't contain any information on the joint log probability density, sampler state, or parameters or transformed parameter values.\n",
    "\n",
    "In this example, each draw consists of the N-length array of replicate of the `bernoulli` model's input variable  `y`, which is an N-length array of Bernoulli outcomes."
   ]
  },
  {
   "cell_type": "code",
   "execution_count": 7,
   "metadata": {
    "execution": {
     "iopub.execute_input": "2021-11-18T20:34:46.413557Z",
     "iopub.status.busy": "2021-11-18T20:34:46.408463Z",
     "iopub.status.idle": "2021-11-18T20:34:46.477100Z",
     "shell.execute_reply": "2021-11-18T20:34:46.476439Z"
    }
   },
   "outputs": [
    {
     "name": "stdout",
     "output_type": "stream",
     "text": [
      "(1000, 4, 10) ('y_rep[1]', 'y_rep[2]', 'y_rep[3]', 'y_rep[4]', 'y_rep[5]', 'y_rep[6]', 'y_rep[7]', 'y_rep[8]', 'y_rep[9]', 'y_rep[10]')\n",
      "[[0. 1. 1. 1. 1. 1. 1. 0. 0. 0.]\n",
      " [0. 1. 0. 1. 1. 1. 1. 0. 0. 0.]\n",
      " [0. 1. 1. 1. 1. 1. 1. 0. 1. 0.]\n",
      " [0. 1. 0. 1. 1. 1. 1. 0. 0. 0.]]\n",
      "[[1. 0. 0. 0. 0. 0. 1. 0. 0. 0.]\n",
      " [0. 0. 0. 0. 0. 0. 1. 0. 0. 0.]\n",
      " [0. 0. 0. 0. 0. 0. 1. 0. 0. 0.]\n",
      " [0. 0. 0. 0. 0. 0. 1. 0. 0. 0.]]\n",
      "[[0. 1. 1. 1. 0. 0. 0. 1. 1. 1.]\n",
      " [0. 1. 1. 0. 0. 0. 0. 0. 0. 0.]\n",
      " [0. 1. 1. 0. 0. 0. 0. 0. 1. 1.]\n",
      " [0. 1. 1. 0. 0. 0. 0. 0. 0. 1.]]\n"
     ]
    }
   ],
   "source": [
    "print(new_quantities.draws().shape, new_quantities.column_names)\n",
    "for i in range(3):\n",
    "    print (new_quantities.draws()[i,:])"
   ]
  },
  {
   "cell_type": "markdown",
   "metadata": {},
   "source": [
    "We can also use ``draws_pd(inc_sample=True)`` to get a pandas DataFrame which combines the input drawset with the generated quantities."
   ]
  },
  {
   "cell_type": "code",
   "execution_count": 8,
   "metadata": {
    "execution": {
     "iopub.execute_input": "2021-11-18T20:34:46.527145Z",
     "iopub.status.busy": "2021-11-18T20:34:46.524959Z",
     "iopub.status.idle": "2021-11-18T20:34:46.548239Z",
     "shell.execute_reply": "2021-11-18T20:34:46.548687Z"
    }
   },
   "outputs": [
    {
     "name": "stdout",
     "output_type": "stream",
     "text": [
      "<class 'pandas.core.frame.DataFrame'> (4000, 18)\n"
     ]
    },
    {
     "data": {
      "text/html": [
       "<div>\n",
       "<style scoped>\n",
       "    .dataframe tbody tr th:only-of-type {\n",
       "        vertical-align: middle;\n",
       "    }\n",
       "\n",
       "    .dataframe tbody tr th {\n",
       "        vertical-align: top;\n",
       "    }\n",
       "\n",
       "    .dataframe thead th {\n",
       "        text-align: right;\n",
       "    }\n",
       "</style>\n",
       "<table border=\"1\" class=\"dataframe\">\n",
       "  <thead>\n",
       "    <tr style=\"text-align: right;\">\n",
       "      <th></th>\n",
       "      <th>0</th>\n",
       "      <th>1</th>\n",
       "      <th>2</th>\n",
       "      <th>3</th>\n",
       "      <th>4</th>\n",
       "      <th>5</th>\n",
       "      <th>6</th>\n",
       "      <th>7</th>\n",
       "      <th>8</th>\n",
       "      <th>9</th>\n",
       "      <th>10</th>\n",
       "      <th>11</th>\n",
       "      <th>12</th>\n",
       "      <th>13</th>\n",
       "      <th>14</th>\n",
       "      <th>15</th>\n",
       "      <th>16</th>\n",
       "      <th>17</th>\n",
       "    </tr>\n",
       "  </thead>\n",
       "  <tbody>\n",
       "    <tr>\n",
       "      <th>0</th>\n",
       "      <td>-6.75236</td>\n",
       "      <td>0.990882</td>\n",
       "      <td>1.22644</td>\n",
       "      <td>1.0</td>\n",
       "      <td>3.0</td>\n",
       "      <td>0.0</td>\n",
       "      <td>6.96518</td>\n",
       "      <td>0.238483</td>\n",
       "      <td>0.0</td>\n",
       "      <td>1.0</td>\n",
       "      <td>1.0</td>\n",
       "      <td>1.0</td>\n",
       "      <td>1.0</td>\n",
       "      <td>1.0</td>\n",
       "      <td>1.0</td>\n",
       "      <td>0.0</td>\n",
       "      <td>0.0</td>\n",
       "      <td>0.0</td>\n",
       "    </tr>\n",
       "    <tr>\n",
       "      <th>1</th>\n",
       "      <td>-6.93925</td>\n",
       "      <td>0.948820</td>\n",
       "      <td>1.22644</td>\n",
       "      <td>1.0</td>\n",
       "      <td>3.0</td>\n",
       "      <td>0.0</td>\n",
       "      <td>6.94860</td>\n",
       "      <td>0.332042</td>\n",
       "      <td>1.0</td>\n",
       "      <td>0.0</td>\n",
       "      <td>0.0</td>\n",
       "      <td>0.0</td>\n",
       "      <td>0.0</td>\n",
       "      <td>0.0</td>\n",
       "      <td>1.0</td>\n",
       "      <td>0.0</td>\n",
       "      <td>0.0</td>\n",
       "      <td>0.0</td>\n",
       "    </tr>\n",
       "    <tr>\n",
       "      <th>2</th>\n",
       "      <td>-6.99729</td>\n",
       "      <td>0.972893</td>\n",
       "      <td>1.22644</td>\n",
       "      <td>1.0</td>\n",
       "      <td>1.0</td>\n",
       "      <td>0.0</td>\n",
       "      <td>7.08133</td>\n",
       "      <td>0.344320</td>\n",
       "      <td>0.0</td>\n",
       "      <td>1.0</td>\n",
       "      <td>1.0</td>\n",
       "      <td>1.0</td>\n",
       "      <td>0.0</td>\n",
       "      <td>0.0</td>\n",
       "      <td>0.0</td>\n",
       "      <td>1.0</td>\n",
       "      <td>1.0</td>\n",
       "      <td>1.0</td>\n",
       "    </tr>\n",
       "  </tbody>\n",
       "</table>\n",
       "</div>"
      ],
      "text/plain": [
       "        0         1        2    3    4    5        6         7    8    9   \\\n",
       "0 -6.75236  0.990882  1.22644  1.0  3.0  0.0  6.96518  0.238483  0.0  1.0   \n",
       "1 -6.93925  0.948820  1.22644  1.0  3.0  0.0  6.94860  0.332042  1.0  0.0   \n",
       "2 -6.99729  0.972893  1.22644  1.0  1.0  0.0  7.08133  0.344320  0.0  1.0   \n",
       "\n",
       "    10   11   12   13   14   15   16   17  \n",
       "0  1.0  1.0  1.0  1.0  1.0  0.0  0.0  0.0  \n",
       "1  0.0  0.0  0.0  0.0  1.0  0.0  0.0  0.0  \n",
       "2  1.0  1.0  0.0  0.0  0.0  1.0  1.0  1.0  "
      ]
     },
     "execution_count": 8,
     "metadata": {},
     "output_type": "execute_result"
    }
   ],
   "source": [
    "sample_plus = new_quantities.draws_pd(inc_sample=True)\n",
    "print(type(sample_plus),sample_plus.shape)\n",
    "names = list(sample_plus.columns.values[7:18])\n",
    "sample_plus.iloc[0:3, :]"
   ]
  },
  {
   "cell_type": "markdown",
   "metadata": {},
   "source": [
    "For models as simple as the bernoulli models here, it would be trivial to re-run the sampler and generate a new sample which contains both the estimate of the parameters `theta` as well as `y_rep` values. For models which are difficult to fit, i.e., when producing a sample is computationally expensive, the `generate_quantities` method is preferred."
   ]
  }
 ],
 "metadata": {
  "kernelspec": {
   "display_name": "Python 3",
   "language": "python",
   "name": "python3"
  },
  "language_info": {
   "codemirror_mode": {
    "name": "ipython",
    "version": 3
   },
   "file_extension": ".py",
   "mimetype": "text/x-python",
   "name": "python",
   "nbconvert_exporter": "python",
   "pygments_lexer": "ipython3",
   "version": "3.9.8"
  }
 },
 "nbformat": 4,
 "nbformat_minor": 4
}
