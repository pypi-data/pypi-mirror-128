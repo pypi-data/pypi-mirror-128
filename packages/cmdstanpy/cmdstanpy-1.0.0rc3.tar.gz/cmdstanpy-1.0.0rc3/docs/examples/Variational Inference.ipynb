{
 "cells": [
  {
   "cell_type": "markdown",
   "metadata": {},
   "source": [
    "#  Variational Inference in Stan\n",
    "\n",
    "Variational inference is a scalable technique for approximate Bayesian inference.\n",
    "Stan implements an automatic variational inference algorithm,\n",
    "called Automatic Differentiation Variational Inference (ADVI)\n",
    "which searches over a family of simple densities to find the best\n",
    "approximate posterior density.\n",
    "ADVI produces an estimate of the parameter means together with a sample\n",
    "from the approximate posterior density.\n",
    "\n",
    "ADVI approximates the variational objective function, the evidence lower bound or ELBO,\n",
    "using stochastic gradient ascent.\n",
    "The algorithm ascends these gradients using an adaptive stepsize sequence\n",
    "that has one parameter ``eta`` which is adjusted during warmup.\n",
    "The number of draws used to approximate the ELBO is denoted by ``elbo_samples``. \n",
    "ADVI heuristically determines a rolling window over which it computes\n",
    "the average and the median change of the ELBO.\n",
    "When this change falls below a threshold, denoted by ``tol_rel_obj``,\n",
    "the algorithm is considered to have converged."
   ]
  },
  {
   "cell_type": "markdown",
   "metadata": {},
   "source": [
    "### Example: variational inference for model ``bernoulli.stan``\n",
    "\n",
    "In CmdStanPy, the `CmdStanModel` class method `variational` invokes CmdStan with\n",
    "`method=variational` and returns an estimate of the approximate posterior\n",
    "mean of all model parameters as well as a set of draws from this approximate\n",
    "posterior."
   ]
  },
  {
   "cell_type": "code",
   "execution_count": 1,
   "metadata": {
    "execution": {
     "iopub.execute_input": "2021-11-18T20:35:06.624884Z",
     "iopub.status.busy": "2021-11-18T20:35:06.624362Z",
     "iopub.status.idle": "2021-11-18T20:35:07.016364Z",
     "shell.execute_reply": "2021-11-18T20:35:07.016799Z"
    }
   },
   "outputs": [
    {
     "name": "stderr",
     "output_type": "stream",
     "text": [
      "INFO:cmdstanpy:found newer exe file, not recompiling\n"
     ]
    },
    {
     "name": "stderr",
     "output_type": "stream",
     "text": [
      "INFO:cmdstanpy:Chain [1] start processing\n"
     ]
    },
    {
     "name": "stderr",
     "output_type": "stream",
     "text": [
      "INFO:cmdstanpy:Chain [1] done processing\n"
     ]
    }
   ],
   "source": [
    "import os\n",
    "from cmdstanpy.model import CmdStanModel\n",
    "from cmdstanpy.utils import cmdstan_path\n",
    "\n",
    "bernoulli_dir = os.path.join(cmdstan_path(), 'examples', 'bernoulli')\n",
    "stan_file = os.path.join(bernoulli_dir, 'bernoulli.stan')\n",
    "data_file = os.path.join(bernoulli_dir, 'bernoulli.data.json')\n",
    "# instantiate, compile bernoulli model\n",
    "model = CmdStanModel(stan_file=stan_file)\n",
    "# run CmdStan's variational inference method, returns object `CmdStanVB`\n",
    "vi = model.variational(data=data_file)"
   ]
  },
  {
   "cell_type": "markdown",
   "metadata": {},
   "source": [
    "The class [`CmdStanVB`](https://cmdstanpy.readthedocs.io/en/latest/api.html#stanvariational) provides the following properties to access information about the parameter names, estimated means, and the sample:\n",
    " + `column_names`\n",
    " + `variational_params_dict`\n",
    " + `variational_params_np`\n",
    " + `variational_params_pd`\n",
    " + `variational_sample`"
   ]
  },
  {
   "cell_type": "code",
   "execution_count": 2,
   "metadata": {
    "execution": {
     "iopub.execute_input": "2021-11-18T20:35:07.022442Z",
     "iopub.status.busy": "2021-11-18T20:35:07.021914Z",
     "iopub.status.idle": "2021-11-18T20:35:07.024903Z",
     "shell.execute_reply": "2021-11-18T20:35:07.025344Z"
    },
    "scrolled": true
   },
   "outputs": [
    {
     "name": "stdout",
     "output_type": "stream",
     "text": [
      "('lp__', 'log_p__', 'log_g__', 'theta')\n"
     ]
    }
   ],
   "source": [
    "print(vi.column_names)"
   ]
  },
  {
   "cell_type": "code",
   "execution_count": 3,
   "metadata": {
    "execution": {
     "iopub.execute_input": "2021-11-18T20:35:07.030777Z",
     "iopub.status.busy": "2021-11-18T20:35:07.029402Z",
     "iopub.status.idle": "2021-11-18T20:35:07.032750Z",
     "shell.execute_reply": "2021-11-18T20:35:07.032284Z"
    }
   },
   "outputs": [
    {
     "name": "stdout",
     "output_type": "stream",
     "text": [
      "0.20726\n"
     ]
    }
   ],
   "source": [
    "print(vi.variational_params_dict['theta'])"
   ]
  },
  {
   "cell_type": "code",
   "execution_count": 4,
   "metadata": {
    "execution": {
     "iopub.execute_input": "2021-11-18T20:35:07.037858Z",
     "iopub.status.busy": "2021-11-18T20:35:07.036612Z",
     "iopub.status.idle": "2021-11-18T20:35:07.039872Z",
     "shell.execute_reply": "2021-11-18T20:35:07.039401Z"
    }
   },
   "outputs": [
    {
     "name": "stdout",
     "output_type": "stream",
     "text": [
      "(1000, 4)\n"
     ]
    }
   ],
   "source": [
    "print(vi.variational_sample.shape)"
   ]
  },
  {
   "cell_type": "markdown",
   "metadata": {},
   "source": [
    "These estimates are only valid if the algorithm has converged to a good\n",
    "approximation. When the algorithm fails to do so, the `variational`\n",
    "method will throw a `RuntimeError`.\n"
   ]
  },
  {
   "cell_type": "code",
   "execution_count": 5,
   "metadata": {
    "execution": {
     "iopub.execute_input": "2021-11-18T20:35:07.043675Z",
     "iopub.status.busy": "2021-11-18T20:35:07.043139Z",
     "iopub.status.idle": "2021-11-18T20:35:19.414609Z",
     "shell.execute_reply": "2021-11-18T20:35:19.415424Z"
    }
   },
   "outputs": [
    {
     "name": "stderr",
     "output_type": "stream",
     "text": [
      "INFO:cmdstanpy:compiling stan file /home/runner/work/cmdstanpy/cmdstanpy/docsrc/examples/eta_should_fail.stan to exe file /home/runner/work/cmdstanpy/cmdstanpy/docsrc/examples/eta_should_fail\n"
     ]
    },
    {
     "name": "stderr",
     "output_type": "stream",
     "text": [
      "INFO:cmdstanpy:compiled model executable: /home/runner/work/cmdstanpy/cmdstanpy/docsrc/examples/eta_should_fail\n"
     ]
    },
    {
     "name": "stderr",
     "output_type": "stream",
     "text": [
      "INFO:cmdstanpy:Chain [1] start processing\n"
     ]
    },
    {
     "name": "stderr",
     "output_type": "stream",
     "text": [
      "INFO:cmdstanpy:Chain [1] done processing\n"
     ]
    },
    {
     "ename": "RuntimeError",
     "evalue": "The algorithm may not have converged.\nIf you would like to inspect the output, re-call with require_converged=False",
     "output_type": "error",
     "traceback": [
      "\u001b[0;31m---------------------------------------------------------------------------\u001b[0m",
      "\u001b[0;31mRuntimeError\u001b[0m                              Traceback (most recent call last)",
      "\u001b[0;32m/tmp/ipykernel_4177/1235282617.py\u001b[0m in \u001b[0;36m<module>\u001b[0;34m\u001b[0m\n\u001b[1;32m      1\u001b[0m \u001b[0mmodel_fail\u001b[0m \u001b[0;34m=\u001b[0m \u001b[0mCmdStanModel\u001b[0m\u001b[0;34m(\u001b[0m\u001b[0mstan_file\u001b[0m\u001b[0;34m=\u001b[0m\u001b[0;34m'eta_should_fail.stan'\u001b[0m\u001b[0;34m)\u001b[0m\u001b[0;34m\u001b[0m\u001b[0;34m\u001b[0m\u001b[0m\n\u001b[0;32m----> 2\u001b[0;31m \u001b[0mvi_fail\u001b[0m \u001b[0;34m=\u001b[0m \u001b[0mmodel_fail\u001b[0m\u001b[0;34m.\u001b[0m\u001b[0mvariational\u001b[0m\u001b[0;34m(\u001b[0m\u001b[0;34m)\u001b[0m\u001b[0;34m\u001b[0m\u001b[0;34m\u001b[0m\u001b[0m\n\u001b[0m",
      "\u001b[0;32m~/work/cmdstanpy/cmdstanpy/cmdstanpy/model.py\u001b[0m in \u001b[0;36mvariational\u001b[0;34m(self, data, seed, inits, output_dir, sig_figs, save_latent_dynamics, save_profile, algorithm, iter, grad_samples, elbo_samples, eta, adapt_engaged, adapt_iter, tol_rel_obj, eval_elbo, output_samples, require_converged, show_console, refresh, time_fmt)\u001b[0m\n\u001b[1;32m   1388\u001b[0m         \u001b[0;32mif\u001b[0m \u001b[0mlen\u001b[0m\u001b[0;34m(\u001b[0m\u001b[0mre\u001b[0m\u001b[0;34m.\u001b[0m\u001b[0mfindall\u001b[0m\u001b[0;34m(\u001b[0m\u001b[0mpat\u001b[0m\u001b[0;34m,\u001b[0m \u001b[0mcontents\u001b[0m\u001b[0;34m)\u001b[0m\u001b[0;34m)\u001b[0m \u001b[0;34m>\u001b[0m \u001b[0;36m0\u001b[0m\u001b[0;34m:\u001b[0m\u001b[0;34m\u001b[0m\u001b[0;34m\u001b[0m\u001b[0m\n\u001b[1;32m   1389\u001b[0m             \u001b[0;32mif\u001b[0m \u001b[0mrequire_converged\u001b[0m\u001b[0;34m:\u001b[0m\u001b[0;34m\u001b[0m\u001b[0;34m\u001b[0m\u001b[0m\n\u001b[0;32m-> 1390\u001b[0;31m                 raise RuntimeError(\n\u001b[0m\u001b[1;32m   1391\u001b[0m                     \u001b[0;34m'The algorithm may not have converged.\\n'\u001b[0m\u001b[0;34m\u001b[0m\u001b[0;34m\u001b[0m\u001b[0m\n\u001b[1;32m   1392\u001b[0m                     \u001b[0;34m'If you would like to inspect the output, '\u001b[0m\u001b[0;34m\u001b[0m\u001b[0;34m\u001b[0m\u001b[0m\n",
      "\u001b[0;31mRuntimeError\u001b[0m: The algorithm may not have converged.\nIf you would like to inspect the output, re-call with require_converged=False"
     ]
    }
   ],
   "source": [
    "model_fail = CmdStanModel(stan_file='eta_should_fail.stan')\n",
    "vi_fail = model_fail.variational()"
   ]
  },
  {
   "cell_type": "markdown",
   "metadata": {},
   "source": [
    "Unless you set `require_converged=False`:"
   ]
  },
  {
   "cell_type": "code",
   "execution_count": 6,
   "metadata": {
    "execution": {
     "iopub.execute_input": "2021-11-18T20:35:19.421002Z",
     "iopub.status.busy": "2021-11-18T20:35:19.420470Z",
     "iopub.status.idle": "2021-11-18T20:35:19.486344Z",
     "shell.execute_reply": "2021-11-18T20:35:19.485847Z"
    }
   },
   "outputs": [
    {
     "name": "stderr",
     "output_type": "stream",
     "text": [
      "INFO:cmdstanpy:Chain [1] start processing\n"
     ]
    },
    {
     "name": "stderr",
     "output_type": "stream",
     "text": [
      "INFO:cmdstanpy:Chain [1] done processing\n"
     ]
    },
    {
     "name": "stderr",
     "output_type": "stream",
     "text": [
      "WARNING:cmdstanpy:The algorithm may not have converged.\n",
      "Proceeding because require_converged is set to False\n"
     ]
    }
   ],
   "source": [
    "vi_fail = model_fail.variational(require_converged=False)"
   ]
  },
  {
   "cell_type": "markdown",
   "metadata": {},
   "source": [
    "This lets you inspect the output to try to diagnose the issue with the model"
   ]
  },
  {
   "cell_type": "code",
   "execution_count": 7,
   "metadata": {
    "execution": {
     "iopub.execute_input": "2021-11-18T20:35:19.497839Z",
     "iopub.status.busy": "2021-11-18T20:35:19.497299Z",
     "iopub.status.idle": "2021-11-18T20:35:19.503625Z",
     "shell.execute_reply": "2021-11-18T20:35:19.502879Z"
    }
   },
   "outputs": [
    {
     "data": {
      "text/plain": [
       "OrderedDict([('lp__', 0.0),\n",
       "             ('log_p__', 0.0),\n",
       "             ('log_g__', 0.0),\n",
       "             ('mu[1]', 0.0372992),\n",
       "             ('mu[2]', -0.0687951)])"
      ]
     },
     "execution_count": 7,
     "metadata": {},
     "output_type": "execute_result"
    }
   ],
   "source": [
    "vi_fail.variational_params_dict"
   ]
  },
  {
   "cell_type": "markdown",
   "metadata": {},
   "source": [
    "See the [api docs](https://cmdstanpy.readthedocs.io/en/latest/api.html), section [`CmdStanModel.variational`](https://cmdstanpy.readthedocs.io/en/latest/api.html#cmdstanpy.CmdStanModel.variational) for a full description of all arguments."
   ]
  }
 ],
 "metadata": {
  "kernelspec": {
   "display_name": "Python 3",
   "language": "python",
   "name": "python3"
  },
  "language_info": {
   "codemirror_mode": {
    "name": "ipython",
    "version": 3
   },
   "file_extension": ".py",
   "mimetype": "text/x-python",
   "name": "python",
   "nbconvert_exporter": "python",
   "pygments_lexer": "ipython3",
   "version": "3.9.8"
  }
 },
 "nbformat": 4,
 "nbformat_minor": 4
}
