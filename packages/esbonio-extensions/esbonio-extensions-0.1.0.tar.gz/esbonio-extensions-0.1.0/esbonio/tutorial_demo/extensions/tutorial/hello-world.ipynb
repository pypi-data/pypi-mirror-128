{
 "cells": [
  {
   "cell_type": "markdown",
   "id": "hello-world",
   "metadata": {},
   "source": [
    "\n",
    "# Hello World\n",
    "\n",
    "Here is how you print the string `Hello, World!` in Python:\n"
   ]
  },
  {
   "cell_type": "code",
   "execution_count": null,
   "id": "370a8e42",
   "metadata": {},
   "outputs": [],
   "source": [
    "print(\"Hello, World!\")"
   ]
  }
 ],
 "metadata": {},
 "nbformat": 4,
 "nbformat_minor": 5
}