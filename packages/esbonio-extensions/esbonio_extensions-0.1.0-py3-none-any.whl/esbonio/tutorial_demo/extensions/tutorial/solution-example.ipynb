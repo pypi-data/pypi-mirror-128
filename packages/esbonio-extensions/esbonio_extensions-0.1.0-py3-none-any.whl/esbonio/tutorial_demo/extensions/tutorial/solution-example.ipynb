{
 "cells": [
  {
   "cell_type": "markdown",
   "id": "solution-example",
   "metadata": {},
   "source": [
    "\n",
    "# Solution Example\n",
    "\n",
    "This is an example of how to write a tutorial that includes solutions\n",
    "\n",
    "[`sorted()`](https://docs.python.org/3/library/functions.html#sorted) is a function that can be used to sort a list of items:\n"
   ]
  },
  {
   "cell_type": "code",
   "execution_count": null,
   "id": "72918547",
   "metadata": {},
   "outputs": [],
   "source": [
    "nums = [5, 3, 8, -23, 11, 2, 1]\n",
    "sorted(nums)"
   ]
  },
  {
   "cell_type": "markdown",
   "id": "bd4de53d",
   "metadata": {},
   "source": [
    "\n",
    "The `reverse` flag can be used to sort the items in descending order:\n"
   ]
  },
  {
   "cell_type": "code",
   "execution_count": null,
   "id": "b1fbb477",
   "metadata": {},
   "outputs": [],
   "source": [
    "sorted(nums, reverse=True)"
   ]
  },
  {
   "cell_type": "markdown",
   "id": "ca6a948a",
   "metadata": {},
   "source": [
    "\n",
    "Of course this function can be used to sort more than just numbers:\n"
   ]
  },
  {
   "cell_type": "code",
   "execution_count": null,
   "id": "410f3c96",
   "metadata": {},
   "outputs": [],
   "source": [
    "fruit = [\"cherry\", \"apple\", \"kiwi\", \"orange\", \"strawberry\", \"banana\"]\n",
    "sorted(fruit)"
   ]
  },
  {
   "cell_type": "markdown",
   "id": "c04d9a8a",
   "metadata": {},
   "source": [
    "\n",
    "It’s even possible to provide a custom function to specify the criteria by which\n",
    "you want the items sorted. For example, instead of sorting fruit alphabetically,\n",
    "we can sort them by the number of characters in their name:\n"
   ]
  },
  {
   "cell_type": "code",
   "execution_count": null,
   "id": "fc7cc526",
   "metadata": {},
   "outputs": [],
   "source": [
    "sorted(fruit, key=len)"
   ]
  },
  {
   "cell_type": "markdown",
   "id": "85890228",
   "metadata": {},
   "source": [
    "\n",
    "## Exercises\n",
    "\n",
    "Test your understanding with the following excercises\n",
    "\n",
    "### Exercise 1\n",
    "\n",
    "Sort the list of fruit, by the number of characters in their name in descending\n",
    "order\n"
   ]
  },
  {
   "cell_type": "code",
   "execution_count": null,
   "id": "a98ef08d",
   "metadata": {},
   "outputs": [],
   "source": [
    "# Write your solution here...\n"
   ]
  },
  {
   "cell_type": "code",
   "execution_count": null,
   "id": "d0c09c1f",
   "metadata": {},
   "outputs": [],
   "source": [
    "# Execute this cell to load the example solution\n",
    "%load ../../resources/extensions/tutorial/solution-example/solution-example-soln-01.py\n"
   ]
  },
  {
   "cell_type": "markdown",
   "id": "29d58bf6",
   "metadata": {},
   "source": [
    "\n",
    "### Exercise 2\n",
    "\n",
    "Sort the list of fruit, by the number of vowels in their name in ascending order\n"
   ]
  },
  {
   "cell_type": "code",
   "execution_count": null,
   "id": "6e37f3aa",
   "metadata": {},
   "outputs": [],
   "source": [
    "# Write your solution here...\n"
   ]
  },
  {
   "cell_type": "code",
   "execution_count": null,
   "id": "f0a288c1",
   "metadata": {},
   "outputs": [],
   "source": [
    "# Execute this cell to load the example solution\n",
    "%load ../../resources/extensions/tutorial/solution-example/solution-example-soln-02.py\n"
   ]
  },
  {
   "cell_type": "markdown",
   "id": "fce6e1ad",
   "metadata": {},
   "source": [
    "\n",
    "### Exercise 3\n",
    "\n",
    "Given the following list of tuples, representing fruit and their corresponding\n",
    "cost, sort them from most to least expensive:\n"
   ]
  },
  {
   "cell_type": "code",
   "execution_count": null,
   "id": "1ee9606f",
   "metadata": {},
   "outputs": [],
   "source": [
    "fruit = [(\"cherry\", 0.2), (\"apple\", 1.2), (\"kiwi\", 2.5), (\"orange\", 2), (\"strawberry\", 0.5), (\"banana\", 1.8)]"
   ]
  },
  {
   "cell_type": "code",
   "execution_count": null,
   "id": "b633f0fc",
   "metadata": {},
   "outputs": [],
   "source": [
    "# Write your solution here...\n"
   ]
  },
  {
   "cell_type": "code",
   "execution_count": null,
   "id": "3ccff8bf",
   "metadata": {},
   "outputs": [],
   "source": [
    "# Execute this cell to load the example solution\n",
    "%load ../../resources/extensions/tutorial/solution-example/solution-example-soln-03.py\n"
   ]
  }
 ],
 "metadata": {},
 "nbformat": 4,
 "nbformat_minor": 5
}