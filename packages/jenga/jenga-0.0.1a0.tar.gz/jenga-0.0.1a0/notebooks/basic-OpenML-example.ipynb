{
 "cells": [
  {
   "cell_type": "code",
   "execution_count": 1,
   "id": "abandoned-pierce",
   "metadata": {},
   "outputs": [],
   "source": [
    "from jenga.tasks.openml import OpenMLRegressionTask, OpenMLBinaryClassificationTask, OpenMLMultiClassClassificationTask\n",
    "from jenga.corruptions.generic import MissingValues\n",
    "from jenga.evaluation.corruption_impact import CorruptionImpactEvaluator\n",
    "\n",
    "import numpy as np"
   ]
  },
  {
   "cell_type": "markdown",
   "id": "yellow-friday",
   "metadata": {},
   "source": [
    "## Some Helper Functions"
   ]
  },
  {
   "cell_type": "code",
   "execution_count": 2,
   "id": "recovered-tunisia",
   "metadata": {},
   "outputs": [],
   "source": [
    "num_repetitions = 10\n",
    "\n",
    "def print_result(results, metric):\n",
    "    print(f\"\"\"\n",
    "Score ({metric}) on \n",
    "  clean data:     {results[0].baseline_score}\n",
    "  corrupted data: {np.mean(results[0].corrupted_scores)}\n",
    "\"\"\"\n",
    "    )"
   ]
  },
  {
   "cell_type": "markdown",
   "id": "amazing-mills",
   "metadata": {},
   "source": [
    "## Binary Classification"
   ]
  },
  {
   "cell_type": "code",
   "execution_count": 3,
   "id": "valuable-location",
   "metadata": {},
   "outputs": [],
   "source": [
    "binary_task = OpenMLBinaryClassificationTask(1471)"
   ]
  },
  {
   "cell_type": "markdown",
   "id": "failing-carpet",
   "metadata": {},
   "source": [
    "The baseline model is internally fitted on the tasks train data."
   ]
  },
  {
   "cell_type": "code",
   "execution_count": 4,
   "id": "joined-arctic",
   "metadata": {},
   "outputs": [
    {
     "name": "stdout",
     "output_type": "stream",
     "text": [
      "Baseline ROC/AUC score: 0.5909610347992149\n"
     ]
    }
   ],
   "source": [
    "binary_task_model = binary_task.fit_baseline_model()\n",
    "\n",
    "print(f\"Baseline ROC/AUC score: {binary_task.get_baseline_performance()}\")"
   ]
  },
  {
   "cell_type": "markdown",
   "id": "interior-design",
   "metadata": {},
   "source": [
    "Insert some corruptions and measure their impact."
   ]
  },
  {
   "cell_type": "code",
   "execution_count": 5,
   "id": "weighted-going",
   "metadata": {},
   "outputs": [
    {
     "name": "stdout",
     "output_type": "stream",
     "text": [
      "0/10 (0.072241)\n"
     ]
    }
   ],
   "source": [
    "binary_task_evaluator = CorruptionImpactEvaluator(binary_task)\n",
    "\n",
    "binary_task_corruption = MissingValues(column='V3', fraction=0.5, na_value=np.nan)\n",
    "binary_task_results = binary_task_evaluator.evaluate(binary_task_model, num_repetitions, binary_task_corruption)"
   ]
  },
  {
   "cell_type": "code",
   "execution_count": 6,
   "id": "thrown-alignment",
   "metadata": {},
   "outputs": [
    {
     "name": "stdout",
     "output_type": "stream",
     "text": [
      "\n",
      "Score (ROC/AUC) on \n",
      "  clean data:     0.5909610347992149\n",
      "  corrupted data: 0.5853965450582252\n",
      "\n"
     ]
    }
   ],
   "source": [
    "print_result(binary_task_results, \"ROC/AUC\")"
   ]
  },
  {
   "cell_type": "code",
   "execution_count": null,
   "id": "fatal-rates",
   "metadata": {},
   "outputs": [],
   "source": []
  },
  {
   "cell_type": "markdown",
   "id": "needed-quarterly",
   "metadata": {},
   "source": [
    "## Mutli-Class Classification"
   ]
  },
  {
   "cell_type": "code",
   "execution_count": 7,
   "id": "owned-string",
   "metadata": {},
   "outputs": [],
   "source": [
    "multi_class_task = OpenMLMultiClassClassificationTask(26)"
   ]
  },
  {
   "cell_type": "markdown",
   "id": "chicken-change",
   "metadata": {},
   "source": [
    "The baseline model is internally fitted on the tasks train data."
   ]
  },
  {
   "cell_type": "code",
   "execution_count": 8,
   "id": "architectural-positive",
   "metadata": {},
   "outputs": [
    {
     "name": "stderr",
     "output_type": "stream",
     "text": [
      "/usr/local/Caskroom/miniconda/base/envs/jenga/lib/python3.7/site-packages/sklearn/model_selection/_split.py:668: UserWarning: The least populated class in y has only 2 members, which is less than n_splits=5.\n",
      "  % (min_groups, self.n_splits)), UserWarning)\n"
     ]
    },
    {
     "name": "stdout",
     "output_type": "stream",
     "text": [
      "Baseline F1 score: 0.7461810988525959\n"
     ]
    }
   ],
   "source": [
    "multi_class_task_model = multi_class_task.fit_baseline_model()\n",
    "\n",
    "print(f\"Baseline F1 score: {multi_class_task.get_baseline_performance()}\")"
   ]
  },
  {
   "cell_type": "markdown",
   "id": "injured-officer",
   "metadata": {},
   "source": [
    "Insert some corruptions and measure their impact."
   ]
  },
  {
   "cell_type": "code",
   "execution_count": 9,
   "id": "productive-medium",
   "metadata": {},
   "outputs": [
    {
     "name": "stdout",
     "output_type": "stream",
     "text": [
      "0/10 (0.019579999999999487)\n"
     ]
    }
   ],
   "source": [
    "multi_class_task_evaluator = CorruptionImpactEvaluator(multi_class_task)\n",
    "\n",
    "multi_class_task_corruption = MissingValues(column='parents', fraction=0.4, na_value=np.nan)\n",
    "multi_class_task_results = multi_class_task_evaluator.evaluate(multi_class_task_model, num_repetitions, multi_class_task_corruption)"
   ]
  },
  {
   "cell_type": "code",
   "execution_count": 10,
   "id": "filled-bible",
   "metadata": {},
   "outputs": [
    {
     "name": "stdout",
     "output_type": "stream",
     "text": [
      "\n",
      "Score (F1) on \n",
      "  clean data:     0.7461810988525959\n",
      "  corrupted data: 0.6857573065971131\n",
      "\n"
     ]
    }
   ],
   "source": [
    "print_result(multi_class_task_results, \"F1\")"
   ]
  },
  {
   "cell_type": "code",
   "execution_count": null,
   "id": "weird-warren",
   "metadata": {},
   "outputs": [],
   "source": []
  },
  {
   "cell_type": "markdown",
   "id": "alpine-might",
   "metadata": {},
   "source": [
    "## Regression"
   ]
  },
  {
   "cell_type": "code",
   "execution_count": 11,
   "id": "finite-district",
   "metadata": {},
   "outputs": [],
   "source": [
    "regression = OpenMLRegressionTask(42545)"
   ]
  },
  {
   "cell_type": "markdown",
   "id": "military-present",
   "metadata": {},
   "source": [
    "The baseline model is internally fitted on the tasks train data."
   ]
  },
  {
   "cell_type": "code",
   "execution_count": 12,
   "id": "residential-south",
   "metadata": {},
   "outputs": [
    {
     "name": "stdout",
     "output_type": "stream",
     "text": [
      "Baseline MSE score: 994.9218977535381\n"
     ]
    }
   ],
   "source": [
    "regression_model = regression.fit_baseline_model()\n",
    "\n",
    "print(f\"Baseline MSE score: {regression.get_baseline_performance()}\")"
   ]
  },
  {
   "cell_type": "markdown",
   "id": "wanted-newman",
   "metadata": {},
   "source": [
    "Insert some corruptions and measure their impact."
   ]
  },
  {
   "cell_type": "code",
   "execution_count": 13,
   "id": "distant-tribune",
   "metadata": {},
   "outputs": [
    {
     "name": "stdout",
     "output_type": "stream",
     "text": [
      "0/10 (0.008453999999999517)\n"
     ]
    }
   ],
   "source": [
    "regression_evaluator = CorruptionImpactEvaluator(regression)\n",
    "\n",
    "regression_corruption = MissingValues(column='Material', fraction=0.3, na_value=np.nan)\n",
    "regression_results = regression_evaluator.evaluate(regression_model, num_repetitions, regression_corruption)"
   ]
  },
  {
   "cell_type": "code",
   "execution_count": 14,
   "id": "wicked-throat",
   "metadata": {},
   "outputs": [
    {
     "name": "stdout",
     "output_type": "stream",
     "text": [
      "\n",
      "Score (MSE) on \n",
      "  clean data:     994.9218977535381\n",
      "  corrupted data: 1106.604385314484\n",
      "\n"
     ]
    }
   ],
   "source": [
    "print_result(regression_results, \"MSE\")"
   ]
  },
  {
   "cell_type": "code",
   "execution_count": null,
   "id": "supposed-electronics",
   "metadata": {},
   "outputs": [],
   "source": []
  }
 ],
 "metadata": {
  "kernelspec": {
   "display_name": "Python 3",
   "language": "python",
   "name": "python3"
  },
  "language_info": {
   "codemirror_mode": {
    "name": "ipython",
    "version": 3
   },
   "file_extension": ".py",
   "mimetype": "text/x-python",
   "name": "python",
   "nbconvert_exporter": "python",
   "pygments_lexer": "ipython3",
   "version": "3.7.10"
  }
 },
 "nbformat": 4,
 "nbformat_minor": 5
}
