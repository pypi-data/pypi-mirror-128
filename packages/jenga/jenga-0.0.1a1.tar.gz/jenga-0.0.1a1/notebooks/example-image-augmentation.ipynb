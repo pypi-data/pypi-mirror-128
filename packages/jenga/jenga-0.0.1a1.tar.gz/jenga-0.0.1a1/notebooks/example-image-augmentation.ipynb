{
 "cells": [
  {
   "cell_type": "code",
   "execution_count": 1,
   "metadata": {},
   "outputs": [],
   "source": [
    "from jenga.tasks.shoes import ShoeCategorizationTask\n",
    "from jenga.corruptions.image import GaussianNoiseCorruption, MotionBlurCorruption, FogCorruption, BrightnessCorruption\n",
    "\n",
    "from jenga.evaluation.corruption_impact import CorruptionImpactEvaluator\n",
    "\n",
    "import matplotlib.pyplot as plt\n",
    "\n",
    "import imgaug.augmenters as iaa"
   ]
  },
  {
   "cell_type": "markdown",
   "metadata": {},
   "source": [
    "### Instantiate the shoe categorization task and train a baseline model"
   ]
  },
  {
   "cell_type": "code",
   "execution_count": 2,
   "metadata": {},
   "outputs": [
    {
     "name": "stdout",
     "output_type": "stream",
     "text": [
      "WARNING:tensorflow:AutoGraph could not transform <function Model.make_train_function.<locals>.train_function at 0x7f95f8ca3050> and will run it as-is.\n",
      "Please report this to the TensorFlow team. When filing the bug, set the verbosity to 10 (on Linux, `export AUTOGRAPH_VERBOSITY=10`) and attach the full output.\n",
      "Cause: 'arguments' object has no attribute 'posonlyargs'\n",
      "To silence this warning, decorate the function with @tf.autograph.experimental.do_not_convert\n",
      "WARNING: AutoGraph could not transform <function Model.make_train_function.<locals>.train_function at 0x7f95f8ca3050> and will run it as-is.\n",
      "Please report this to the TensorFlow team. When filing the bug, set the verbosity to 10 (on Linux, `export AUTOGRAPH_VERBOSITY=10`) and attach the full output.\n",
      "Cause: 'arguments' object has no attribute 'posonlyargs'\n",
      "To silence this warning, decorate the function with @tf.autograph.experimental.do_not_convert\n",
      "375/375 [==============================] - 8s 21ms/step - loss: 0.1645 - accuracy: 0.9371\n"
     ]
    }
   ],
   "source": [
    "task = ShoeCategorizationTask(seed=42)\n",
    "\n",
    "baseline_model = task.fit_baseline_model()"
   ]
  },
  {
   "cell_type": "markdown",
   "metadata": {},
   "source": [
    "### Train another model on data augmented with gaussian noise corruptions "
   ]
  },
  {
   "cell_type": "code",
   "execution_count": 3,
   "metadata": {},
   "outputs": [
    {
     "name": "stdout",
     "output_type": "stream",
     "text": [
      "WARNING:tensorflow:AutoGraph could not transform <function Model.make_train_function.<locals>.train_function at 0x7f95e7a42950> and will run it as-is.\n",
      "Please report this to the TensorFlow team. When filing the bug, set the verbosity to 10 (on Linux, `export AUTOGRAPH_VERBOSITY=10`) and attach the full output.\n",
      "Cause: 'arguments' object has no attribute 'posonlyargs'\n",
      "To silence this warning, decorate the function with @tf.autograph.experimental.do_not_convert\n",
      "WARNING: AutoGraph could not transform <function Model.make_train_function.<locals>.train_function at 0x7f95e7a42950> and will run it as-is.\n",
      "Please report this to the TensorFlow team. When filing the bug, set the verbosity to 10 (on Linux, `export AUTOGRAPH_VERBOSITY=10`) and attach the full output.\n",
      "Cause: 'arguments' object has no attribute 'posonlyargs'\n",
      "To silence this warning, decorate the function with @tf.autograph.experimental.do_not_convert\n",
      "750/750 [==============================] - 15s 20ms/step - loss: 0.1758 - accuracy: 0.9317\n"
     ]
    }
   ],
   "source": [
    "import numpy as np\n",
    "\n",
    "augmented_data = [task.train_data]\n",
    "augmented_labels= [task.train_labels]\n",
    "\n",
    "for severity in range(1, 6):\n",
    "    indexes = np.random.choice(range(0, len(task.train_data)), 2400)\n",
    "    sample = task.train_data[indexes, :, :].copy()\n",
    "    corrupted_sample = GaussianNoiseCorruption(fraction=1.0, severity=severity).transform(sample)\n",
    "    augmented_data.append(corrupted_sample)\n",
    "    augmented_labels.append(task.train_labels[indexes].copy())\n",
    "\n",
    "gaussian_noise_model = task.fit_baseline_model(np.concatenate(augmented_data), np.concatenate(augmented_labels))"
   ]
  },
  {
   "cell_type": "markdown",
   "metadata": {},
   "source": [
    "### Evaluate how well both models can handle corrupted test data"
   ]
  },
  {
   "cell_type": "code",
   "execution_count": 4,
   "metadata": {},
   "outputs": [
    {
     "name": "stdout",
     "output_type": "stream",
     "text": [
      "WARNING:tensorflow:AutoGraph could not transform <function Model.make_predict_function.<locals>.predict_function at 0x7f95e871fa70> and will run it as-is.\n",
      "Please report this to the TensorFlow team. When filing the bug, set the verbosity to 10 (on Linux, `export AUTOGRAPH_VERBOSITY=10`) and attach the full output.\n",
      "Cause: 'arguments' object has no attribute 'posonlyargs'\n",
      "To silence this warning, decorate the function with @tf.autograph.experimental.do_not_convert\n",
      "WARNING: AutoGraph could not transform <function Model.make_predict_function.<locals>.predict_function at 0x7f95e871fa70> and will run it as-is.\n",
      "Please report this to the TensorFlow team. When filing the bug, set the verbosity to 10 (on Linux, `export AUTOGRAPH_VERBOSITY=10`) and attach the full output.\n",
      "Cause: 'arguments' object has no attribute 'posonlyargs'\n",
      "To silence this warning, decorate the function with @tf.autograph.experimental.do_not_convert\n",
      "0/70 (2.4312520000000006)\n",
      "10/70 (25.508697000000012)\n",
      "20/70 (48.24758)\n",
      "30/70 (72.18926200000001)\n",
      "40/70 (97.60440900000003)\n",
      "50/70 (123.90635500000002)\n",
      "60/70 (153.481381)\n",
      "WARNING:tensorflow:AutoGraph could not transform <function Model.make_predict_function.<locals>.predict_function at 0x7f95e871f320> and will run it as-is.\n",
      "Please report this to the TensorFlow team. When filing the bug, set the verbosity to 10 (on Linux, `export AUTOGRAPH_VERBOSITY=10`) and attach the full output.\n",
      "Cause: 'arguments' object has no attribute 'posonlyargs'\n",
      "To silence this warning, decorate the function with @tf.autograph.experimental.do_not_convert\n",
      "WARNING: AutoGraph could not transform <function Model.make_predict_function.<locals>.predict_function at 0x7f95e871f320> and will run it as-is.\n",
      "Please report this to the TensorFlow team. When filing the bug, set the verbosity to 10 (on Linux, `export AUTOGRAPH_VERBOSITY=10`) and attach the full output.\n",
      "Cause: 'arguments' object has no attribute 'posonlyargs'\n",
      "To silence this warning, decorate the function with @tf.autograph.experimental.do_not_convert\n",
      "0/70 (2.2302119999999945)\n",
      "10/70 (24.656284000000028)\n",
      "20/70 (47.887857999999994)\n",
      "30/70 (72.486783)\n",
      "40/70 (98.45609400000001)\n",
      "50/70 (126.53835100000003)\n",
      "60/70 (156.10243100000002)\n"
     ]
    }
   ],
   "source": [
    "evaluator = CorruptionImpactEvaluator(task)\n",
    "\n",
    "corruptions  = []\n",
    "for fraction in [0.01, 0.05, 0.1, 0.25, 0.5, 0.75, 0.99]:\n",
    "    corruptions.append(GaussianNoiseCorruption(fraction=fraction, severity=4))\n",
    "    \n",
    "gaussian_noise_results = evaluator.evaluate(baseline_model, 10, *corruptions)        \n",
    "gaussian_noise_results_aug = evaluator.evaluate(gaussian_noise_model, 10, *corruptions)    "
   ]
  },
  {
   "cell_type": "markdown",
   "metadata": {},
   "source": [
    "### Train another model on data augmented with motion blur corruptions "
   ]
  },
  {
   "cell_type": "code",
   "execution_count": 5,
   "metadata": {},
   "outputs": [
    {
     "name": "stdout",
     "output_type": "stream",
     "text": [
      "WARNING:tensorflow:AutoGraph could not transform <function Model.make_train_function.<locals>.train_function at 0x7f95e8d92050> and will run it as-is.\n",
      "Please report this to the TensorFlow team. When filing the bug, set the verbosity to 10 (on Linux, `export AUTOGRAPH_VERBOSITY=10`) and attach the full output.\n",
      "Cause: 'arguments' object has no attribute 'posonlyargs'\n",
      "To silence this warning, decorate the function with @tf.autograph.experimental.do_not_convert\n",
      "WARNING: AutoGraph could not transform <function Model.make_train_function.<locals>.train_function at 0x7f95e8d92050> and will run it as-is.\n",
      "Please report this to the TensorFlow team. When filing the bug, set the verbosity to 10 (on Linux, `export AUTOGRAPH_VERBOSITY=10`) and attach the full output.\n",
      "Cause: 'arguments' object has no attribute 'posonlyargs'\n",
      "To silence this warning, decorate the function with @tf.autograph.experimental.do_not_convert\n",
      "750/750 [==============================] - 14s 19ms/step - loss: 0.1918 - accuracy: 0.9235\n"
     ]
    }
   ],
   "source": [
    "import numpy as np\n",
    "\n",
    "augmented_data = [task.train_data]\n",
    "augmented_labels= [task.train_labels]\n",
    "\n",
    "for severity in range(1, 6):\n",
    "    indexes = np.random.choice(range(0, len(task.train_data)), 2400)\n",
    "    sample = task.train_data[indexes, :, :].copy()\n",
    "    corrupted_sample = MotionBlurCorruption(fraction=1.0, severity=severity).transform(sample)\n",
    "    augmented_data.append(corrupted_sample)\n",
    "    augmented_labels.append(task.train_labels[indexes].copy())\n",
    "\n",
    "motion_blur_model = task.fit_baseline_model(np.concatenate(augmented_data), np.concatenate(augmented_labels))"
   ]
  },
  {
   "cell_type": "markdown",
   "metadata": {},
   "source": [
    "### Evaluate how well both models can handle corrupted test data"
   ]
  },
  {
   "cell_type": "code",
   "execution_count": 6,
   "metadata": {},
   "outputs": [
    {
     "name": "stdout",
     "output_type": "stream",
     "text": [
      "0/70 (2.341199999999958)\n",
      "10/70 (25.791493999999943)\n",
      "20/70 (50.48958399999992)\n",
      "30/70 (77.47340499999996)\n",
      "40/70 (110.57398899999998)\n",
      "50/70 (155.77286800000002)\n",
      "60/70 (209.93377999999996)\n",
      "WARNING:tensorflow:AutoGraph could not transform <function Model.make_predict_function.<locals>.predict_function at 0x7f95dc2fdc20> and will run it as-is.\n",
      "Please report this to the TensorFlow team. When filing the bug, set the verbosity to 10 (on Linux, `export AUTOGRAPH_VERBOSITY=10`) and attach the full output.\n",
      "Cause: 'arguments' object has no attribute 'posonlyargs'\n",
      "To silence this warning, decorate the function with @tf.autograph.experimental.do_not_convert\n",
      "WARNING: AutoGraph could not transform <function Model.make_predict_function.<locals>.predict_function at 0x7f95dc2fdc20> and will run it as-is.\n",
      "Please report this to the TensorFlow team. When filing the bug, set the verbosity to 10 (on Linux, `export AUTOGRAPH_VERBOSITY=10`) and attach the full output.\n",
      "Cause: 'arguments' object has no attribute 'posonlyargs'\n",
      "To silence this warning, decorate the function with @tf.autograph.experimental.do_not_convert\n",
      "0/70 (2.2907430000000204)\n",
      "10/70 (25.817749999999933)\n",
      "20/70 (50.94627600000001)\n",
      "30/70 (78.43648799999994)\n",
      "40/70 (112.28239000000008)\n",
      "50/70 (155.99658799999997)\n",
      "60/70 (209.01210100000003)\n"
     ]
    }
   ],
   "source": [
    "evaluator = CorruptionImpactEvaluator(task)\n",
    "\n",
    "corruptions  = []\n",
    "for fraction in [0.01, 0.05, 0.1, 0.25, 0.5, 0.75, 0.99]:\n",
    "    corruptions.append(MotionBlurCorruption(fraction=fraction, severity=4))\n",
    "    \n",
    "motion_blur_results = evaluator.evaluate(baseline_model, 10, *corruptions)        \n",
    "motion_blur_results_aug = evaluator.evaluate(motion_blur_model, 10, *corruptions)    "
   ]
  },
  {
   "cell_type": "markdown",
   "metadata": {},
   "source": [
    "### Train another model on data augmented with fog corruptions "
   ]
  },
  {
   "cell_type": "code",
   "execution_count": 7,
   "metadata": {},
   "outputs": [
    {
     "name": "stdout",
     "output_type": "stream",
     "text": [
      "WARNING:tensorflow:AutoGraph could not transform <function Model.make_train_function.<locals>.train_function at 0x7f95dc408050> and will run it as-is.\n",
      "Please report this to the TensorFlow team. When filing the bug, set the verbosity to 10 (on Linux, `export AUTOGRAPH_VERBOSITY=10`) and attach the full output.\n",
      "Cause: 'arguments' object has no attribute 'posonlyargs'\n",
      "To silence this warning, decorate the function with @tf.autograph.experimental.do_not_convert\n",
      "WARNING: AutoGraph could not transform <function Model.make_train_function.<locals>.train_function at 0x7f95dc408050> and will run it as-is.\n",
      "Please report this to the TensorFlow team. When filing the bug, set the verbosity to 10 (on Linux, `export AUTOGRAPH_VERBOSITY=10`) and attach the full output.\n",
      "Cause: 'arguments' object has no attribute 'posonlyargs'\n",
      "To silence this warning, decorate the function with @tf.autograph.experimental.do_not_convert\n",
      "750/750 [==============================] - 16s 21ms/step - loss: 0.2099 - accuracy: 0.9189\n"
     ]
    }
   ],
   "source": [
    "import numpy as np\n",
    "\n",
    "augmented_data = [task.train_data]\n",
    "augmented_labels= [task.train_labels]\n",
    "\n",
    "for severity in range(1, 6):\n",
    "    indexes = np.random.choice(range(0, len(task.train_data)), 2400)\n",
    "    sample = task.train_data[indexes, :, :].copy()\n",
    "    corrupted_sample = FogCorruption(fraction=1.0, severity=severity).transform(sample)\n",
    "    augmented_data.append(corrupted_sample)\n",
    "    augmented_labels.append(task.train_labels[indexes].copy())\n",
    "\n",
    "fog_model = task.fit_baseline_model(np.concatenate(augmented_data), np.concatenate(augmented_labels))"
   ]
  },
  {
   "cell_type": "markdown",
   "metadata": {},
   "source": [
    "### Evaluate how well both models can handle corrupted test data"
   ]
  },
  {
   "cell_type": "code",
   "execution_count": 8,
   "metadata": {},
   "outputs": [
    {
     "name": "stdout",
     "output_type": "stream",
     "text": [
      "0/70 (2.13116500000001)\n",
      "10/70 (24.932033000000047)\n",
      "20/70 (48.70954800000004)\n",
      "30/70 (74.42075399999999)\n",
      "40/70 (103.49048599999992)\n",
      "50/70 (138.22527000000014)\n",
      "60/70 (179.14466700000003)\n",
      "WARNING:tensorflow:AutoGraph could not transform <function Model.make_predict_function.<locals>.predict_function at 0x7f95dbf2db90> and will run it as-is.\n",
      "Please report this to the TensorFlow team. When filing the bug, set the verbosity to 10 (on Linux, `export AUTOGRAPH_VERBOSITY=10`) and attach the full output.\n",
      "Cause: 'arguments' object has no attribute 'posonlyargs'\n",
      "To silence this warning, decorate the function with @tf.autograph.experimental.do_not_convert\n",
      "WARNING: AutoGraph could not transform <function Model.make_predict_function.<locals>.predict_function at 0x7f95dbf2db90> and will run it as-is.\n",
      "Please report this to the TensorFlow team. When filing the bug, set the verbosity to 10 (on Linux, `export AUTOGRAPH_VERBOSITY=10`) and attach the full output.\n",
      "Cause: 'arguments' object has no attribute 'posonlyargs'\n",
      "To silence this warning, decorate the function with @tf.autograph.experimental.do_not_convert\n",
      "0/70 (2.3602240000000165)\n",
      "10/70 (26.135790000000043)\n",
      "20/70 (50.680364000000054)\n",
      "30/70 (76.93518500000005)\n",
      "40/70 (106.07760499999995)\n",
      "50/70 (141.95714199999998)\n",
      "60/70 (183.23254999999995)\n"
     ]
    }
   ],
   "source": [
    "evaluator = CorruptionImpactEvaluator(task)\n",
    "\n",
    "corruptions  = []\n",
    "for fraction in [0.01, 0.05, 0.1, 0.25, 0.5, 0.75, 0.99]:\n",
    "    corruptions.append(FogCorruption(fraction=fraction, severity=4))\n",
    "    \n",
    "fog_results = evaluator.evaluate(baseline_model, 10, *corruptions)        \n",
    "fog_results_aug = evaluator.evaluate(fog_model, 10, *corruptions)   "
   ]
  },
  {
   "cell_type": "markdown",
   "metadata": {},
   "source": [
    "### Plot the results"
   ]
  },
  {
   "cell_type": "code",
   "execution_count": 9,
   "metadata": {},
   "outputs": [
    {
     "data": {
      "image/png": "[encoded data removed]",
      "text/plain": [
       "<Figure size 504x360 with 1 Axes>"
      ]
     },
     "metadata": {
      "needs_background": "light"
     },
     "output_type": "display_data"
    }
   ],
   "source": [
    "def as_series(results):\n",
    "    medians = []\n",
    "    for result in results:\n",
    "        medians.append(np.median(result.corrupted_scores))\n",
    "    return medians\n",
    "\n",
    "ax = plt.gca()        \n",
    "\n",
    "fractions = [0.01, 0.05, 0.1, 0.25, 0.5, 0.75, 0.99]\n",
    "markersize=6\n",
    "\n",
    "l = ax.axhline(gaussian_noise_results[0].baseline_score, linestyle='--', color='black')    \n",
    "\n",
    "plt.plot(fractions, as_series(gaussian_noise_results_aug), color='#dc6082', linestyle='dotted', marker='^', markersize=markersize, fillstyle='none')\n",
    "plt.plot(fractions, as_series(gaussian_noise_results), color='#dc6082', marker='o', markersize=markersize)\n",
    "\n",
    "plt.plot(fractions, as_series(motion_blur_results_aug), color='#1e4052', linestyle='dotted', marker='^', markersize=markersize, fillstyle='none')\n",
    "plt.plot(fractions, as_series(motion_blur_results), color='#1e4052', marker='o', markersize=markersize)\n",
    "\n",
    "plt.plot(fractions, as_series(fog_results_aug), color='#e1a677', linestyle='dotted', marker='^', markersize=markersize, fillstyle='none')\n",
    "plt.plot(fractions, as_series(fog_results), color='#e1a677', marker='o', markersize=markersize)\n",
    "\n",
    "\n",
    "ax.set_ylim((0.9, 0.999))\n",
    "ax.tick_params(axis='both', which='major', labelsize=22)\n",
    "ax.tick_params(axis='both', which='minor', labelsize=22)    \n",
    "ax.set_ylabel('AUC', fontsize=24)\n",
    "ax.set_xlabel('fraction', fontsize=24)\n",
    "    \n",
    "ax.legend(['clean', 'noise (aug)', 'noise', 'motion (aug)', 'motion', 'fog (aug)', 'fog'], fontsize=12)    \n",
    "    \n",
    "plt.tight_layout()\n",
    "plt.gcf().set_size_inches(7, 5)\n",
    "\n",
    "plt.show()"
   ]
  }
 ],
 "metadata": {
  "kernelspec": {
   "display_name": "Python 3",
   "language": "python",
   "name": "python3"
  },
  "language_info": {
   "codemirror_mode": {
    "name": "ipython",
    "version": 3
   },
   "file_extension": ".py",
   "mimetype": "text/x-python",
   "name": "python",
   "nbconvert_exporter": "python",
   "pygments_lexer": "ipython3",
   "version": "3.7.10"
  }
 },
 "nbformat": 4,
 "nbformat_minor": 4
}
