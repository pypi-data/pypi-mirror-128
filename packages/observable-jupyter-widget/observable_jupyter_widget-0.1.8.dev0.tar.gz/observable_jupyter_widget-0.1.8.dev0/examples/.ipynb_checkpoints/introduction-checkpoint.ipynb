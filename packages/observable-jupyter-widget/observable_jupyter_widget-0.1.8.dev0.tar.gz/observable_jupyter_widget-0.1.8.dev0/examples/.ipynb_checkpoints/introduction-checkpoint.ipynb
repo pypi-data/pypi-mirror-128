{
 "cells": [
  {
   "cell_type": "markdown",
   "metadata": {},
   "source": [
    "# Communicate between Observable cells and Python\n",
    "\n",
    "`ObservableWidget` from the `observable_jupyter_widget` package is an [Jupyter Widget](https://ipywidgets.readthedocs.io/en/latest/) that embeds a subset of cells of an [Observable](https://observablehq.com/) notebook. The `.value` attribute of the Python widget object is a dictionary with the current value of every rendered Observable cell. The `.redefine(cellName=\"new value\")` method of the widget object causes Python vaules to be mapped in to the Observable notebook cells."
   ]
  },
  {
   "cell_type": "code",
   "execution_count": 1,
   "metadata": {},
   "outputs": [],
   "source": [
    "import observable_jupyter_widget\n",
    "import ipywidgets as widgets\n",
    "from pprint import pprint\n",
    "import asyncio\n",
    "import ipython_blocking"
   ]
  },
  {
   "cell_type": "code",
   "execution_count": 2,
   "metadata": {},
   "outputs": [
    {
     "data": {
      "application/vnd.jupyter.widget-view+json": {
       "model_id": "f4d074091133404c82dad8437744331d",
       "version_major": 2,
       "version_minor": 0
      },
      "text/plain": [
       "ObservableWidget(value=None, cells=['vegaPetalsWidget', 'viewof minSepalLength', 'viewof minSepalWidth', 'extr…"
      ]
     },
     "metadata": {},
     "output_type": "display_data"
    }
   ],
   "source": [
    "w = observable_jupyter_widget.ObservableWidget(\n",
    "    '@ballingt/embedding-example',\n",
    "    cells=['vegaPetalsWidget', 'viewof minSepalLength', 'viewof minSepalWidth', 'extraCell'],\n",
    "    inputs={'extraCell': 123},\n",
    "    outputs=['minSepalLength', 'extraCell', 'vegaPetalsWidget']\n",
    ")\n",
    "output_ready = w.get_output\n",
    "display(w)"
   ]
  },
  {
   "cell_type": "code",
   "execution_count": 5,
   "metadata": {},
   "outputs": [
    {
     "name": "stderr",
     "output_type": "stream",
     "text": [
      "UsageError: unrecognized arguments: #adsfasdf\n"
     ]
    }
   ],
   "source": [
    "# Wait flro \n",
    "%block get_output"
   ]
  },
  {
   "cell_type": "code",
   "execution_count": null,
   "metadata": {},
   "outputs": [],
   "source": [
    "w.value"
   ]
  },
  {
   "cell_type": "code",
   "execution_count": null,
   "metadata": {},
   "outputs": [],
   "source": [
    "w.value"
   ]
  },
  {
   "cell_type": "code",
   "execution_count": null,
   "metadata": {},
   "outputs": [],
   "source": [
    "embed2 = await observable_jupyter_widget.interactive_embed_async(\n",
    "    '@ballingt/embedding-example',\n",
    "    cells=['vegaPetalsWidget', 'viewof minSepalLength', 'viewof minSepalWidth', 'extraCell'],\n",
    "    inputs={'extraCell': 123},\n",
    "    outputs=['minSepalLength', 'extraCell', 'vegaPetalsWidget']\n",
    ")\n",
    "embed2.widget.value"
   ]
  },
  {
   "cell_type": "code",
   "execution_count": null,
   "metadata": {},
   "outputs": [],
   "source": [
    "output = widgets.Output()\n",
    "\n",
    "def on_value_change(change):\n",
    "    with output:\n",
    "        pprint(embed.output)\n",
    "        \n",
    "embed.widget.observe(on_value_change, names='value');\n",
    "output"
   ]
  },
  {
   "cell_type": "code",
   "execution_count": null,
   "metadata": {},
   "outputs": [],
   "source": [
    "embed.redefine(extraCell=12318293)"
   ]
  },
  {
   "cell_type": "code",
   "execution_count": null,
   "metadata": {},
   "outputs": [],
   "source": [
    "embed.widget.value"
   ]
  },
  {
   "cell_type": "code",
   "execution_count": null,
   "metadata": {},
   "outputs": [],
   "source": [
    "embed.widget.inputs"
   ]
  },
  {
   "cell_type": "code",
   "execution_count": null,
   "metadata": {},
   "outputs": [],
   "source": [
    "embed.widget.value"
   ]
  },
  {
   "cell_type": "code",
   "execution_count": null,
   "metadata": {},
   "outputs": [],
   "source": []
  }
 ],
 "metadata": {
  "kernelspec": {
   "display_name": "Python 3 (ipykernel)",
   "language": "python",
   "name": "python3"
  },
  "language_info": {
   "codemirror_mode": {
    "name": "ipython",
    "version": 3
   },
   "file_extension": ".py",
   "mimetype": "text/x-python",
   "name": "python",
   "nbconvert_exporter": "python",
   "pygments_lexer": "ipython3",
   "version": "3.10.0"
  }
 },
 "nbformat": 4,
 "nbformat_minor": 4
}
