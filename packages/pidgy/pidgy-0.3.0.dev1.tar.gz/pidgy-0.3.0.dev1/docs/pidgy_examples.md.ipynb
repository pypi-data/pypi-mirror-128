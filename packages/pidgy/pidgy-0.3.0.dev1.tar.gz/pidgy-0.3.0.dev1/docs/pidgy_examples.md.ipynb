{
 "cells": [
  {
   "cell_type": "markdown",
   "id": "23e87272-fda2-4a91-94e5-1e18acb9d21d",
   "metadata": {},
   "source": [
    "# `pidgy` examples\n",
    "\n",
    "this notebook is executed using a `pidgy` kernel to demonstrate some of the capabilities.\n",
    "\n",
    "> note: this document puts headers in markdown cells to cooperate with jupyter book documentation"
   ]
  },
  {
   "cell_type": "markdown",
   "id": "7ad76c36-3dee-4477-b274-4a6ffc10ac7e",
   "metadata": {},
   "source": [
    "out of the box, `pidgy` is asynchrous and reactive, but to use this document for testing we have to constrain the execution to synchronous and blocking."
   ]
  },
  {
   "cell_type": "code",
   "execution_count": 1,
   "id": "e96c74d9-3e0d-440f-8530-9ab0cec4835a",
   "metadata": {},
   "outputs": [],
   "source": [
    "\n",
    "    %matplotlib agg\n",
    "    shell.weave.reactive = False\n",
    "    shell.weave.use_asynch(False)"
   ]
  },
  {
   "cell_type": "markdown",
   "id": "97b010e1-c1be-457f-8741-478eab015b43",
   "metadata": {},
   "source": [
    "## an indent can make a big different\n",
    "\n",
    "under normal cirumstances, the following line of code is valid python, but in `pidgy` it is valid markdown. "
   ]
  },
  {
   "cell_type": "code",
   "execution_count": 2,
   "id": "07a0bfe9-91cb-4eb5-ab75-9f0ae0176798",
   "metadata": {},
   "outputs": [
    {
     "data": {
      "text/markdown": [
       "from IPython import get_ipython"
      ],
      "text/plain": [
       "<IPython.core.display.Markdown object>"
      ]
     },
     "metadata": {},
     "output_type": "display_data"
    }
   ],
   "source": [
    "from IPython import get_ipython"
   ]
  },
  {
   "cell_type": "markdown",
   "id": "158f1e3f-9f5f-4da8-99f5-b5526d96ea7e",
   "metadata": {},
   "source": [
    "we must indent the code, as follows, to make sure execution is engaged. indenting code in notebooks is a useful practice, unindented code rendered as markdown appears as rich text and is not canonical."
   ]
  },
  {
   "cell_type": "code",
   "execution_count": 3,
   "id": "a7dad625-861f-48f4-8c99-dba440430b45",
   "metadata": {},
   "outputs": [
    {
     "data": {
      "text/markdown": [
       "    from IPython import get_ipython"
      ],
      "text/plain": [
       "<IPython.core.display.Markdown object>"
      ]
     },
     "metadata": {},
     "output_type": "display_data"
    }
   ],
   "source": [
    "    from IPython import get_ipython"
   ]
  },
  {
   "cell_type": "markdown",
   "id": "e734aa0a-bb87-4d4a-be47-d7c54cd72439",
   "metadata": {},
   "source": [
    "## suppressing the woven display"
   ]
  },
  {
   "cell_type": "markdown",
   "id": "ab43e6ab-a8fb-4294-9975-d3733526a9a8",
   "metadata": {},
   "source": [
    "begin a cell with a single empty line to suppress a display"
   ]
  },
  {
   "cell_type": "code",
   "execution_count": 4,
   "id": "d5a037ca-43d1-456f-bf57-30b7be5c532c",
   "metadata": {},
   "outputs": [],
   "source": [
    "       \n",
    "        from IPython import get_ipython"
   ]
  },
  {
   "cell_type": "markdown",
   "id": "79655b80-bfc0-4857-b62a-4910adb2a177",
   "metadata": {},
   "source": [
    "## all markdown is a string"
   ]
  },
  {
   "cell_type": "markdown",
   "id": "fd6eb44c-3cee-485c-b266-09033a7a218d",
   "metadata": {},
   "source": [
    "## connecting markdown and indented python code"
   ]
  },
  {
   "cell_type": "code",
   "execution_count": 5,
   "id": "95c2bc25-e25c-4099-b735-459a24aaf78b",
   "metadata": {},
   "outputs": [
    {
     "data": {
      "text/markdown": [
       "### docstrings"
      ],
      "text/plain": [
       "<IPython.core.display.Markdown object>"
      ]
     },
     "metadata": {},
     "output_type": "display_data"
    }
   ],
   "source": [
    "### docstrings"
   ]
  },
  {
   "cell_type": "markdown",
   "id": "ce7e6fe2-4939-4884-bb8b-d8895cb4f239",
   "metadata": {},
   "source": [
    "### line continuations"
   ]
  },
  {
   "cell_type": "markdown",
   "id": "71d81814-d35d-478c-88e6-9a0bd2bd2ed8",
   "metadata": {},
   "source": [
    "### parenthesis"
   ]
  },
  {
   "cell_type": "markdown",
   "id": "d69621a5-6eb8-4653-b013-ed6bf45e50ec",
   "metadata": {},
   "source": [
    "## templating markdown\n",
    "\n",
    "`pidgy` extends markdown by being aware of `jinja2` templates that can include live data into woven displays"
   ]
  },
  {
   "cell_type": "code",
   "execution_count": 6,
   "id": "b119b6ff-4f24-471e-817b-9bc710f99aa0",
   "metadata": {},
   "outputs": [
    {
     "data": {
      "text/markdown": [
       "<div><style scoped>\n",
       "    .dataframe tbody tr th:only-of-type {\n",
       "        vertical-align: middle;\n",
       "    }\n",
       "\n",
       "    .dataframe tbody tr th {\n",
       "        vertical-align: top;\n",
       "    }\n",
       "\n",
       "    .dataframe thead th {\n",
       "        text-align: right;\n",
       "    }\n",
       "</style><table border=1 class=dataframe><thead><tr style=\"text-align: right;\"><th></th><th>count</th><th>mean</th><th>std</th><th>min</th><th>25%</th><th>50%</th><th>75%</th><th>max</th></tr></thead><tbody><tr><th>0</th><td>10.0</td><td>4.5</td><td>3.02765</td><td>0.0</td><td>2.25</td><td>4.5</td><td>6.75</td><td>9.0</td></tr><tr><th>1</th><td>10.0</td><td>0.0</td><td>0.00000</td><td>0.0</td><td>0.00</td><td>0.0</td><td>0.00</td><td>0.0</td></tr><tr><th>2</th><td>10.0</td><td>0.0</td><td>0.00000</td><td>0.0</td><td>0.00</td><td>0.0</td><td>0.00</td><td>0.0</td></tr></tbody></table></div>\n",
       "\n",
       "    import pandas\n",
       "\n",
       "    df = pandas.DataFrame([x, 0, 0 ] for x in range(10))"
      ],
      "text/plain": [
       "<IPython.core.display.Markdown object>"
      ]
     },
     "metadata": {},
     "output_type": "display_data"
    }
   ],
   "source": [
    "{{df.describe().T}}\n",
    "\n",
    "    import pandas\n",
    "\n",
    "    df = pandas.DataFrame([x, 0, 0 ] for x in range(10))"
   ]
  },
  {
   "cell_type": "markdown",
   "id": "e0973815-7983-41c9-b021-a3a4340e053f",
   "metadata": {},
   "source": [
    "## iframes and images"
   ]
  },
  {
   "cell_type": "markdown",
   "id": "7ffb8a4b-83f8-417a-ba8f-efe44cd4390d",
   "metadata": {},
   "source": [
    "https://nbviewer.org/github/deathbeds/pidgy/blob/master/docs/tangle_examples.ipynb"
   ]
  }
 ],
 "metadata": {
  "kernelspec": {
   "display_name": "pidgy",
   "language": "markdown",
   "name": "pidgy"
  },
  "language_info": {
   "codemirror_mode": {
    "name": "ipython",
    "version": 3
   },
   "file_extension": ".py",
   "mimetype": "text/x-python",
   "name": "python",
   "nbconvert_exporter": "python",
   "pygments_lexer": "ipython3",
   "version": "3.9.5"
  }
 },
 "nbformat": 4,
 "nbformat_minor": 5
}
