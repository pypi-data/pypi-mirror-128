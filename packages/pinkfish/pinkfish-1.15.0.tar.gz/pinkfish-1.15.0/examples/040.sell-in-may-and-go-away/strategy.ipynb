{
 "cells": [
  {
   "cell_type": "markdown",
   "metadata": {},
   "source": [
    "# sell-in-may-and-go-away\n",
    "\n",
    "see: https://en.wikipedia.org/wiki/Sell_in_May\n",
    "\n",
    "\"Sell in May and go away\" (aka the Halloween indicator) is an investment adage warning investors to divest their stock holdings in May and wait to reinvest in November."
   ]
  },
  {
   "cell_type": "code",
   "execution_count": 1,
   "metadata": {
    "ExecuteTime": {
     "end_time": "2020-02-17T03:41:59.416311Z",
     "start_time": "2020-02-17T03:41:58.377375Z"
    }
   },
   "outputs": [],
   "source": [
    "import datetime\n",
    "\n",
    "import matplotlib.pyplot as plt\n",
    "import pandas as pd\n",
    "\n",
    "import pinkfish as pf\n",
    "\n",
    "# Format price data\n",
    "pd.options.display.float_format = '{:0.2f}'.format\n",
    "\n",
    "%matplotlib inline"
   ]
  },
  {
   "cell_type": "code",
   "execution_count": 2,
   "metadata": {
    "ExecuteTime": {
     "end_time": "2020-02-17T03:41:59.432971Z",
     "start_time": "2020-02-17T03:41:59.426278Z"
    }
   },
   "outputs": [],
   "source": [
    "# Set size of inline plots\n",
    "'''note: rcParams can't be in same cell as import matplotlib\n",
    "   or %matplotlib inline\n",
    "   \n",
    "   %matplotlib notebook: will lead to interactive plots embedded within\n",
    "   the notebook, you can zoom and resize the figure\n",
    "   \n",
    "   %matplotlib inline: only draw static images in the notebook\n",
    "'''\n",
    "plt.rcParams[\"figure.figsize\"] = (10, 7)"
   ]
  },
  {
   "cell_type": "markdown",
   "metadata": {},
   "source": [
    "Some global data"
   ]
  },
  {
   "cell_type": "code",
   "execution_count": 3,
   "metadata": {
    "ExecuteTime": {
     "end_time": "2020-02-17T03:41:59.454422Z",
     "start_time": "2020-02-17T03:41:59.447859Z"
    }
   },
   "outputs": [],
   "source": [
    "symbol = '^GSPC'\n",
    "capital = 10000\n",
    "#start = datetime.datetime(1900, 1, 1)\n",
    "start = datetime.datetime(*pf.SP500_BEGIN)\n",
    "end = datetime.datetime.now()"
   ]
  },
  {
   "cell_type": "markdown",
   "metadata": {},
   "source": [
    "Define Strategy Class"
   ]
  },
  {
   "cell_type": "code",
   "execution_count": 4,
   "metadata": {
    "ExecuteTime": {
     "end_time": "2020-02-17T03:41:59.538335Z",
     "start_time": "2020-02-17T03:41:59.457371Z"
    }
   },
   "outputs": [],
   "source": [
    "class Strategy:\n",
    "\n",
    "    def __init__(self, symbol, capital, start, end):\n",
    "        self.symbol = symbol\n",
    "        self.capital = capital\n",
    "        self.start = start\n",
    "        self.end = end\n",
    "        \n",
    "        self.ts = None\n",
    "        self.rlog = None\n",
    "        self.tlog = None\n",
    "        self.dbal = None\n",
    "        self.stats = None\n",
    "\n",
    "    def _algo(self):\n",
    "        pf.TradeLog.cash = capital\n",
    "\n",
    "        for i, row in enumerate(self.ts.itertuples()):\n",
    "\n",
    "            date = row.Index.to_pydatetime()\n",
    "            end_flag = pf.is_last_row(self.ts, i)\n",
    "\n",
    "            # Buy (at the close on first trading day in Nov).\n",
    "            if self.tlog.shares == 0:\n",
    "                if row.month == 11 and row.first_dotm:\n",
    "                    self.tlog.buy(date, row.close)\n",
    "            # Sell (at the close on first trading day in May).\n",
    "            else:\n",
    "                if ((row.month == 5 and row.first_dotm) or end_flag):\n",
    "                    self.tlog.sell(date, row.close)\n",
    "\n",
    "            # Record daily balance\n",
    "            self.dbal.append(date, row.close)\n",
    "\n",
    "    def run(self):\n",
    "        \n",
    "        # Fetch and select timeseries.\n",
    "        self.ts = pf.fetch_timeseries(self.symbol)\n",
    "        self.ts = pf.select_tradeperiod(self.ts, self.start, self.end, \n",
    "                                        use_adj=True)\n",
    "        # Add calendar columns.\n",
    "        self.ts = pf.calendar(self.ts)\n",
    "        \n",
    "        # Finalize timeseries.\n",
    "        self.ts, self.start = pf.finalize_timeseries(self.ts, self.start,\n",
    "                                                     drop_columns=['open', 'high', 'low'])\n",
    "        \n",
    "        # Create tlog and dbal objects\n",
    "        self.tlog = pf.TradeLog(symbol)\n",
    "        self.dbal = pf.DailyBal()\n",
    "        \n",
    "        # Run algorithm, get logs\n",
    "        self._algo()\n",
    "        self._get_logs()\n",
    "        self._get_stats()\n",
    "\n",
    "    def _get_logs(self):\n",
    "        self.rlog = self.tlog.get_log_raw()\n",
    "        self.tlog = self.tlog.get_log()\n",
    "        self.dbal = self.dbal.get_log(self.tlog)\n",
    "\n",
    "    def _get_stats(self):\n",
    "        s.stats = pf.stats(self.ts, self.tlog, self.dbal, self.capital)"
   ]
  },
  {
   "cell_type": "markdown",
   "metadata": {},
   "source": [
    "Run Strategy"
   ]
  },
  {
   "cell_type": "code",
   "execution_count": 5,
   "metadata": {
    "ExecuteTime": {
     "end_time": "2020-02-17T03:42:00.914179Z",
     "start_time": "2020-02-17T03:41:59.549227Z"
    },
    "scrolled": false
   },
   "outputs": [
    {
     "name": "stdout",
     "output_type": "stream",
     "text": [
      "dir_name data\n"
     ]
    }
   ],
   "source": [
    "s = Strategy(symbol, capital, start, end)\n",
    "s.run()"
   ]
  },
  {
   "cell_type": "markdown",
   "metadata": {},
   "source": [
    "Examine logs"
   ]
  },
  {
   "cell_type": "code",
   "execution_count": 6,
   "metadata": {
    "ExecuteTime": {
     "end_time": "2020-02-17T03:42:02.745231Z",
     "start_time": "2020-02-17T03:42:02.712511Z"
    }
   },
   "outputs": [
    {
     "data": {
      "text/html": [
       "<div>\n",
       "<style scoped>\n",
       "    .dataframe tbody tr th:only-of-type {\n",
       "        vertical-align: middle;\n",
       "    }\n",
       "\n",
       "    .dataframe tbody tr th {\n",
       "        vertical-align: top;\n",
       "    }\n",
       "\n",
       "    .dataframe thead th {\n",
       "        text-align: right;\n",
       "    }\n",
       "</style>\n",
       "<table border=\"1\" class=\"dataframe\">\n",
       "  <thead>\n",
       "    <tr style=\"text-align: right;\">\n",
       "      <th></th>\n",
       "      <th>date</th>\n",
       "      <th>seq_num</th>\n",
       "      <th>price</th>\n",
       "      <th>shares</th>\n",
       "      <th>entry_exit</th>\n",
       "      <th>direction</th>\n",
       "      <th>symbol</th>\n",
       "    </tr>\n",
       "  </thead>\n",
       "  <tbody>\n",
       "    <tr>\n",
       "      <th>123</th>\n",
       "      <td>2019-05-01</td>\n",
       "      <td>123</td>\n",
       "      <td>2923.73</td>\n",
       "      <td>142</td>\n",
       "      <td>exit</td>\n",
       "      <td>LONG</td>\n",
       "      <td>^GSPC</td>\n",
       "    </tr>\n",
       "    <tr>\n",
       "      <th>124</th>\n",
       "      <td>2019-11-01</td>\n",
       "      <td>124</td>\n",
       "      <td>3066.91</td>\n",
       "      <td>135</td>\n",
       "      <td>entry</td>\n",
       "      <td>LONG</td>\n",
       "      <td>^GSPC</td>\n",
       "    </tr>\n",
       "    <tr>\n",
       "      <th>125</th>\n",
       "      <td>2020-05-01</td>\n",
       "      <td>125</td>\n",
       "      <td>2830.71</td>\n",
       "      <td>135</td>\n",
       "      <td>exit</td>\n",
       "      <td>LONG</td>\n",
       "      <td>^GSPC</td>\n",
       "    </tr>\n",
       "    <tr>\n",
       "      <th>126</th>\n",
       "      <td>2020-11-02</td>\n",
       "      <td>126</td>\n",
       "      <td>3310.24</td>\n",
       "      <td>115</td>\n",
       "      <td>entry</td>\n",
       "      <td>LONG</td>\n",
       "      <td>^GSPC</td>\n",
       "    </tr>\n",
       "    <tr>\n",
       "      <th>127</th>\n",
       "      <td>2021-05-03</td>\n",
       "      <td>127</td>\n",
       "      <td>4192.66</td>\n",
       "      <td>115</td>\n",
       "      <td>exit</td>\n",
       "      <td>LONG</td>\n",
       "      <td>^GSPC</td>\n",
       "    </tr>\n",
       "  </tbody>\n",
       "</table>\n",
       "</div>"
      ],
      "text/plain": [
       "          date  seq_num   price  shares entry_exit direction symbol\n",
       "123 2019-05-01      123 2923.73     142       exit      LONG  ^GSPC\n",
       "124 2019-11-01      124 3066.91     135      entry      LONG  ^GSPC\n",
       "125 2020-05-01      125 2830.71     135       exit      LONG  ^GSPC\n",
       "126 2020-11-02      126 3310.24     115      entry      LONG  ^GSPC\n",
       "127 2021-05-03      127 4192.66     115       exit      LONG  ^GSPC"
      ]
     },
     "execution_count": 6,
     "metadata": {},
     "output_type": "execute_result"
    }
   ],
   "source": [
    "# The raw trade log show each entry or exit entry.\n",
    "s.rlog.tail()"
   ]
  },
  {
   "cell_type": "code",
   "execution_count": 7,
   "metadata": {
    "ExecuteTime": {
     "end_time": "2020-02-17T03:42:02.785222Z",
     "start_time": "2020-02-17T03:42:02.751230Z"
    },
    "scrolled": true
   },
   "outputs": [
    {
     "data": {
      "text/html": [
       "<div>\n",
       "<style scoped>\n",
       "    .dataframe tbody tr th:only-of-type {\n",
       "        vertical-align: middle;\n",
       "    }\n",
       "\n",
       "    .dataframe tbody tr th {\n",
       "        vertical-align: top;\n",
       "    }\n",
       "\n",
       "    .dataframe thead th {\n",
       "        text-align: right;\n",
       "    }\n",
       "</style>\n",
       "<table border=\"1\" class=\"dataframe\">\n",
       "  <thead>\n",
       "    <tr style=\"text-align: right;\">\n",
       "      <th></th>\n",
       "      <th>entry_date</th>\n",
       "      <th>entry_price</th>\n",
       "      <th>exit_date</th>\n",
       "      <th>exit_price</th>\n",
       "      <th>pl_points</th>\n",
       "      <th>pl_cash</th>\n",
       "      <th>qty</th>\n",
       "      <th>cumul_total</th>\n",
       "      <th>direction</th>\n",
       "      <th>symbol</th>\n",
       "    </tr>\n",
       "  </thead>\n",
       "  <tbody>\n",
       "    <tr>\n",
       "      <th>59</th>\n",
       "      <td>2016-11-01</td>\n",
       "      <td>2111.72</td>\n",
       "      <td>2017-05-01</td>\n",
       "      <td>2388.33</td>\n",
       "      <td>276.61</td>\n",
       "      <td>43704.40</td>\n",
       "      <td>158</td>\n",
       "      <td>368401.28</td>\n",
       "      <td>LONG</td>\n",
       "      <td>^GSPC</td>\n",
       "    </tr>\n",
       "    <tr>\n",
       "      <th>60</th>\n",
       "      <td>2017-11-01</td>\n",
       "      <td>2579.36</td>\n",
       "      <td>2018-05-01</td>\n",
       "      <td>2654.80</td>\n",
       "      <td>75.44</td>\n",
       "      <td>11014.23</td>\n",
       "      <td>146</td>\n",
       "      <td>379415.51</td>\n",
       "      <td>LONG</td>\n",
       "      <td>^GSPC</td>\n",
       "    </tr>\n",
       "    <tr>\n",
       "      <th>61</th>\n",
       "      <td>2018-11-01</td>\n",
       "      <td>2740.37</td>\n",
       "      <td>2019-05-01</td>\n",
       "      <td>2923.73</td>\n",
       "      <td>183.36</td>\n",
       "      <td>26037.10</td>\n",
       "      <td>142</td>\n",
       "      <td>405452.61</td>\n",
       "      <td>LONG</td>\n",
       "      <td>^GSPC</td>\n",
       "    </tr>\n",
       "    <tr>\n",
       "      <th>62</th>\n",
       "      <td>2019-11-01</td>\n",
       "      <td>3066.91</td>\n",
       "      <td>2020-05-01</td>\n",
       "      <td>2830.71</td>\n",
       "      <td>-236.20</td>\n",
       "      <td>-31886.99</td>\n",
       "      <td>135</td>\n",
       "      <td>373565.62</td>\n",
       "      <td>LONG</td>\n",
       "      <td>^GSPC</td>\n",
       "    </tr>\n",
       "    <tr>\n",
       "      <th>63</th>\n",
       "      <td>2020-11-02</td>\n",
       "      <td>3310.24</td>\n",
       "      <td>2021-05-03</td>\n",
       "      <td>4192.66</td>\n",
       "      <td>882.42</td>\n",
       "      <td>101478.32</td>\n",
       "      <td>115</td>\n",
       "      <td>475043.94</td>\n",
       "      <td>LONG</td>\n",
       "      <td>^GSPC</td>\n",
       "    </tr>\n",
       "  </tbody>\n",
       "</table>\n",
       "</div>"
      ],
      "text/plain": [
       "   entry_date  entry_price  exit_date  exit_price  pl_points   pl_cash  qty  \\\n",
       "59 2016-11-01      2111.72 2017-05-01     2388.33     276.61  43704.40  158   \n",
       "60 2017-11-01      2579.36 2018-05-01     2654.80      75.44  11014.23  146   \n",
       "61 2018-11-01      2740.37 2019-05-01     2923.73     183.36  26037.10  142   \n",
       "62 2019-11-01      3066.91 2020-05-01     2830.71    -236.20 -31886.99  135   \n",
       "63 2020-11-02      3310.24 2021-05-03     4192.66     882.42 101478.32  115   \n",
       "\n",
       "    cumul_total direction symbol  \n",
       "59    368401.28      LONG  ^GSPC  \n",
       "60    379415.51      LONG  ^GSPC  \n",
       "61    405452.61      LONG  ^GSPC  \n",
       "62    373565.62      LONG  ^GSPC  \n",
       "63    475043.94      LONG  ^GSPC  "
      ]
     },
     "execution_count": 7,
     "metadata": {},
     "output_type": "execute_result"
    }
   ],
   "source": [
    "# The trade log shows matching entry and exits orders\n",
    "s.tlog.tail()"
   ]
  },
  {
   "cell_type": "code",
   "execution_count": 8,
   "metadata": {
    "ExecuteTime": {
     "end_time": "2020-02-17T03:42:02.820218Z",
     "start_time": "2020-02-17T03:42:02.789185Z"
    }
   },
   "outputs": [
    {
     "data": {
      "text/html": [
       "<div>\n",
       "<style scoped>\n",
       "    .dataframe tbody tr th:only-of-type {\n",
       "        vertical-align: middle;\n",
       "    }\n",
       "\n",
       "    .dataframe tbody tr th {\n",
       "        vertical-align: top;\n",
       "    }\n",
       "\n",
       "    .dataframe thead th {\n",
       "        text-align: right;\n",
       "    }\n",
       "</style>\n",
       "<table border=\"1\" class=\"dataframe\">\n",
       "  <thead>\n",
       "    <tr style=\"text-align: right;\">\n",
       "      <th></th>\n",
       "      <th>high</th>\n",
       "      <th>low</th>\n",
       "      <th>close</th>\n",
       "      <th>shares</th>\n",
       "      <th>cash</th>\n",
       "      <th>leverage</th>\n",
       "      <th>state</th>\n",
       "    </tr>\n",
       "    <tr>\n",
       "      <th>date</th>\n",
       "      <th></th>\n",
       "      <th></th>\n",
       "      <th></th>\n",
       "      <th></th>\n",
       "      <th></th>\n",
       "      <th></th>\n",
       "      <th></th>\n",
       "    </tr>\n",
       "  </thead>\n",
       "  <tbody>\n",
       "    <tr>\n",
       "      <th>2021-06-28</th>\n",
       "      <td>485043.94</td>\n",
       "      <td>485043.94</td>\n",
       "      <td>485043.94</td>\n",
       "      <td>0</td>\n",
       "      <td>485043.94</td>\n",
       "      <td>1.00</td>\n",
       "      <td>-</td>\n",
       "    </tr>\n",
       "    <tr>\n",
       "      <th>2021-06-29</th>\n",
       "      <td>485043.94</td>\n",
       "      <td>485043.94</td>\n",
       "      <td>485043.94</td>\n",
       "      <td>0</td>\n",
       "      <td>485043.94</td>\n",
       "      <td>1.00</td>\n",
       "      <td>-</td>\n",
       "    </tr>\n",
       "    <tr>\n",
       "      <th>2021-06-30</th>\n",
       "      <td>485043.94</td>\n",
       "      <td>485043.94</td>\n",
       "      <td>485043.94</td>\n",
       "      <td>0</td>\n",
       "      <td>485043.94</td>\n",
       "      <td>1.00</td>\n",
       "      <td>-</td>\n",
       "    </tr>\n",
       "    <tr>\n",
       "      <th>2021-07-01</th>\n",
       "      <td>485043.94</td>\n",
       "      <td>485043.94</td>\n",
       "      <td>485043.94</td>\n",
       "      <td>0</td>\n",
       "      <td>485043.94</td>\n",
       "      <td>1.00</td>\n",
       "      <td>-</td>\n",
       "    </tr>\n",
       "    <tr>\n",
       "      <th>2021-07-02</th>\n",
       "      <td>485043.94</td>\n",
       "      <td>485043.94</td>\n",
       "      <td>485043.94</td>\n",
       "      <td>0</td>\n",
       "      <td>485043.94</td>\n",
       "      <td>1.00</td>\n",
       "      <td>-</td>\n",
       "    </tr>\n",
       "  </tbody>\n",
       "</table>\n",
       "</div>"
      ],
      "text/plain": [
       "                high       low     close  shares      cash  leverage state\n",
       "date                                                                      \n",
       "2021-06-28 485043.94 485043.94 485043.94       0 485043.94      1.00     -\n",
       "2021-06-29 485043.94 485043.94 485043.94       0 485043.94      1.00     -\n",
       "2021-06-30 485043.94 485043.94 485043.94       0 485043.94      1.00     -\n",
       "2021-07-01 485043.94 485043.94 485043.94       0 485043.94      1.00     -\n",
       "2021-07-02 485043.94 485043.94 485043.94       0 485043.94      1.00     -"
      ]
     },
     "execution_count": 8,
     "metadata": {},
     "output_type": "execute_result"
    }
   ],
   "source": [
    "# The daily balance\n",
    "s.dbal.tail()"
   ]
  },
  {
   "cell_type": "markdown",
   "metadata": {},
   "source": [
    "All available stastics"
   ]
  },
  {
   "cell_type": "code",
   "execution_count": 9,
   "metadata": {
    "ExecuteTime": {
     "end_time": "2020-02-17T03:42:02.862277Z",
     "start_time": "2020-02-17T03:42:02.826576Z"
    }
   },
   "outputs": [
    {
     "name": "stdout",
     "output_type": "stream",
     "text": [
      "start                                                   1957-03-04\n",
      "end                                                     2021-07-02\n",
      "beginning_balance                                            10000\n",
      "ending_balance                                           485043.94\n",
      "total_net_profit                                         475043.94\n",
      "gross_profit                                             580269.42\n",
      "gross_loss                                              -105225.48\n",
      "profit_factor                                                 5.51\n",
      "return_on_initial_capital                                  4750.44\n",
      "annual_return_rate                                            6.22\n",
      "trading_period                           64 years 3 months 28 days\n",
      "pct_time_in_market                                           48.89\n",
      "margin                                                           1\n",
      "avg_leverage                                                  1.00\n",
      "max_leverage                                                  1.00\n",
      "min_leverage                                                  1.00\n",
      "total_num_trades                                                64\n",
      "trades_per_year                                               0.99\n",
      "num_winning_trades                                              48\n",
      "num_losing_trades                                               16\n",
      "num_even_trades                                                  0\n",
      "pct_profitable_trades                                        75.00\n",
      "avg_profit_per_trade                                       7422.56\n",
      "avg_profit_per_winning_trade                              12088.95\n",
      "avg_loss_per_losing_trade                                 -6576.59\n",
      "ratio_avg_profit_win_loss                                     1.84\n",
      "largest_profit_winning_trade                             101478.32\n",
      "largest_loss_losing_trade                                -31886.99\n",
      "num_winning_points                                         3802.37\n",
      "num_losing_points                                          -684.43\n",
      "total_net_points                                           3117.94\n",
      "avg_points                                                   48.72\n",
      "largest_points_winning_trade                                882.42\n",
      "largest_points_losing_trade                                -236.20\n",
      "avg_pct_gain_per_trade                                        6.74\n",
      "largest_pct_winning_trade                                    26.66\n",
      "largest_pct_losing_trade                                    -16.17\n",
      "expected_shortfall                                               0\n",
      "max_consecutive_winning_trades                                   6\n",
      "max_consecutive_losing_trades                                    2\n",
      "avg_bars_winning_trades                                     124.67\n",
      "avg_bars_losing_trades                                      124.94\n",
      "max_closed_out_drawdown                                     -34.96\n",
      "max_closed_out_drawdown_peak_date                       2007-11-06\n",
      "max_closed_out_drawdown_trough_date                     2009-03-09\n",
      "max_closed_out_drawdown_recovery_date                   2010-11-04\n",
      "drawdown_loss_period                                           489\n",
      "drawdown_recovery_period                                       605\n",
      "annualized_return_over_max_drawdown                           0.18\n",
      "max_intra_day_drawdown                                      -34.96\n",
      "avg_yearly_closed_out_drawdown                               -9.01\n",
      "max_yearly_closed_out_drawdown                              -33.82\n",
      "avg_monthly_closed_out_drawdown                              -1.74\n",
      "max_monthly_closed_out_drawdown                             -30.85\n",
      "avg_weekly_closed_out_drawdown                               -0.66\n",
      "max_weekly_closed_out_drawdown                              -17.90\n",
      "avg_yearly_closed_out_runup                                  15.28\n",
      "max_yearly_closed_out_runup                                  51.55\n",
      "avg_monthly_closed_out_runup                                  2.23\n",
      "max_monthly_closed_out_runup                                 28.34\n",
      "avg_weekly_closed_out_runup                                   0.80\n",
      "max_weekly_closed_out_runup                                  19.01\n",
      "pct_profitable_years                                         74.71\n",
      "best_year                                                    49.14\n",
      "worst_year                                                  -25.26\n",
      "avg_year                                                      6.58\n",
      "annual_std                                                    9.89\n",
      "pct_profitable_months                                        35.99\n",
      "best_month                                                   23.36\n",
      "worst_month                                                 -30.85\n",
      "avg_month                                                     0.52\n",
      "monthly_std                                                   2.93\n",
      "pct_profitable_weeks                                         29.79\n",
      "best_week                                                    19.01\n",
      "worst_week                                                  -17.90\n",
      "avg_week                                                      0.13\n",
      "weekly_std                                                    1.49\n",
      "pct_profitable_days                                          26.33\n",
      "best_day                                                      9.34\n",
      "worst_day                                                   -11.94\n",
      "avg_day                                                       0.03\n",
      "daily_std                                                     0.69\n",
      "sharpe_ratio                                                  0.60\n",
      "sharpe_ratio_max                                              0.63\n",
      "sharpe_ratio_min                                              0.58\n",
      "sortino_ratio                                                 0.55\n",
      "dtype: object\n"
     ]
    }
   ],
   "source": [
    "pf.print_full(s.stats)"
   ]
  },
  {
   "cell_type": "markdown",
   "metadata": {},
   "source": [
    "Run Benchmark, Retrieve benchmark logs, and Generate benchmark stats"
   ]
  },
  {
   "cell_type": "code",
   "execution_count": 10,
   "metadata": {
    "ExecuteTime": {
     "end_time": "2020-02-17T03:42:05.103568Z",
     "start_time": "2020-02-17T03:42:02.871307Z"
    },
    "scrolled": true
   },
   "outputs": [
    {
     "name": "stdout",
     "output_type": "stream",
     "text": [
      "dir_name data\n"
     ]
    }
   ],
   "source": [
    "benchmark = pf.Benchmark(symbol, s.capital, s.start, s.end)\n",
    "benchmark.run()"
   ]
  },
  {
   "cell_type": "markdown",
   "metadata": {},
   "source": [
    "Plot Equity Curves: Strategy vs Benchmark"
   ]
  },
  {
   "cell_type": "code",
   "execution_count": 11,
   "metadata": {
    "ExecuteTime": {
     "end_time": "2020-02-17T03:42:05.435255Z",
     "start_time": "2020-02-17T03:42:05.114316Z"
    }
   },
   "outputs": [
    {
     "data": {
      "image/png": "[encoded data removed]",
      "text/plain": [
       "<Figure size 720x504 with 1 Axes>"
      ]
     },
     "metadata": {
      "needs_background": "light"
     },
     "output_type": "display_data"
    }
   ],
   "source": [
    "pf.plot_equity_curve(s.dbal, benchmark=benchmark.dbal)"
   ]
  },
  {
   "cell_type": "markdown",
   "metadata": {},
   "source": [
    "Plot Trades"
   ]
  },
  {
   "cell_type": "code",
   "execution_count": 12,
   "metadata": {
    "ExecuteTime": {
     "end_time": "2020-02-17T03:42:05.734945Z",
     "start_time": "2020-02-17T03:42:05.442607Z"
    }
   },
   "outputs": [
    {
     "data": {
      "image/png": "[encoded data removed]",
      "text/plain": [
       "<Figure size 720x504 with 1 Axes>"
      ]
     },
     "metadata": {
      "needs_background": "light"
     },
     "output_type": "display_data"
    }
   ],
   "source": [
    "pf.plot_trades(s.dbal, benchmark=benchmark.dbal)"
   ]
  },
  {
   "cell_type": "markdown",
   "metadata": {},
   "source": [
    "Bar Graph: Strategy vs Benchmark"
   ]
  },
  {
   "cell_type": "code",
   "execution_count": 13,
   "metadata": {
    "ExecuteTime": {
     "end_time": "2020-02-17T03:42:06.166236Z",
     "start_time": "2020-02-17T03:42:05.742988Z"
    }
   },
   "outputs": [
    {
     "data": {
      "text/html": [
       "<div>\n",
       "<style scoped>\n",
       "    .dataframe tbody tr th:only-of-type {\n",
       "        vertical-align: middle;\n",
       "    }\n",
       "\n",
       "    .dataframe tbody tr th {\n",
       "        vertical-align: top;\n",
       "    }\n",
       "\n",
       "    .dataframe thead th {\n",
       "        text-align: right;\n",
       "    }\n",
       "</style>\n",
       "<table border=\"1\" class=\"dataframe\">\n",
       "  <thead>\n",
       "    <tr style=\"text-align: right;\">\n",
       "      <th></th>\n",
       "      <th>strategy</th>\n",
       "      <th>benchmark</th>\n",
       "    </tr>\n",
       "  </thead>\n",
       "  <tbody>\n",
       "    <tr>\n",
       "      <th>annual_return_rate</th>\n",
       "      <td>6.22</td>\n",
       "      <td>7.40</td>\n",
       "    </tr>\n",
       "    <tr>\n",
       "      <th>max_closed_out_drawdown</th>\n",
       "      <td>-34.96</td>\n",
       "      <td>-56.78</td>\n",
       "    </tr>\n",
       "    <tr>\n",
       "      <th>annualized_return_over_max_drawdown</th>\n",
       "      <td>0.18</td>\n",
       "      <td>0.13</td>\n",
       "    </tr>\n",
       "    <tr>\n",
       "      <th>best_month</th>\n",
       "      <td>23.36</td>\n",
       "      <td>23.49</td>\n",
       "    </tr>\n",
       "    <tr>\n",
       "      <th>worst_month</th>\n",
       "      <td>-30.85</td>\n",
       "      <td>-30.94</td>\n",
       "    </tr>\n",
       "    <tr>\n",
       "      <th>sharpe_ratio</th>\n",
       "      <td>0.60</td>\n",
       "      <td>0.53</td>\n",
       "    </tr>\n",
       "    <tr>\n",
       "      <th>sortino_ratio</th>\n",
       "      <td>0.55</td>\n",
       "      <td>0.67</td>\n",
       "    </tr>\n",
       "    <tr>\n",
       "      <th>monthly_std</th>\n",
       "      <td>2.93</td>\n",
       "      <td>4.28</td>\n",
       "    </tr>\n",
       "    <tr>\n",
       "      <th>annual_std</th>\n",
       "      <td>9.89</td>\n",
       "      <td>15.85</td>\n",
       "    </tr>\n",
       "  </tbody>\n",
       "</table>\n",
       "</div>"
      ],
      "text/plain": [
       "                                     strategy  benchmark\n",
       "annual_return_rate                       6.22       7.40\n",
       "max_closed_out_drawdown                -34.96     -56.78\n",
       "annualized_return_over_max_drawdown      0.18       0.13\n",
       "best_month                              23.36      23.49\n",
       "worst_month                            -30.85     -30.94\n",
       "sharpe_ratio                             0.60       0.53\n",
       "sortino_ratio                            0.55       0.67\n",
       "monthly_std                              2.93       4.28\n",
       "annual_std                               9.89      15.85"
      ]
     },
     "execution_count": 13,
     "metadata": {},
     "output_type": "execute_result"
    },
    {
     "data": {
      "image/png": "[encoded data removed]",
      "text/plain": [
       "<Figure size 720x504 with 1 Axes>"
      ]
     },
     "metadata": {
      "needs_background": "light"
     },
     "output_type": "display_data"
    }
   ],
   "source": [
    "df = pf.plot_bar_graph(s.stats, benchmark.stats)\n",
    "df"
   ]
  },
  {
   "cell_type": "code",
   "execution_count": null,
   "metadata": {},
   "outputs": [],
   "source": []
  }
 ],
 "metadata": {
  "kernelspec": {
   "display_name": "Python 3 (ipykernel)",
   "language": "python",
   "name": "python3"
  },
  "language_info": {
   "codemirror_mode": {
    "name": "ipython",
    "version": 3
   },
   "file_extension": ".py",
   "mimetype": "text/x-python",
   "name": "python",
   "nbconvert_exporter": "python",
   "pygments_lexer": "ipython3",
   "version": "3.8.10"
  },
  "latex_envs": {
   "LaTeX_envs_menu_present": true,
   "autoclose": false,
   "autocomplete": true,
   "bibliofile": "biblio.bib",
   "cite_by": "apalike",
   "current_citInitial": 1,
   "eqLabelWithNumbers": true,
   "eqNumInitial": 1,
   "hotkeys": {
    "equation": "Ctrl-E",
    "itemize": "Ctrl-I"
   },
   "labels_anchors": false,
   "latex_user_defs": false,
   "report_style_numbering": false,
   "user_envs_cfg": false
  }
 },
 "nbformat": 4,
 "nbformat_minor": 1
}
