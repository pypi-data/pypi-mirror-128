{
 "cells": [
  {
   "cell_type": "markdown",
   "metadata": {},
   "source": [
    "# pinkfish-challenge\n",
    "\n",
    "Buy on the close on the SAME day a new 20 day high is set"
   ]
  },
  {
   "cell_type": "code",
   "execution_count": 1,
   "metadata": {
    "ExecuteTime": {
     "end_time": "2020-02-17T03:17:21.254739Z",
     "start_time": "2020-02-17T03:17:20.352107Z"
    }
   },
   "outputs": [],
   "source": [
    "import datetime\n",
    "import pandas as pd\n",
    "import pinkfish as pf\n",
    "\n",
    "# Format price data\n",
    "pd.options.display.float_format = '{:0.2f}'.format\n",
    "\n",
    "%matplotlib inline"
   ]
  },
  {
   "cell_type": "code",
   "execution_count": 2,
   "metadata": {
    "ExecuteTime": {
     "end_time": "2020-02-17T03:17:21.278223Z",
     "start_time": "2020-02-17T03:17:21.269726Z"
    }
   },
   "outputs": [],
   "source": [
    "symbol = 'SPY'\n",
    "capital = 10000\n",
    "start = datetime.datetime(2016, 1, 1)\n",
    "end = datetime.datetime.now()"
   ]
  },
  {
   "cell_type": "markdown",
   "metadata": {},
   "source": [
    "Define high trade periods"
   ]
  },
  {
   "cell_type": "code",
   "execution_count": 3,
   "metadata": {
    "ExecuteTime": {
     "end_time": "2020-02-17T03:17:21.289367Z",
     "start_time": "2020-02-17T03:17:21.282386Z"
    }
   },
   "outputs": [],
   "source": [
    "period = 20"
   ]
  },
  {
   "cell_type": "markdown",
   "metadata": {},
   "source": [
    "Timeseries"
   ]
  },
  {
   "cell_type": "code",
   "execution_count": 4,
   "metadata": {},
   "outputs": [
    {
     "name": "stdout",
     "output_type": "stream",
     "text": [
      "dir_name data\n"
     ]
    }
   ],
   "source": [
    "# Fetch timeseries\n",
    "ts = pf.fetch_timeseries(symbol)\n",
    "ts = pf.select_tradeperiod(ts, start, end, use_adj=False)\n",
    "\n",
    "# Add technical indicator: X day high, and X day low\n",
    "period_high = pd.Series(ts.close).rolling(period).max()\n",
    "ts['period_high'] = period_high\n",
    "\n",
    "# Finalize timeseries\n",
    "ts, start = pf.finalize_timeseries(ts, start, dropna=True)\n",
    "\n",
    "# Create tlog and dbal objects\n",
    "tlog = pf.TradeLog(symbol)\n",
    "dbal = pf.DailyBal()"
   ]
  },
  {
   "cell_type": "markdown",
   "metadata": {},
   "source": [
    "Algorithm"
   ]
  },
  {
   "cell_type": "code",
   "execution_count": 5,
   "metadata": {
    "ExecuteTime": {
     "end_time": "2020-02-17T03:17:21.365341Z",
     "start_time": "2020-02-17T03:17:21.293441Z"
    }
   },
   "outputs": [
    {
     "name": "stdout",
     "output_type": "stream",
     "text": [
      "2016-02-22 00:00:00 BUY  51 SPY @ 194.78\n",
      "2021-11-15 00:00:00 SELL 51 SPY @ 467.00\n"
     ]
    }
   ],
   "source": [
    "pf.TradeLog.cash = capital\n",
    "\n",
    "for i, row in enumerate(ts.itertuples()):\n",
    "\n",
    "    date = row.Index.to_pydatetime()\n",
    "    high = row.high; low = row.low; close = row.close; \n",
    "    end_flag = pf.is_last_row(ts, i)\n",
    "    shares = 0\n",
    "\n",
    "    # Buy\n",
    "    if tlog.shares == 0:\n",
    "        if high > row.period_high:\n",
    "            shares = tlog.buy(date, close)\n",
    "    # Bell\n",
    "    else:\n",
    "        if end_flag:\n",
    "            shares = tlog.sell(date, close)\n",
    "\n",
    "    if shares > 0:\n",
    "        print(\"{0} BUY  {1} {2} @ {3:.2f}\".format(\n",
    "              date, shares, symbol, close))\n",
    "    elif shares < 0:\n",
    "        print(\"{0} SELL {1} {2} @ {3:.2f}\".format(\n",
    "              date, -shares, symbol, close))\n",
    "\n",
    "    # Record daily balance\n",
    "    dbal.append(date, close, high, low)"
   ]
  },
  {
   "cell_type": "raw",
   "metadata": {},
   "source": [
    "Get trade log"
   ]
  },
  {
   "cell_type": "code",
   "execution_count": 6,
   "metadata": {},
   "outputs": [
    {
     "data": {
      "text/html": [
       "<div>\n",
       "<style scoped>\n",
       "    .dataframe tbody tr th:only-of-type {\n",
       "        vertical-align: middle;\n",
       "    }\n",
       "\n",
       "    .dataframe tbody tr th {\n",
       "        vertical-align: top;\n",
       "    }\n",
       "\n",
       "    .dataframe thead th {\n",
       "        text-align: right;\n",
       "    }\n",
       "</style>\n",
       "<table border=\"1\" class=\"dataframe\">\n",
       "  <thead>\n",
       "    <tr style=\"text-align: right;\">\n",
       "      <th></th>\n",
       "      <th>entry_date</th>\n",
       "      <th>entry_price</th>\n",
       "      <th>exit_date</th>\n",
       "      <th>exit_price</th>\n",
       "      <th>pl_points</th>\n",
       "      <th>pl_cash</th>\n",
       "      <th>qty</th>\n",
       "      <th>cumul_total</th>\n",
       "      <th>direction</th>\n",
       "      <th>symbol</th>\n",
       "    </tr>\n",
       "  </thead>\n",
       "  <tbody>\n",
       "    <tr>\n",
       "      <th>0</th>\n",
       "      <td>2016-02-22</td>\n",
       "      <td>194.78</td>\n",
       "      <td>2021-11-15</td>\n",
       "      <td>467.00</td>\n",
       "      <td>272.22</td>\n",
       "      <td>13883.22</td>\n",
       "      <td>51</td>\n",
       "      <td>13883.22</td>\n",
       "      <td>LONG</td>\n",
       "      <td>SPY</td>\n",
       "    </tr>\n",
       "  </tbody>\n",
       "</table>\n",
       "</div>"
      ],
      "text/plain": [
       "  entry_date  entry_price  exit_date  exit_price  pl_points  pl_cash  qty  \\\n",
       "0 2016-02-22       194.78 2021-11-15      467.00     272.22 13883.22   51   \n",
       "\n",
       "   cumul_total direction symbol  \n",
       "0     13883.22      LONG    SPY  "
      ]
     },
     "execution_count": 6,
     "metadata": {},
     "output_type": "execute_result"
    }
   ],
   "source": [
    "tlog = tlog.get_log()\n",
    "tlog.tail()"
   ]
  },
  {
   "cell_type": "markdown",
   "metadata": {},
   "source": [
    "The first 20 day high occurred on 2/22/2016, so we bought on the close that day.\n",
    "We held onto the present, then sold the positon."
   ]
  }
 ],
 "metadata": {
  "kernelspec": {
   "display_name": "Python 3 (ipykernel)",
   "language": "python",
   "name": "python3"
  },
  "language_info": {
   "codemirror_mode": {
    "name": "ipython",
    "version": 3
   },
   "file_extension": ".py",
   "mimetype": "text/x-python",
   "name": "python",
   "nbconvert_exporter": "python",
   "pygments_lexer": "ipython3",
   "version": "3.8.10"
  },
  "latex_envs": {
   "LaTeX_envs_menu_present": true,
   "autoclose": false,
   "autocomplete": true,
   "bibliofile": "biblio.bib",
   "cite_by": "apalike",
   "current_citInitial": 1,
   "eqLabelWithNumbers": true,
   "eqNumInitial": 1,
   "hotkeys": {
    "equation": "Ctrl-E",
    "itemize": "Ctrl-I"
   },
   "labels_anchors": false,
   "latex_user_defs": false,
   "report_style_numbering": false,
   "user_envs_cfg": false
  }
 },
 "nbformat": 4,
 "nbformat_minor": 1
}
