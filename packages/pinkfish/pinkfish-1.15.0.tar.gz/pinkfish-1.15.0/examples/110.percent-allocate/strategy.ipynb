{
 "cells": [
  {
   "cell_type": "markdown",
   "metadata": {},
   "source": [
    "# percent-allocate\n",
    "\n",
    "Maintain a percent allocation of a security in account  \n",
    "(1) If bull regime, set target share of 70%.  Allow range of 68% to 72%.  Check daily.  \n",
    "(2) If bear regime, close out position"
   ]
  },
  {
   "cell_type": "code",
   "execution_count": 1,
   "metadata": {
    "ExecuteTime": {
     "end_time": "2020-02-17T03:15:03.515877Z",
     "start_time": "2020-02-17T03:15:02.423279Z"
    }
   },
   "outputs": [],
   "source": [
    "import datetime\n",
    "\n",
    "import matplotlib.pyplot as plt\n",
    "import pandas as pd\n",
    "\n",
    "import pinkfish as pf\n",
    "\n",
    "# Format price data\n",
    "pd.options.display.float_format = '{:0.2f}'.format\n",
    "\n",
    "%matplotlib inline"
   ]
  },
  {
   "cell_type": "code",
   "execution_count": 2,
   "metadata": {
    "ExecuteTime": {
     "end_time": "2020-02-17T03:15:03.531819Z",
     "start_time": "2020-02-17T03:15:03.525627Z"
    }
   },
   "outputs": [],
   "source": [
    "# Set size of inline plots\n",
    "'''note: rcParams can't be in same cell as import matplotlib\n",
    "   or %matplotlib inline\n",
    "   \n",
    "   %matplotlib notebook: will lead to interactive plots embedded within\n",
    "   the notebook, you can zoom and resize the figure\n",
    "   \n",
    "   %matplotlib inline: only draw static images in the notebook\n",
    "'''\n",
    "plt.rcParams[\"figure.figsize\"] = (10, 7)"
   ]
  },
  {
   "cell_type": "markdown",
   "metadata": {},
   "source": [
    "Some global data"
   ]
  },
  {
   "cell_type": "code",
   "execution_count": 3,
   "metadata": {
    "ExecuteTime": {
     "end_time": "2020-02-17T03:15:03.554304Z",
     "start_time": "2020-02-17T03:15:03.547215Z"
    }
   },
   "outputs": [],
   "source": [
    "#symbol = '^GSPC'\n",
    "symbol = 'SPY'\n",
    "#symbol = 'DIA'\n",
    "#symbol = 'QQQ'\n",
    "#symbol = 'IWM'\n",
    "#symbol = 'TLT'\n",
    "#symbol = 'GLD'\n",
    "capital = 10000\n",
    "#start = datetime.datetime(1900, 1, 1)\n",
    "start = datetime.datetime(*pf.SP500_BEGIN)\n",
    "end = datetime.datetime.now()"
   ]
  },
  {
   "cell_type": "markdown",
   "metadata": {},
   "source": [
    "Define target_percent and band"
   ]
  },
  {
   "cell_type": "code",
   "execution_count": 4,
   "metadata": {
    "ExecuteTime": {
     "end_time": "2020-02-17T03:15:03.571198Z",
     "start_time": "2020-02-17T03:15:03.558479Z"
    }
   },
   "outputs": [],
   "source": [
    "options = {\n",
    "    'use_adj' : True,\n",
    "    'use_cache' : True,\n",
    "    'target_percent' : 70,\n",
    "    'band' : 1\n",
    "}"
   ]
  },
  {
   "cell_type": "markdown",
   "metadata": {},
   "source": [
    "Define Strategy Class "
   ]
  },
  {
   "cell_type": "code",
   "execution_count": 5,
   "metadata": {
    "ExecuteTime": {
     "end_time": "2020-02-17T03:15:03.656429Z",
     "start_time": "2020-02-17T03:15:03.576982Z"
    },
    "scrolled": false
   },
   "outputs": [],
   "source": [
    "class Strategy:\n",
    "\n",
    "    def __init__(self, symbol, capital, start, end, options):\n",
    "\n",
    "        self.symbol = symbol\n",
    "        self.capital = capital\n",
    "        self.start = start\n",
    "        self.end = end\n",
    "        self.options = options\n",
    "        \n",
    "        self.ts = None\n",
    "        self.rlog = None\n",
    "        self.tlog = None\n",
    "        self.dbal = None\n",
    "        self.stats = None\n",
    "\n",
    "    def _algo(self):\n",
    "        pf.TradeLog.cash = self.capital\n",
    "\n",
    "        for i, row in enumerate(self.ts.itertuples()):\n",
    "\n",
    "            date = row.Index.to_pydatetime()\n",
    "            close = row.close; \n",
    "            end_flag = pf.is_last_row(self.ts, i)\n",
    "            \n",
    "            share_percent = self.tlog.share_percent(close)\n",
    "            target_percent = self.options['target_percent'] \n",
    "            upper_band = target_percent + self.options['band']\n",
    "            lower_band = target_percent - self.options['band']\n",
    "            \n",
    "            # Close Out Logic\n",
    "            # First we check if an existing position in symbol should be sold\n",
    "            #  - sell if regime < 0 or end of data\n",
    "\n",
    "            if (self.tlog.shares > 0\n",
    "                and (row.regime < 0 or end_flag)):\n",
    "                # close position\n",
    "                self.tlog.adjust_percent(date, close, 0)\n",
    "\n",
    "            # Adjust Shares Logic\n",
    "            #  - Adjust Shares if regime > 0\n",
    "            #            and share percent outside of target_percent band\n",
    "            #            and (use_regime_filter and regime > 0)\n",
    "            \n",
    "            else:\n",
    "                if (row.regime > 0\n",
    "                    and (share_percent < lower_band or share_percent > upper_band)):\n",
    "                    # adjust shares to target_percent\n",
    "                    self.tlog.adjust_percent(date, close, target_percent)   \n",
    "\n",
    "            # record daily balance\n",
    "            self.dbal.append(date, close)\n",
    "\n",
    "    def run(self):\n",
    "        \n",
    "        # Fetch and select timeseries\n",
    "        self.ts = pf.fetch_timeseries(self.symbol, use_cache=self.options['use_cache'])\n",
    "        self.ts = pf.select_tradeperiod(self.ts, self.start, self.end, use_adj=self.options['use_adj'])\n",
    "\n",
    "        # Add technical indicator: 200 sma regime filter plus 3% band\n",
    "        self.ts['regime'] = \\\n",
    "            pf.CROSSOVER(self.ts, timeperiod_fast=1, timeperiod_slow=200, band=3.0)\n",
    "        \n",
    "        # Finalize timeseries\n",
    "        self.ts, self.start = pf.finalize_timeseries(self.ts, self.start,\n",
    "                                                     dropna=True, drop_columns=['open', 'high', 'low'])\n",
    "\n",
    "        self.tlog = pf.TradeLog(self.symbol)\n",
    "        self.dbal = pf.DailyBal()\n",
    "\n",
    "        self._algo()\n",
    "        self._get_logs()\n",
    "        self._get_stats()\n",
    "        \n",
    "    def _get_logs(self):\n",
    "        self.rlog = self.tlog.get_log_raw()\n",
    "        self.tlog = self.tlog.get_log()\n",
    "        self.dbal = self.dbal.get_log(self.tlog)\n",
    "\n",
    "    def _get_stats(self):\n",
    "        self.stats = pf.stats(self.ts, self.tlog, self.dbal, self.capital)"
   ]
  },
  {
   "cell_type": "markdown",
   "metadata": {},
   "source": [
    "Run Strategy"
   ]
  },
  {
   "cell_type": "code",
   "execution_count": 6,
   "metadata": {
    "ExecuteTime": {
     "end_time": "2020-02-17T03:15:03.909171Z",
     "start_time": "2020-02-17T03:15:03.666727Z"
    },
    "scrolled": false
   },
   "outputs": [],
   "source": [
    "s = Strategy(symbol, capital, start, end, options)\n",
    "s.run()"
   ]
  },
  {
   "cell_type": "markdown",
   "metadata": {},
   "source": [
    "View logs"
   ]
  },
  {
   "cell_type": "code",
   "execution_count": 7,
   "metadata": {
    "ExecuteTime": {
     "end_time": "2020-02-17T03:15:04.688620Z",
     "start_time": "2020-02-17T03:15:04.649143Z"
    }
   },
   "outputs": [
    {
     "data": {
      "text/html": [
       "<div>\n",
       "<style scoped>\n",
       "    .dataframe tbody tr th:only-of-type {\n",
       "        vertical-align: middle;\n",
       "    }\n",
       "\n",
       "    .dataframe tbody tr th {\n",
       "        vertical-align: top;\n",
       "    }\n",
       "\n",
       "    .dataframe thead th {\n",
       "        text-align: right;\n",
       "    }\n",
       "</style>\n",
       "<table border=\"1\" class=\"dataframe\">\n",
       "  <thead>\n",
       "    <tr style=\"text-align: right;\">\n",
       "      <th></th>\n",
       "      <th>date</th>\n",
       "      <th>seq_num</th>\n",
       "      <th>price</th>\n",
       "      <th>shares</th>\n",
       "      <th>entry_exit</th>\n",
       "      <th>direction</th>\n",
       "      <th>symbol</th>\n",
       "    </tr>\n",
       "  </thead>\n",
       "  <tbody>\n",
       "    <tr>\n",
       "      <th>151</th>\n",
       "      <td>2021-06-04</td>\n",
       "      <td>151</td>\n",
       "      <td>419.88</td>\n",
       "      <td>2</td>\n",
       "      <td>exit</td>\n",
       "      <td>LONG</td>\n",
       "      <td>SPY</td>\n",
       "    </tr>\n",
       "    <tr>\n",
       "      <th>152</th>\n",
       "      <td>2021-08-25</td>\n",
       "      <td>152</td>\n",
       "      <td>447.48</td>\n",
       "      <td>2</td>\n",
       "      <td>exit</td>\n",
       "      <td>LONG</td>\n",
       "      <td>SPY</td>\n",
       "    </tr>\n",
       "    <tr>\n",
       "      <th>153</th>\n",
       "      <td>2021-09-21</td>\n",
       "      <td>153</td>\n",
       "      <td>433.63</td>\n",
       "      <td>1</td>\n",
       "      <td>entry</td>\n",
       "      <td>LONG</td>\n",
       "      <td>SPY</td>\n",
       "    </tr>\n",
       "    <tr>\n",
       "      <th>154</th>\n",
       "      <td>2021-11-03</td>\n",
       "      <td>154</td>\n",
       "      <td>464.72</td>\n",
       "      <td>2</td>\n",
       "      <td>exit</td>\n",
       "      <td>LONG</td>\n",
       "      <td>SPY</td>\n",
       "    </tr>\n",
       "    <tr>\n",
       "      <th>155</th>\n",
       "      <td>2021-11-15</td>\n",
       "      <td>155</td>\n",
       "      <td>467.43</td>\n",
       "      <td>102</td>\n",
       "      <td>exit</td>\n",
       "      <td>LONG</td>\n",
       "      <td>SPY</td>\n",
       "    </tr>\n",
       "  </tbody>\n",
       "</table>\n",
       "</div>"
      ],
      "text/plain": [
       "          date  seq_num  price  shares entry_exit direction symbol\n",
       "151 2021-06-04      151 419.88       2       exit      LONG    SPY\n",
       "152 2021-08-25      152 447.48       2       exit      LONG    SPY\n",
       "153 2021-09-21      153 433.63       1      entry      LONG    SPY\n",
       "154 2021-11-03      154 464.72       2       exit      LONG    SPY\n",
       "155 2021-11-15      155 467.43     102       exit      LONG    SPY"
      ]
     },
     "execution_count": 7,
     "metadata": {},
     "output_type": "execute_result"
    }
   ],
   "source": [
    "s.rlog.tail()"
   ]
  },
  {
   "cell_type": "code",
   "execution_count": 8,
   "metadata": {
    "ExecuteTime": {
     "end_time": "2020-02-17T03:15:04.736529Z",
     "start_time": "2020-02-17T03:15:04.697248Z"
    }
   },
   "outputs": [
    {
     "data": {
      "text/html": [
       "<div>\n",
       "<style scoped>\n",
       "    .dataframe tbody tr th:only-of-type {\n",
       "        vertical-align: middle;\n",
       "    }\n",
       "\n",
       "    .dataframe tbody tr th {\n",
       "        vertical-align: top;\n",
       "    }\n",
       "\n",
       "    .dataframe thead th {\n",
       "        text-align: right;\n",
       "    }\n",
       "</style>\n",
       "<table border=\"1\" class=\"dataframe\">\n",
       "  <thead>\n",
       "    <tr style=\"text-align: right;\">\n",
       "      <th></th>\n",
       "      <th>entry_date</th>\n",
       "      <th>entry_price</th>\n",
       "      <th>exit_date</th>\n",
       "      <th>exit_price</th>\n",
       "      <th>pl_points</th>\n",
       "      <th>pl_cash</th>\n",
       "      <th>qty</th>\n",
       "      <th>cumul_total</th>\n",
       "      <th>direction</th>\n",
       "      <th>symbol</th>\n",
       "    </tr>\n",
       "  </thead>\n",
       "  <tbody>\n",
       "    <tr>\n",
       "      <th>138</th>\n",
       "      <td>2020-06-02</td>\n",
       "      <td>301.26</td>\n",
       "      <td>2021-08-25</td>\n",
       "      <td>447.48</td>\n",
       "      <td>146.21</td>\n",
       "      <td>292.43</td>\n",
       "      <td>2</td>\n",
       "      <td>41137.24</td>\n",
       "      <td>LONG</td>\n",
       "      <td>SPY</td>\n",
       "    </tr>\n",
       "    <tr>\n",
       "      <th>139</th>\n",
       "      <td>2020-06-02</td>\n",
       "      <td>301.26</td>\n",
       "      <td>2021-11-03</td>\n",
       "      <td>464.72</td>\n",
       "      <td>163.46</td>\n",
       "      <td>326.91</td>\n",
       "      <td>2</td>\n",
       "      <td>41464.15</td>\n",
       "      <td>LONG</td>\n",
       "      <td>SPY</td>\n",
       "    </tr>\n",
       "    <tr>\n",
       "      <th>140</th>\n",
       "      <td>2020-06-02</td>\n",
       "      <td>301.26</td>\n",
       "      <td>2021-11-15</td>\n",
       "      <td>467.43</td>\n",
       "      <td>166.17</td>\n",
       "      <td>16616.65</td>\n",
       "      <td>100</td>\n",
       "      <td>58080.80</td>\n",
       "      <td>LONG</td>\n",
       "      <td>SPY</td>\n",
       "    </tr>\n",
       "    <tr>\n",
       "      <th>141</th>\n",
       "      <td>2020-09-18</td>\n",
       "      <td>326.06</td>\n",
       "      <td>2021-11-15</td>\n",
       "      <td>467.43</td>\n",
       "      <td>141.37</td>\n",
       "      <td>141.37</td>\n",
       "      <td>1</td>\n",
       "      <td>58222.17</td>\n",
       "      <td>LONG</td>\n",
       "      <td>SPY</td>\n",
       "    </tr>\n",
       "    <tr>\n",
       "      <th>142</th>\n",
       "      <td>2021-09-21</td>\n",
       "      <td>433.63</td>\n",
       "      <td>2021-11-15</td>\n",
       "      <td>467.43</td>\n",
       "      <td>33.80</td>\n",
       "      <td>33.80</td>\n",
       "      <td>1</td>\n",
       "      <td>58255.97</td>\n",
       "      <td>LONG</td>\n",
       "      <td>SPY</td>\n",
       "    </tr>\n",
       "  </tbody>\n",
       "</table>\n",
       "</div>"
      ],
      "text/plain": [
       "    entry_date  entry_price  exit_date  exit_price  pl_points  pl_cash  qty  \\\n",
       "138 2020-06-02       301.26 2021-08-25      447.48     146.21   292.43    2   \n",
       "139 2020-06-02       301.26 2021-11-03      464.72     163.46   326.91    2   \n",
       "140 2020-06-02       301.26 2021-11-15      467.43     166.17 16616.65  100   \n",
       "141 2020-09-18       326.06 2021-11-15      467.43     141.37   141.37    1   \n",
       "142 2021-09-21       433.63 2021-11-15      467.43      33.80    33.80    1   \n",
       "\n",
       "     cumul_total direction symbol  \n",
       "138     41137.24      LONG    SPY  \n",
       "139     41464.15      LONG    SPY  \n",
       "140     58080.80      LONG    SPY  \n",
       "141     58222.17      LONG    SPY  \n",
       "142     58255.97      LONG    SPY  "
      ]
     },
     "execution_count": 8,
     "metadata": {},
     "output_type": "execute_result"
    }
   ],
   "source": [
    "s.tlog.tail()"
   ]
  },
  {
   "cell_type": "code",
   "execution_count": 9,
   "metadata": {
    "ExecuteTime": {
     "end_time": "2020-02-17T03:15:04.771082Z",
     "start_time": "2020-02-17T03:15:04.742132Z"
    }
   },
   "outputs": [
    {
     "data": {
      "text/html": [
       "<div>\n",
       "<style scoped>\n",
       "    .dataframe tbody tr th:only-of-type {\n",
       "        vertical-align: middle;\n",
       "    }\n",
       "\n",
       "    .dataframe tbody tr th {\n",
       "        vertical-align: top;\n",
       "    }\n",
       "\n",
       "    .dataframe thead th {\n",
       "        text-align: right;\n",
       "    }\n",
       "</style>\n",
       "<table border=\"1\" class=\"dataframe\">\n",
       "  <thead>\n",
       "    <tr style=\"text-align: right;\">\n",
       "      <th></th>\n",
       "      <th>high</th>\n",
       "      <th>low</th>\n",
       "      <th>close</th>\n",
       "      <th>shares</th>\n",
       "      <th>cash</th>\n",
       "      <th>leverage</th>\n",
       "      <th>state</th>\n",
       "    </tr>\n",
       "    <tr>\n",
       "      <th>date</th>\n",
       "      <th></th>\n",
       "      <th></th>\n",
       "      <th></th>\n",
       "      <th></th>\n",
       "      <th></th>\n",
       "      <th></th>\n",
       "      <th></th>\n",
       "    </tr>\n",
       "  </thead>\n",
       "  <tbody>\n",
       "    <tr>\n",
       "      <th>2021-11-09</th>\n",
       "      <td>68256.05</td>\n",
       "      <td>68256.05</td>\n",
       "      <td>68256.05</td>\n",
       "      <td>102</td>\n",
       "      <td>20583.29</td>\n",
       "      <td>1.00</td>\n",
       "      <td>-</td>\n",
       "    </tr>\n",
       "    <tr>\n",
       "      <th>2021-11-10</th>\n",
       "      <td>67872.53</td>\n",
       "      <td>67872.53</td>\n",
       "      <td>67872.53</td>\n",
       "      <td>102</td>\n",
       "      <td>20583.29</td>\n",
       "      <td>1.00</td>\n",
       "      <td>-</td>\n",
       "    </tr>\n",
       "    <tr>\n",
       "      <th>2021-11-11</th>\n",
       "      <td>67887.83</td>\n",
       "      <td>67887.83</td>\n",
       "      <td>67887.83</td>\n",
       "      <td>102</td>\n",
       "      <td>20583.29</td>\n",
       "      <td>1.00</td>\n",
       "      <td>-</td>\n",
       "    </tr>\n",
       "    <tr>\n",
       "      <th>2021-11-12</th>\n",
       "      <td>68244.83</td>\n",
       "      <td>68244.83</td>\n",
       "      <td>68244.83</td>\n",
       "      <td>102</td>\n",
       "      <td>20583.29</td>\n",
       "      <td>1.00</td>\n",
       "      <td>-</td>\n",
       "    </tr>\n",
       "    <tr>\n",
       "      <th>2021-11-15</th>\n",
       "      <td>68255.97</td>\n",
       "      <td>68255.97</td>\n",
       "      <td>68255.97</td>\n",
       "      <td>0</td>\n",
       "      <td>68255.97</td>\n",
       "      <td>1.00</td>\n",
       "      <td>X</td>\n",
       "    </tr>\n",
       "  </tbody>\n",
       "</table>\n",
       "</div>"
      ],
      "text/plain": [
       "               high      low    close  shares     cash  leverage state\n",
       "date                                                                  \n",
       "2021-11-09 68256.05 68256.05 68256.05     102 20583.29      1.00     -\n",
       "2021-11-10 67872.53 67872.53 67872.53     102 20583.29      1.00     -\n",
       "2021-11-11 67887.83 67887.83 67887.83     102 20583.29      1.00     -\n",
       "2021-11-12 68244.83 68244.83 68244.83     102 20583.29      1.00     -\n",
       "2021-11-15 68255.97 68255.97 68255.97       0 68255.97      1.00     X"
      ]
     },
     "execution_count": 9,
     "metadata": {},
     "output_type": "execute_result"
    }
   ],
   "source": [
    "s.dbal.tail()"
   ]
  },
  {
   "cell_type": "markdown",
   "metadata": {},
   "source": [
    "Run Benchmark"
   ]
  },
  {
   "cell_type": "code",
   "execution_count": 10,
   "metadata": {
    "ExecuteTime": {
     "end_time": "2020-02-17T03:15:04.990269Z",
     "start_time": "2020-02-17T03:15:04.835240Z"
    }
   },
   "outputs": [],
   "source": [
    "benchmark = pf.Benchmark(symbol, s.capital, s.start, s.end)\n",
    "benchmark.run()"
   ]
  },
  {
   "cell_type": "markdown",
   "metadata": {},
   "source": [
    "Plot Equity Curves: Strategy vs Benchmark"
   ]
  },
  {
   "cell_type": "code",
   "execution_count": 11,
   "metadata": {
    "ExecuteTime": {
     "end_time": "2020-02-17T03:15:06.060402Z",
     "start_time": "2020-02-17T03:15:05.735142Z"
    }
   },
   "outputs": [
    {
     "data": {
      "image/png": "[encoded data removed]",
      "text/plain": [
       "<Figure size 720x504 with 1 Axes>"
      ]
     },
     "metadata": {
      "needs_background": "light"
     },
     "output_type": "display_data"
    }
   ],
   "source": [
    "pf.plot_equity_curve(s.dbal, benchmark=benchmark.dbal)"
   ]
  },
  {
   "cell_type": "markdown",
   "metadata": {},
   "source": [
    "Plot Trades"
   ]
  },
  {
   "cell_type": "code",
   "execution_count": 12,
   "metadata": {
    "ExecuteTime": {
     "end_time": "2020-02-17T03:15:06.372872Z",
     "start_time": "2020-02-17T03:15:06.065643Z"
    },
    "scrolled": false
   },
   "outputs": [
    {
     "data": {
      "image/png": "[encoded data removed]",
      "text/plain": [
       "<Figure size 720x504 with 1 Axes>"
      ]
     },
     "metadata": {
      "needs_background": "light"
     },
     "output_type": "display_data"
    }
   ],
   "source": [
    "pf.plot_trades(s.dbal, benchmark=benchmark.dbal)"
   ]
  },
  {
   "cell_type": "markdown",
   "metadata": {},
   "source": [
    "Bar Graph: Strategy vs Benchmark"
   ]
  },
  {
   "cell_type": "code",
   "execution_count": 13,
   "metadata": {
    "ExecuteTime": {
     "end_time": "2020-02-17T03:15:06.833919Z",
     "start_time": "2020-02-17T03:15:06.380990Z"
    },
    "scrolled": false
   },
   "outputs": [
    {
     "data": {
      "text/html": [
       "<div>\n",
       "<style scoped>\n",
       "    .dataframe tbody tr th:only-of-type {\n",
       "        vertical-align: middle;\n",
       "    }\n",
       "\n",
       "    .dataframe tbody tr th {\n",
       "        vertical-align: top;\n",
       "    }\n",
       "\n",
       "    .dataframe thead th {\n",
       "        text-align: right;\n",
       "    }\n",
       "</style>\n",
       "<table border=\"1\" class=\"dataframe\">\n",
       "  <thead>\n",
       "    <tr style=\"text-align: right;\">\n",
       "      <th></th>\n",
       "      <th>strategy</th>\n",
       "      <th>benchmark</th>\n",
       "    </tr>\n",
       "  </thead>\n",
       "  <tbody>\n",
       "    <tr>\n",
       "      <th>annual_return_rate</th>\n",
       "      <td>7.10</td>\n",
       "      <td>8.59</td>\n",
       "    </tr>\n",
       "    <tr>\n",
       "      <th>max_closed_out_drawdown</th>\n",
       "      <td>-15.02</td>\n",
       "      <td>-56.42</td>\n",
       "    </tr>\n",
       "    <tr>\n",
       "      <th>annualized_return_over_max_drawdown</th>\n",
       "      <td>0.47</td>\n",
       "      <td>0.15</td>\n",
       "    </tr>\n",
       "    <tr>\n",
       "      <th>best_month</th>\n",
       "      <td>10.71</td>\n",
       "      <td>23.06</td>\n",
       "    </tr>\n",
       "    <tr>\n",
       "      <th>worst_month</th>\n",
       "      <td>-13.56</td>\n",
       "      <td>-31.38</td>\n",
       "    </tr>\n",
       "    <tr>\n",
       "      <th>sharpe_ratio</th>\n",
       "      <td>0.83</td>\n",
       "      <td>0.53</td>\n",
       "    </tr>\n",
       "    <tr>\n",
       "      <th>sortino_ratio</th>\n",
       "      <td>0.91</td>\n",
       "      <td>0.67</td>\n",
       "    </tr>\n",
       "    <tr>\n",
       "      <th>monthly_std</th>\n",
       "      <td>2.21</td>\n",
       "      <td>4.49</td>\n",
       "    </tr>\n",
       "    <tr>\n",
       "      <th>annual_std</th>\n",
       "      <td>8.44</td>\n",
       "      <td>16.94</td>\n",
       "    </tr>\n",
       "  </tbody>\n",
       "</table>\n",
       "</div>"
      ],
      "text/plain": [
       "                                     strategy  benchmark\n",
       "annual_return_rate                       7.10       8.59\n",
       "max_closed_out_drawdown                -15.02     -56.42\n",
       "annualized_return_over_max_drawdown      0.47       0.15\n",
       "best_month                              10.71      23.06\n",
       "worst_month                            -13.56     -31.38\n",
       "sharpe_ratio                             0.83       0.53\n",
       "sortino_ratio                            0.91       0.67\n",
       "monthly_std                              2.21       4.49\n",
       "annual_std                               8.44      16.94"
      ]
     },
     "execution_count": 13,
     "metadata": {},
     "output_type": "execute_result"
    },
    {
     "data": {
      "image/png": "[encoded data removed]",
      "text/plain": [
       "<Figure size 720x504 with 1 Axes>"
      ]
     },
     "metadata": {
      "needs_background": "light"
     },
     "output_type": "display_data"
    }
   ],
   "source": [
    "df = pf.plot_bar_graph(s.stats, benchmark.stats)\n",
    "df"
   ]
  }
 ],
 "metadata": {
  "kernelspec": {
   "display_name": "Python 3 (ipykernel)",
   "language": "python",
   "name": "python3"
  },
  "language_info": {
   "codemirror_mode": {
    "name": "ipython",
    "version": 3
   },
   "file_extension": ".py",
   "mimetype": "text/x-python",
   "name": "python",
   "nbconvert_exporter": "python",
   "pygments_lexer": "ipython3",
   "version": "3.8.10"
  },
  "latex_envs": {
   "LaTeX_envs_menu_present": true,
   "autoclose": false,
   "autocomplete": true,
   "bibliofile": "biblio.bib",
   "cite_by": "apalike",
   "current_citInitial": 1,
   "eqLabelWithNumbers": true,
   "eqNumInitial": 1,
   "hotkeys": {
    "equation": "Ctrl-E",
    "itemize": "Ctrl-I"
   },
   "labels_anchors": false,
   "latex_user_defs": false,
   "report_style_numbering": false,
   "user_envs_cfg": false
  }
 },
 "nbformat": 4,
 "nbformat_minor": 1
}
