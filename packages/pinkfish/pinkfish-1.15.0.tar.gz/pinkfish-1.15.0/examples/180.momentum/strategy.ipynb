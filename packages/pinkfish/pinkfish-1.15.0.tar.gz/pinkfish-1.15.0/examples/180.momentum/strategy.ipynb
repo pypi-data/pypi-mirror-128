{
 "cells": [
  {
   "cell_type": "markdown",
   "metadata": {},
   "source": [
    "# Momentum\n",
    "\n",
    "A stock that's going up tends to keep going up...until it doesn't.  Momentum is the theory that stocks that have recently gone up will keep going up disproportionate to their underlying value because folks are overenthusiastic about them.\n",
    "\n",
    "    On the first trading day of each week\n",
    "    1. The SPY is higher than 'lookback' months ago, buy\n",
    "    2. If the SPY is lower than 'lookback' months ago, sell your long position.\n",
    "    \n",
    "    The 'lookback' time period can be random, meaning a random lookback period is used for each new position."
   ]
  },
  {
   "cell_type": "code",
   "execution_count": 1,
   "metadata": {
    "ExecuteTime": {
     "end_time": "2020-02-17T00:14:27.299895Z",
     "start_time": "2020-02-17T00:14:26.067231Z"
    }
   },
   "outputs": [],
   "source": [
    "import pandas as pd\n",
    "import matplotlib.pyplot as plt\n",
    "import datetime\n",
    "\n",
    "import pinkfish as pf\n",
    "import strategy\n",
    "\n",
    "# format price data\n",
    "pd.options.display.float_format = '{:0.2f}'.format\n",
    "\n",
    "%matplotlib inline"
   ]
  },
  {
   "cell_type": "code",
   "execution_count": 2,
   "metadata": {
    "ExecuteTime": {
     "end_time": "2020-02-17T00:14:27.322100Z",
     "start_time": "2020-02-17T00:14:27.309830Z"
    }
   },
   "outputs": [],
   "source": [
    "# set size of inline plots\n",
    "'''note: rcParams can't be in same cell as import matplotlib\n",
    "   or %matplotlib inline\n",
    "   \n",
    "   %matplotlib notebook: will lead to interactive plots embedded within\n",
    "   the notebook, you can zoom and resize the figure\n",
    "   \n",
    "   %matplotlib inline: only draw static images in the notebook\n",
    "'''\n",
    "plt.rcParams[\"figure.figsize\"] = (10, 7)"
   ]
  },
  {
   "cell_type": "markdown",
   "metadata": {},
   "source": [
    "Some global data"
   ]
  },
  {
   "cell_type": "code",
   "execution_count": 3,
   "metadata": {
    "ExecuteTime": {
     "end_time": "2020-02-17T00:14:27.335835Z",
     "start_time": "2020-02-17T00:14:27.326955Z"
    }
   },
   "outputs": [],
   "source": [
    "#symbol = '^GSPC'\n",
    "symbol = 'SPY'\n",
    "#symbol = 'DIA'\n",
    "#symbol = 'QQQ'\n",
    "#symbol = 'IWM'\n",
    "#symbol = 'TLT'\n",
    "#symbol = 'GLD'\n",
    "#symbol = 'AAPL'\n",
    "#symbol = 'BBRY'\n",
    "#symbol = 'GDX'\n",
    "#symbol = 'OIH'\n",
    "\n",
    "capital = 10000\n",
    "start = datetime.datetime(1900, 1, 1)\n",
    "#start = datetime.datetime(*pf.SP500_BEGIN)\n",
    "end = datetime.datetime.now()"
   ]
  },
  {
   "cell_type": "code",
   "execution_count": 4,
   "metadata": {},
   "outputs": [],
   "source": [
    "options = {\n",
    "    'use_adj' : True,\n",
    "    'use_cache' : True,\n",
    "    'lookback': None,\n",
    "    'margin': 1\n",
    "}"
   ]
  },
  {
   "cell_type": "markdown",
   "metadata": {},
   "source": [
    "Run Strategy"
   ]
  },
  {
   "cell_type": "code",
   "execution_count": 5,
   "metadata": {
    "ExecuteTime": {
     "end_time": "2020-02-17T00:14:28.044983Z",
     "start_time": "2020-02-17T00:14:27.356050Z"
    },
    "scrolled": false
   },
   "outputs": [],
   "source": [
    "s = strategy.Strategy(symbol, capital, start, end, options)\n",
    "s.run()"
   ]
  },
  {
   "cell_type": "markdown",
   "metadata": {},
   "source": [
    "View logs"
   ]
  },
  {
   "cell_type": "code",
   "execution_count": 6,
   "metadata": {
    "ExecuteTime": {
     "end_time": "2020-02-17T00:14:28.757298Z",
     "start_time": "2020-02-17T00:14:28.710499Z"
    }
   },
   "outputs": [
    {
     "data": {
      "text/html": [
       "<div>\n",
       "<style scoped>\n",
       "    .dataframe tbody tr th:only-of-type {\n",
       "        vertical-align: middle;\n",
       "    }\n",
       "\n",
       "    .dataframe tbody tr th {\n",
       "        vertical-align: top;\n",
       "    }\n",
       "\n",
       "    .dataframe thead th {\n",
       "        text-align: right;\n",
       "    }\n",
       "</style>\n",
       "<table border=\"1\" class=\"dataframe\">\n",
       "  <thead>\n",
       "    <tr style=\"text-align: right;\">\n",
       "      <th></th>\n",
       "      <th>entry_date</th>\n",
       "      <th>entry_price</th>\n",
       "      <th>exit_date</th>\n",
       "      <th>exit_price</th>\n",
       "      <th>pl_points</th>\n",
       "      <th>pl_cash</th>\n",
       "      <th>qty</th>\n",
       "      <th>cumul_total</th>\n",
       "      <th>direction</th>\n",
       "      <th>symbol</th>\n",
       "    </tr>\n",
       "  </thead>\n",
       "  <tbody>\n",
       "    <tr>\n",
       "      <th>19</th>\n",
       "      <td>2012-02-06</td>\n",
       "      <td>111.41</td>\n",
       "      <td>2015-08-24</td>\n",
       "      <td>168.50</td>\n",
       "      <td>57.10</td>\n",
       "      <td>25751.15</td>\n",
       "      <td>451</td>\n",
       "      <td>66060.31</td>\n",
       "      <td>LONG</td>\n",
       "      <td>SPY</td>\n",
       "    </tr>\n",
       "    <tr>\n",
       "      <th>20</th>\n",
       "      <td>2015-08-31</td>\n",
       "      <td>175.77</td>\n",
       "      <td>2015-12-21</td>\n",
       "      <td>181.33</td>\n",
       "      <td>5.56</td>\n",
       "      <td>2402.73</td>\n",
       "      <td>432</td>\n",
       "      <td>68463.04</td>\n",
       "      <td>LONG</td>\n",
       "      <td>SPY</td>\n",
       "    </tr>\n",
       "    <tr>\n",
       "      <th>21</th>\n",
       "      <td>2015-12-28</td>\n",
       "      <td>184.51</td>\n",
       "      <td>2016-01-11</td>\n",
       "      <td>172.73</td>\n",
       "      <td>-11.78</td>\n",
       "      <td>-5005.99</td>\n",
       "      <td>425</td>\n",
       "      <td>63457.05</td>\n",
       "      <td>LONG</td>\n",
       "      <td>SPY</td>\n",
       "    </tr>\n",
       "    <tr>\n",
       "      <th>22</th>\n",
       "      <td>2016-02-16</td>\n",
       "      <td>170.64</td>\n",
       "      <td>2016-02-22</td>\n",
       "      <td>175.13</td>\n",
       "      <td>4.50</td>\n",
       "      <td>1933.16</td>\n",
       "      <td>430</td>\n",
       "      <td>65390.22</td>\n",
       "      <td>LONG</td>\n",
       "      <td>SPY</td>\n",
       "    </tr>\n",
       "    <tr>\n",
       "      <th>23</th>\n",
       "      <td>2016-03-07</td>\n",
       "      <td>180.36</td>\n",
       "      <td>2016-05-16</td>\n",
       "      <td>186.88</td>\n",
       "      <td>6.52</td>\n",
       "      <td>2727.29</td>\n",
       "      <td>418</td>\n",
       "      <td>68117.51</td>\n",
       "      <td>LONG</td>\n",
       "      <td>SPY</td>\n",
       "    </tr>\n",
       "    <tr>\n",
       "      <th>24</th>\n",
       "      <td>2016-05-31</td>\n",
       "      <td>189.65</td>\n",
       "      <td>2018-10-15</td>\n",
       "      <td>260.28</td>\n",
       "      <td>70.63</td>\n",
       "      <td>29030.35</td>\n",
       "      <td>411</td>\n",
       "      <td>97147.86</td>\n",
       "      <td>LONG</td>\n",
       "      <td>SPY</td>\n",
       "    </tr>\n",
       "    <tr>\n",
       "      <th>25</th>\n",
       "      <td>2018-10-22</td>\n",
       "      <td>260.86</td>\n",
       "      <td>2018-10-29</td>\n",
       "      <td>250.28</td>\n",
       "      <td>-10.58</td>\n",
       "      <td>-4336.32</td>\n",
       "      <td>410</td>\n",
       "      <td>92811.54</td>\n",
       "      <td>LONG</td>\n",
       "      <td>SPY</td>\n",
       "    </tr>\n",
       "    <tr>\n",
       "      <th>26</th>\n",
       "      <td>2018-11-05</td>\n",
       "      <td>259.32</td>\n",
       "      <td>2018-12-17</td>\n",
       "      <td>242.22</td>\n",
       "      <td>-17.10</td>\n",
       "      <td>-6772.53</td>\n",
       "      <td>396</td>\n",
       "      <td>86039.02</td>\n",
       "      <td>LONG</td>\n",
       "      <td>SPY</td>\n",
       "    </tr>\n",
       "    <tr>\n",
       "      <th>27</th>\n",
       "      <td>2019-01-28</td>\n",
       "      <td>251.65</td>\n",
       "      <td>2020-03-09</td>\n",
       "      <td>266.59</td>\n",
       "      <td>14.94</td>\n",
       "      <td>5693.55</td>\n",
       "      <td>381</td>\n",
       "      <td>91732.57</td>\n",
       "      <td>LONG</td>\n",
       "      <td>SPY</td>\n",
       "    </tr>\n",
       "    <tr>\n",
       "      <th>28</th>\n",
       "      <td>2020-05-11</td>\n",
       "      <td>286.03</td>\n",
       "      <td>2021-11-15</td>\n",
       "      <td>467.43</td>\n",
       "      <td>181.40</td>\n",
       "      <td>64397.63</td>\n",
       "      <td>355</td>\n",
       "      <td>156130.20</td>\n",
       "      <td>LONG</td>\n",
       "      <td>SPY</td>\n",
       "    </tr>\n",
       "  </tbody>\n",
       "</table>\n",
       "</div>"
      ],
      "text/plain": [
       "   entry_date  entry_price  exit_date  exit_price  pl_points  pl_cash  qty  \\\n",
       "19 2012-02-06       111.41 2015-08-24      168.50      57.10 25751.15  451   \n",
       "20 2015-08-31       175.77 2015-12-21      181.33       5.56  2402.73  432   \n",
       "21 2015-12-28       184.51 2016-01-11      172.73     -11.78 -5005.99  425   \n",
       "22 2016-02-16       170.64 2016-02-22      175.13       4.50  1933.16  430   \n",
       "23 2016-03-07       180.36 2016-05-16      186.88       6.52  2727.29  418   \n",
       "24 2016-05-31       189.65 2018-10-15      260.28      70.63 29030.35  411   \n",
       "25 2018-10-22       260.86 2018-10-29      250.28     -10.58 -4336.32  410   \n",
       "26 2018-11-05       259.32 2018-12-17      242.22     -17.10 -6772.53  396   \n",
       "27 2019-01-28       251.65 2020-03-09      266.59      14.94  5693.55  381   \n",
       "28 2020-05-11       286.03 2021-11-15      467.43     181.40 64397.63  355   \n",
       "\n",
       "    cumul_total direction symbol  \n",
       "19     66060.31      LONG    SPY  \n",
       "20     68463.04      LONG    SPY  \n",
       "21     63457.05      LONG    SPY  \n",
       "22     65390.22      LONG    SPY  \n",
       "23     68117.51      LONG    SPY  \n",
       "24     97147.86      LONG    SPY  \n",
       "25     92811.54      LONG    SPY  \n",
       "26     86039.02      LONG    SPY  \n",
       "27     91732.57      LONG    SPY  \n",
       "28    156130.20      LONG    SPY  "
      ]
     },
     "execution_count": 6,
     "metadata": {},
     "output_type": "execute_result"
    }
   ],
   "source": [
    "s.tlog.tail(10)"
   ]
  },
  {
   "cell_type": "code",
   "execution_count": 7,
   "metadata": {
    "ExecuteTime": {
     "end_time": "2020-02-17T00:14:28.794294Z",
     "start_time": "2020-02-17T00:14:28.762784Z"
    }
   },
   "outputs": [
    {
     "data": {
      "text/html": [
       "<div>\n",
       "<style scoped>\n",
       "    .dataframe tbody tr th:only-of-type {\n",
       "        vertical-align: middle;\n",
       "    }\n",
       "\n",
       "    .dataframe tbody tr th {\n",
       "        vertical-align: top;\n",
       "    }\n",
       "\n",
       "    .dataframe thead th {\n",
       "        text-align: right;\n",
       "    }\n",
       "</style>\n",
       "<table border=\"1\" class=\"dataframe\">\n",
       "  <thead>\n",
       "    <tr style=\"text-align: right;\">\n",
       "      <th></th>\n",
       "      <th>high</th>\n",
       "      <th>low</th>\n",
       "      <th>close</th>\n",
       "      <th>shares</th>\n",
       "      <th>cash</th>\n",
       "      <th>leverage</th>\n",
       "      <th>state</th>\n",
       "    </tr>\n",
       "    <tr>\n",
       "      <th>date</th>\n",
       "      <th></th>\n",
       "      <th></th>\n",
       "      <th></th>\n",
       "      <th></th>\n",
       "      <th></th>\n",
       "      <th></th>\n",
       "      <th></th>\n",
       "    </tr>\n",
       "  </thead>\n",
       "  <tbody>\n",
       "    <tr>\n",
       "      <th>2021-11-09</th>\n",
       "      <td>166112.45</td>\n",
       "      <td>166112.45</td>\n",
       "      <td>166112.45</td>\n",
       "      <td>355</td>\n",
       "      <td>192.55</td>\n",
       "      <td>1.00</td>\n",
       "      <td>-</td>\n",
       "    </tr>\n",
       "    <tr>\n",
       "      <th>2021-11-10</th>\n",
       "      <td>164777.65</td>\n",
       "      <td>164777.65</td>\n",
       "      <td>164777.65</td>\n",
       "      <td>355</td>\n",
       "      <td>192.55</td>\n",
       "      <td>1.00</td>\n",
       "      <td>-</td>\n",
       "    </tr>\n",
       "    <tr>\n",
       "      <th>2021-11-11</th>\n",
       "      <td>164830.89</td>\n",
       "      <td>164830.89</td>\n",
       "      <td>164830.89</td>\n",
       "      <td>355</td>\n",
       "      <td>192.55</td>\n",
       "      <td>1.00</td>\n",
       "      <td>-</td>\n",
       "    </tr>\n",
       "    <tr>\n",
       "      <th>2021-11-12</th>\n",
       "      <td>166073.39</td>\n",
       "      <td>166073.39</td>\n",
       "      <td>166073.39</td>\n",
       "      <td>355</td>\n",
       "      <td>192.55</td>\n",
       "      <td>1.00</td>\n",
       "      <td>-</td>\n",
       "    </tr>\n",
       "    <tr>\n",
       "      <th>2021-11-15</th>\n",
       "      <td>166130.20</td>\n",
       "      <td>166130.20</td>\n",
       "      <td>166130.20</td>\n",
       "      <td>0</td>\n",
       "      <td>166130.20</td>\n",
       "      <td>1.00</td>\n",
       "      <td>X</td>\n",
       "    </tr>\n",
       "  </tbody>\n",
       "</table>\n",
       "</div>"
      ],
      "text/plain": [
       "                high       low     close  shares      cash  leverage state\n",
       "date                                                                      \n",
       "2021-11-09 166112.45 166112.45 166112.45     355    192.55      1.00     -\n",
       "2021-11-10 164777.65 164777.65 164777.65     355    192.55      1.00     -\n",
       "2021-11-11 164830.89 164830.89 164830.89     355    192.55      1.00     -\n",
       "2021-11-12 166073.39 166073.39 166073.39     355    192.55      1.00     -\n",
       "2021-11-15 166130.20 166130.20 166130.20       0 166130.20      1.00     X"
      ]
     },
     "execution_count": 7,
     "metadata": {},
     "output_type": "execute_result"
    }
   ],
   "source": [
    "s.dbal.tail()"
   ]
  },
  {
   "cell_type": "markdown",
   "metadata": {},
   "source": [
    "Generate strategy stats - display all available stats"
   ]
  },
  {
   "cell_type": "code",
   "execution_count": 8,
   "metadata": {
    "ExecuteTime": {
     "end_time": "2020-02-17T00:14:28.850320Z",
     "start_time": "2020-02-17T00:14:28.798407Z"
    }
   },
   "outputs": [
    {
     "name": "stdout",
     "output_type": "stream",
     "text": [
      "start                                                   1994-07-05\n",
      "end                                                     2021-11-15\n",
      "beginning_balance                                            10000\n",
      "ending_balance                                           166130.20\n",
      "total_net_profit                                         156130.20\n",
      "gross_profit                                             181400.59\n",
      "gross_loss                                               -25270.40\n",
      "profit_factor                                                 7.18\n",
      "return_on_initial_capital                                  1561.30\n",
      "annual_return_rate                                           10.81\n",
      "trading_period                           27 years 4 months 10 days\n",
      "pct_time_in_market                                           83.48\n",
      "margin                                                           1\n",
      "avg_leverage                                                  1.00\n",
      "max_leverage                                                  1.00\n",
      "min_leverage                                                  1.00\n",
      "total_num_trades                                                29\n",
      "trades_per_year                                               1.06\n",
      "num_winning_trades                                              16\n",
      "num_losing_trades                                               13\n",
      "num_even_trades                                                  0\n",
      "pct_profitable_trades                                        55.17\n",
      "avg_profit_per_trade                                       5383.80\n",
      "avg_profit_per_winning_trade                              11337.54\n",
      "avg_loss_per_losing_trade                                 -1943.88\n",
      "ratio_avg_profit_win_loss                                     5.83\n",
      "largest_profit_winning_trade                              64397.63\n",
      "largest_loss_losing_trade                                 -6772.53\n",
      "num_winning_points                                          465.02\n",
      "num_losing_points                                           -62.20\n",
      "total_net_points                                            402.82\n",
      "avg_points                                                   13.89\n",
      "largest_points_winning_trade                                181.40\n",
      "largest_points_losing_trade                                 -17.10\n",
      "avg_pct_gain_per_trade                                       12.77\n",
      "largest_pct_winning_trade                                   123.37\n",
      "largest_pct_losing_trade                                     -6.59\n",
      "expected_shortfall                                               0\n",
      "max_consecutive_winning_trades                                   4\n",
      "max_consecutive_losing_trades                                    7\n",
      "avg_bars_winning_trades                                     346.56\n",
      "avg_bars_losing_trades                                       18.23\n",
      "max_closed_out_drawdown                                     -26.60\n",
      "max_closed_out_drawdown_peak_date                       2000-03-24\n",
      "max_closed_out_drawdown_trough_date                     2003-03-31\n",
      "max_closed_out_drawdown_recovery_date                   2004-12-13\n",
      "drawdown_loss_period                                          1102\n",
      "drawdown_recovery_period                                       623\n",
      "annualized_return_over_max_drawdown                           0.41\n",
      "max_intra_day_drawdown                                      -26.60\n",
      "avg_yearly_closed_out_drawdown                              -10.20\n",
      "max_yearly_closed_out_drawdown                              -23.78\n",
      "avg_monthly_closed_out_drawdown                              -2.89\n",
      "max_monthly_closed_out_drawdown                             -18.92\n",
      "avg_weekly_closed_out_drawdown                               -1.14\n",
      "max_weekly_closed_out_drawdown                              -12.82\n",
      "avg_yearly_closed_out_runup                                  20.98\n",
      "max_yearly_closed_out_runup                                  55.63\n",
      "avg_monthly_closed_out_runup                                  3.69\n",
      "max_monthly_closed_out_runup                                 17.78\n",
      "avg_weekly_closed_out_runup                                   1.36\n",
      "max_weekly_closed_out_runup                                   9.70\n",
      "pct_profitable_years                                         75.29\n",
      "best_year                                                    53.25\n",
      "worst_year                                                  -19.85\n",
      "avg_year                                                     11.35\n",
      "annual_std                                                   13.80\n",
      "pct_profitable_months                                        58.88\n",
      "best_month                                                   17.78\n",
      "worst_month                                                 -18.92\n",
      "avg_month                                                     0.88\n",
      "monthly_std                                                   3.52\n",
      "pct_profitable_weeks                                         51.10\n",
      "best_week                                                     9.70\n",
      "worst_week                                                  -12.82\n",
      "avg_week                                                      0.22\n",
      "weekly_std                                                    1.87\n",
      "pct_profitable_days                                          45.73\n",
      "best_day                                                      5.80\n",
      "worst_day                                                    -7.80\n",
      "avg_day                                                       0.04\n",
      "daily_std                                                     0.88\n",
      "sharpe_ratio                                                  0.81\n",
      "sharpe_ratio_max                                              0.85\n",
      "sharpe_ratio_min                                              0.77\n",
      "sortino_ratio                                                 0.94\n",
      "dtype: object\n"
     ]
    }
   ],
   "source": [
    "pf.print_full(s.stats)"
   ]
  },
  {
   "cell_type": "markdown",
   "metadata": {},
   "source": [
    "Equity curve"
   ]
  },
  {
   "cell_type": "markdown",
   "metadata": {},
   "source": [
    "Run Benchmark, Retrieve benchmark logs, and Generate benchmark stats"
   ]
  },
  {
   "cell_type": "code",
   "execution_count": 9,
   "metadata": {
    "ExecuteTime": {
     "end_time": "2020-02-17T00:14:29.548178Z",
     "start_time": "2020-02-17T00:14:28.860188Z"
    }
   },
   "outputs": [],
   "source": [
    "benchmark = pf.Benchmark(symbol, s.capital, s.start, s.end, use_adj=True)\n",
    "benchmark.run()"
   ]
  },
  {
   "cell_type": "markdown",
   "metadata": {},
   "source": [
    "Plot Equity Curves: Strategy vs Benchmark"
   ]
  },
  {
   "cell_type": "code",
   "execution_count": 10,
   "metadata": {
    "ExecuteTime": {
     "end_time": "2020-02-17T00:14:29.867093Z",
     "start_time": "2020-02-17T00:14:29.559972Z"
    },
    "scrolled": false
   },
   "outputs": [
    {
     "data": {
      "image/png": "[encoded data removed]",
      "text/plain": [
       "<Figure size 720x504 with 1 Axes>"
      ]
     },
     "metadata": {
      "needs_background": "light"
     },
     "output_type": "display_data"
    }
   ],
   "source": [
    "pf.plot_equity_curve(s.dbal, benchmark=benchmark.dbal)"
   ]
  },
  {
   "cell_type": "markdown",
   "metadata": {},
   "source": [
    "Plot Trades"
   ]
  },
  {
   "cell_type": "code",
   "execution_count": 11,
   "metadata": {
    "ExecuteTime": {
     "end_time": "2020-02-17T00:14:30.167037Z",
     "start_time": "2020-02-17T00:14:29.871073Z"
    }
   },
   "outputs": [
    {
     "data": {
      "image/png": "[encoded data removed]",
      "text/plain": [
       "<Figure size 720x504 with 1 Axes>"
      ]
     },
     "metadata": {
      "needs_background": "light"
     },
     "output_type": "display_data"
    }
   ],
   "source": [
    "pf.plot_trades(s.dbal, benchmark=benchmark.dbal)"
   ]
  },
  {
   "cell_type": "markdown",
   "metadata": {},
   "source": [
    "Bar Graph: Strategy vs Benchmark"
   ]
  },
  {
   "cell_type": "code",
   "execution_count": 12,
   "metadata": {
    "ExecuteTime": {
     "end_time": "2020-02-17T00:14:30.539134Z",
     "start_time": "2020-02-17T00:14:30.175300Z"
    }
   },
   "outputs": [
    {
     "data": {
      "text/html": [
       "<div>\n",
       "<style scoped>\n",
       "    .dataframe tbody tr th:only-of-type {\n",
       "        vertical-align: middle;\n",
       "    }\n",
       "\n",
       "    .dataframe tbody tr th {\n",
       "        vertical-align: top;\n",
       "    }\n",
       "\n",
       "    .dataframe thead th {\n",
       "        text-align: right;\n",
       "    }\n",
       "</style>\n",
       "<table border=\"1\" class=\"dataframe\">\n",
       "  <thead>\n",
       "    <tr style=\"text-align: right;\">\n",
       "      <th></th>\n",
       "      <th>strategy</th>\n",
       "      <th>benchmark</th>\n",
       "    </tr>\n",
       "  </thead>\n",
       "  <tbody>\n",
       "    <tr>\n",
       "      <th>annual_return_rate</th>\n",
       "      <td>10.81</td>\n",
       "      <td>10.95</td>\n",
       "    </tr>\n",
       "    <tr>\n",
       "      <th>max_closed_out_drawdown</th>\n",
       "      <td>-26.60</td>\n",
       "      <td>-55.17</td>\n",
       "    </tr>\n",
       "    <tr>\n",
       "      <th>annualized_return_over_max_drawdown</th>\n",
       "      <td>0.41</td>\n",
       "      <td>0.20</td>\n",
       "    </tr>\n",
       "    <tr>\n",
       "      <th>best_month</th>\n",
       "      <td>17.78</td>\n",
       "      <td>23.61</td>\n",
       "    </tr>\n",
       "    <tr>\n",
       "      <th>worst_month</th>\n",
       "      <td>-18.92</td>\n",
       "      <td>-30.98</td>\n",
       "    </tr>\n",
       "    <tr>\n",
       "      <th>sharpe_ratio</th>\n",
       "      <td>0.81</td>\n",
       "      <td>0.64</td>\n",
       "    </tr>\n",
       "    <tr>\n",
       "      <th>sortino_ratio</th>\n",
       "      <td>0.94</td>\n",
       "      <td>0.81</td>\n",
       "    </tr>\n",
       "    <tr>\n",
       "      <th>monthly_std</th>\n",
       "      <td>3.52</td>\n",
       "      <td>4.53</td>\n",
       "    </tr>\n",
       "    <tr>\n",
       "      <th>annual_std</th>\n",
       "      <td>13.80</td>\n",
       "      <td>17.43</td>\n",
       "    </tr>\n",
       "  </tbody>\n",
       "</table>\n",
       "</div>"
      ],
      "text/plain": [
       "                                     strategy  benchmark\n",
       "annual_return_rate                      10.81      10.95\n",
       "max_closed_out_drawdown                -26.60     -55.17\n",
       "annualized_return_over_max_drawdown      0.41       0.20\n",
       "best_month                              17.78      23.61\n",
       "worst_month                            -18.92     -30.98\n",
       "sharpe_ratio                             0.81       0.64\n",
       "sortino_ratio                            0.94       0.81\n",
       "monthly_std                              3.52       4.53\n",
       "annual_std                              13.80      17.43"
      ]
     },
     "execution_count": 12,
     "metadata": {},
     "output_type": "execute_result"
    },
    {
     "data": {
      "image/png": "[encoded data removed]",
      "text/plain": [
       "<Figure size 720x504 with 1 Axes>"
      ]
     },
     "metadata": {
      "needs_background": "light"
     },
     "output_type": "display_data"
    }
   ],
   "source": [
    "df = pf.plot_bar_graph(s.stats, benchmark.stats)\n",
    "df"
   ]
  },
  {
   "cell_type": "code",
   "execution_count": null,
   "metadata": {},
   "outputs": [],
   "source": []
  }
 ],
 "metadata": {
  "kernelspec": {
   "display_name": "Python 3 (ipykernel)",
   "language": "python",
   "name": "python3"
  },
  "language_info": {
   "codemirror_mode": {
    "name": "ipython",
    "version": 3
   },
   "file_extension": ".py",
   "mimetype": "text/x-python",
   "name": "python",
   "nbconvert_exporter": "python",
   "pygments_lexer": "ipython3",
   "version": "3.8.10"
  },
  "latex_envs": {
   "LaTeX_envs_menu_present": true,
   "autoclose": false,
   "autocomplete": true,
   "bibliofile": "biblio.bib",
   "cite_by": "apalike",
   "current_citInitial": 1,
   "eqLabelWithNumbers": true,
   "eqNumInitial": 1,
   "hotkeys": {
    "equation": "Ctrl-E",
    "itemize": "Ctrl-I"
   },
   "labels_anchors": false,
   "latex_user_defs": false,
   "report_style_numbering": false,
   "user_envs_cfg": false
  }
 },
 "nbformat": 4,
 "nbformat_minor": 1
}
