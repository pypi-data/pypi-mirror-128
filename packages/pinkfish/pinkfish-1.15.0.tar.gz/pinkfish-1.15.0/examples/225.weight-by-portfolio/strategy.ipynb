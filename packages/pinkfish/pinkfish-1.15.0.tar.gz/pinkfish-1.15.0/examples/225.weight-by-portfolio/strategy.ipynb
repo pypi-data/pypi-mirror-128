{
 "cells": [
  {
   "cell_type": "markdown",
   "metadata": {},
   "source": [
    "# Weight By Portfolio Strategy\n",
    "\n",
    "Basic buy and hold that allows weighting by user specified weights, Equal, Sharpe Ratio, Annual Returns, Std Dev, Vola, or DS Vola.  \n",
    "\n",
    "Rebalance is yearly, monthly, weekly, or daily.  Option to sell all shares of an investment is regime turns negative."
   ]
  },
  {
   "cell_type": "code",
   "execution_count": 1,
   "metadata": {
    "ExecuteTime": {
     "end_time": "2020-02-17T05:42:08.798393Z",
     "start_time": "2020-02-17T05:42:07.455687Z"
    }
   },
   "outputs": [],
   "source": [
    "import datetime\n",
    "\n",
    "import matplotlib.pyplot as plt\n",
    "import pandas as pd\n",
    "\n",
    "import pinkfish as pf\n",
    "import strategy\n",
    "\n",
    "# Format price data.\n",
    "pd.options.display.float_format = '{:0.2f}'.format\n",
    "\n",
    "%matplotlib inline"
   ]
  },
  {
   "cell_type": "code",
   "execution_count": 2,
   "metadata": {
    "ExecuteTime": {
     "end_time": "2020-02-17T05:42:08.816893Z",
     "start_time": "2020-02-17T05:42:08.808607Z"
    }
   },
   "outputs": [],
   "source": [
    "# Set size of inline plots.\n",
    "'''note: rcParams can't be in same cell as import matplotlib\n",
    "   or %matplotlib inline\n",
    "   \n",
    "   %matplotlib notebook: will lead to interactive plots embedded within\n",
    "   the notebook, you can zoom and resize the figure\n",
    "   \n",
    "   %matplotlib inline: only draw static images in the notebook\n",
    "'''\n",
    "plt.rcParams[\"figure.figsize\"] = (10, 7)"
   ]
  },
  {
   "cell_type": "markdown",
   "metadata": {},
   "source": [
    "Some global data"
   ]
  },
  {
   "cell_type": "code",
   "execution_count": 3,
   "metadata": {
    "ExecuteTime": {
     "end_time": "2020-02-17T05:42:08.835362Z",
     "start_time": "2020-02-17T05:42:08.821138Z"
    }
   },
   "outputs": [],
   "source": [
    "# Symbol Lists.\n",
    "SP500_Sectors = \\\n",
    "    {'XLB': None, 'XLE': None, 'XLF': None, 'XLI': None,\n",
    "     'XLK': None, 'XLP': None, 'XLU': None, 'XLV': None, 'XLY': None}\n",
    "\n",
    "Mixed_Asset_Classes = \\\n",
    "    {'IWB': None, 'SPY': None, 'VGK': None, 'IEV': None,\n",
    "     'EWJ': None, 'EPP': None, 'IEF': None, 'SHY': None, 'GLD': None}\n",
    "FANG_Stocks = \\\n",
    "    {'FB': None, 'AMZN': None, 'NFLX': None, 'GOOG': None}\n",
    "\n",
    "Stocks_Bonds_Gold = \\\n",
    "    {'SPY': None, 'QQQ': None, 'TLT': None, 'GLD': None}\n",
    "\n",
    "Stocks_Bonds = \\\n",
    "    {'SPY': 0.50, 'AGG': 0.50}\n",
    "\n",
    "# Pick one of the above.\n",
    "weights = Stocks_Bonds_Gold\n",
    "symbols = list(weights)\n",
    "\n",
    "capital = 100_000\n",
    "start = datetime.datetime(*pf.ALPHA_BEGIN)\n",
    "#start = datetime.datetime(*pf.SP500_BEGIN)\n",
    "end = datetime.datetime.now()"
   ]
  },
  {
   "cell_type": "code",
   "execution_count": 4,
   "metadata": {},
   "outputs": [],
   "source": [
    "weight_by_choices = ('equal', 'sharpe', 'ret', 'sd', 'vola', 'ds_vola')\n",
    "rebalance_choices = ('yearly', 'monthly', 'weekly', 'daily')\n",
    "\n",
    "options = {\n",
    "    'use_adj'           : True,\n",
    "    'use_cache'         : True,\n",
    "    'margin'            : 1,\n",
    "    'weights'           : weights,\n",
    "    'weight_by'         : 'vola',\n",
    "    'rebalance'         : 'monthly',\n",
    "    'use_regime_filter' : False\n",
    "}"
   ]
  },
  {
   "cell_type": "markdown",
   "metadata": {},
   "source": [
    "Run Strategy"
   ]
  },
  {
   "cell_type": "code",
   "execution_count": 5,
   "metadata": {
    "scrolled": false
   },
   "outputs": [],
   "source": [
    "s = strategy.Strategy(symbols, capital, start, end, options=options)\n",
    "s.run()"
   ]
  },
  {
   "cell_type": "markdown",
   "metadata": {},
   "source": [
    "View log DataFrames: raw trade log, trade log, and daily balance."
   ]
  },
  {
   "cell_type": "code",
   "execution_count": 6,
   "metadata": {},
   "outputs": [
    {
     "data": {
      "text/html": [
       "<div>\n",
       "<style scoped>\n",
       "    .dataframe tbody tr th:only-of-type {\n",
       "        vertical-align: middle;\n",
       "    }\n",
       "\n",
       "    .dataframe tbody tr th {\n",
       "        vertical-align: top;\n",
       "    }\n",
       "\n",
       "    .dataframe thead th {\n",
       "        text-align: right;\n",
       "    }\n",
       "</style>\n",
       "<table border=\"1\" class=\"dataframe\">\n",
       "  <thead>\n",
       "    <tr style=\"text-align: right;\">\n",
       "      <th></th>\n",
       "      <th>date</th>\n",
       "      <th>seq_num</th>\n",
       "      <th>price</th>\n",
       "      <th>shares</th>\n",
       "      <th>entry_exit</th>\n",
       "      <th>direction</th>\n",
       "      <th>symbol</th>\n",
       "    </tr>\n",
       "  </thead>\n",
       "  <tbody>\n",
       "    <tr>\n",
       "      <th>0</th>\n",
       "      <td>2007-11-20</td>\n",
       "      <td>0</td>\n",
       "      <td>109.30</td>\n",
       "      <td>184</td>\n",
       "      <td>entry</td>\n",
       "      <td>LONG</td>\n",
       "      <td>SPY</td>\n",
       "    </tr>\n",
       "    <tr>\n",
       "      <th>1</th>\n",
       "      <td>2007-11-20</td>\n",
       "      <td>1</td>\n",
       "      <td>79.47</td>\n",
       "      <td>188</td>\n",
       "      <td>entry</td>\n",
       "      <td>LONG</td>\n",
       "      <td>GLD</td>\n",
       "    </tr>\n",
       "    <tr>\n",
       "      <th>2</th>\n",
       "      <td>2007-11-20</td>\n",
       "      <td>2</td>\n",
       "      <td>62.03</td>\n",
       "      <td>807</td>\n",
       "      <td>entry</td>\n",
       "      <td>LONG</td>\n",
       "      <td>TLT</td>\n",
       "    </tr>\n",
       "    <tr>\n",
       "      <th>3</th>\n",
       "      <td>2007-11-20</td>\n",
       "      <td>3</td>\n",
       "      <td>44.08</td>\n",
       "      <td>335</td>\n",
       "      <td>entry</td>\n",
       "      <td>LONG</td>\n",
       "      <td>QQQ</td>\n",
       "    </tr>\n",
       "    <tr>\n",
       "      <th>4</th>\n",
       "      <td>2007-12-03</td>\n",
       "      <td>4</td>\n",
       "      <td>111.59</td>\n",
       "      <td>8</td>\n",
       "      <td>exit</td>\n",
       "      <td>LONG</td>\n",
       "      <td>SPY</td>\n",
       "    </tr>\n",
       "  </tbody>\n",
       "</table>\n",
       "</div>"
      ],
      "text/plain": [
       "        date  seq_num  price  shares entry_exit direction symbol\n",
       "0 2007-11-20        0 109.30     184      entry      LONG    SPY\n",
       "1 2007-11-20        1  79.47     188      entry      LONG    GLD\n",
       "2 2007-11-20        2  62.03     807      entry      LONG    TLT\n",
       "3 2007-11-20        3  44.08     335      entry      LONG    QQQ\n",
       "4 2007-12-03        4 111.59       8       exit      LONG    SPY"
      ]
     },
     "execution_count": 6,
     "metadata": {},
     "output_type": "execute_result"
    }
   ],
   "source": [
    "s.rlog.head()"
   ]
  },
  {
   "cell_type": "code",
   "execution_count": 7,
   "metadata": {},
   "outputs": [
    {
     "data": {
      "text/html": [
       "<div>\n",
       "<style scoped>\n",
       "    .dataframe tbody tr th:only-of-type {\n",
       "        vertical-align: middle;\n",
       "    }\n",
       "\n",
       "    .dataframe tbody tr th {\n",
       "        vertical-align: top;\n",
       "    }\n",
       "\n",
       "    .dataframe thead th {\n",
       "        text-align: right;\n",
       "    }\n",
       "</style>\n",
       "<table border=\"1\" class=\"dataframe\">\n",
       "  <thead>\n",
       "    <tr style=\"text-align: right;\">\n",
       "      <th></th>\n",
       "      <th>entry_date</th>\n",
       "      <th>entry_price</th>\n",
       "      <th>exit_date</th>\n",
       "      <th>exit_price</th>\n",
       "      <th>pl_points</th>\n",
       "      <th>pl_cash</th>\n",
       "      <th>qty</th>\n",
       "      <th>cumul_total</th>\n",
       "      <th>direction</th>\n",
       "      <th>symbol</th>\n",
       "    </tr>\n",
       "  </thead>\n",
       "  <tbody>\n",
       "    <tr>\n",
       "      <th>637</th>\n",
       "      <td>2021-09-01</td>\n",
       "      <td>450.36</td>\n",
       "      <td>2021-11-15</td>\n",
       "      <td>467.43</td>\n",
       "      <td>17.07</td>\n",
       "      <td>990.22</td>\n",
       "      <td>58</td>\n",
       "      <td>341670.34</td>\n",
       "      <td>LONG</td>\n",
       "      <td>SPY</td>\n",
       "    </tr>\n",
       "    <tr>\n",
       "      <th>638</th>\n",
       "      <td>2021-09-01</td>\n",
       "      <td>148.51</td>\n",
       "      <td>2021-11-15</td>\n",
       "      <td>145.48</td>\n",
       "      <td>-3.03</td>\n",
       "      <td>-670.05</td>\n",
       "      <td>221</td>\n",
       "      <td>341000.28</td>\n",
       "      <td>LONG</td>\n",
       "      <td>TLT</td>\n",
       "    </tr>\n",
       "    <tr>\n",
       "      <th>639</th>\n",
       "      <td>2021-10-01</td>\n",
       "      <td>164.59</td>\n",
       "      <td>2021-11-15</td>\n",
       "      <td>174.16</td>\n",
       "      <td>9.57</td>\n",
       "      <td>1741.74</td>\n",
       "      <td>182</td>\n",
       "      <td>342742.02</td>\n",
       "      <td>LONG</td>\n",
       "      <td>GLD</td>\n",
       "    </tr>\n",
       "    <tr>\n",
       "      <th>640</th>\n",
       "      <td>2021-10-01</td>\n",
       "      <td>360.18</td>\n",
       "      <td>2021-11-15</td>\n",
       "      <td>394.61</td>\n",
       "      <td>34.43</td>\n",
       "      <td>172.15</td>\n",
       "      <td>5</td>\n",
       "      <td>342914.17</td>\n",
       "      <td>LONG</td>\n",
       "      <td>QQQ</td>\n",
       "    </tr>\n",
       "    <tr>\n",
       "      <th>641</th>\n",
       "      <td>2021-11-01</td>\n",
       "      <td>460.04</td>\n",
       "      <td>2021-11-15</td>\n",
       "      <td>467.43</td>\n",
       "      <td>7.39</td>\n",
       "      <td>7.39</td>\n",
       "      <td>1</td>\n",
       "      <td>342921.56</td>\n",
       "      <td>LONG</td>\n",
       "      <td>SPY</td>\n",
       "    </tr>\n",
       "  </tbody>\n",
       "</table>\n",
       "</div>"
      ],
      "text/plain": [
       "    entry_date  entry_price  exit_date  exit_price  pl_points  pl_cash  qty  \\\n",
       "637 2021-09-01       450.36 2021-11-15      467.43      17.07   990.22   58   \n",
       "638 2021-09-01       148.51 2021-11-15      145.48      -3.03  -670.05  221   \n",
       "639 2021-10-01       164.59 2021-11-15      174.16       9.57  1741.74  182   \n",
       "640 2021-10-01       360.18 2021-11-15      394.61      34.43   172.15    5   \n",
       "641 2021-11-01       460.04 2021-11-15      467.43       7.39     7.39    1   \n",
       "\n",
       "     cumul_total direction symbol  \n",
       "637    341670.34      LONG    SPY  \n",
       "638    341000.28      LONG    TLT  \n",
       "639    342742.02      LONG    GLD  \n",
       "640    342914.17      LONG    QQQ  \n",
       "641    342921.56      LONG    SPY  "
      ]
     },
     "execution_count": 7,
     "metadata": {},
     "output_type": "execute_result"
    }
   ],
   "source": [
    "s.tlog.tail()"
   ]
  },
  {
   "cell_type": "code",
   "execution_count": 8,
   "metadata": {
    "scrolled": false
   },
   "outputs": [
    {
     "data": {
      "text/html": [
       "<div>\n",
       "<style scoped>\n",
       "    .dataframe tbody tr th:only-of-type {\n",
       "        vertical-align: middle;\n",
       "    }\n",
       "\n",
       "    .dataframe tbody tr th {\n",
       "        vertical-align: top;\n",
       "    }\n",
       "\n",
       "    .dataframe thead th {\n",
       "        text-align: right;\n",
       "    }\n",
       "</style>\n",
       "<table border=\"1\" class=\"dataframe\">\n",
       "  <thead>\n",
       "    <tr style=\"text-align: right;\">\n",
       "      <th></th>\n",
       "      <th>high</th>\n",
       "      <th>low</th>\n",
       "      <th>close</th>\n",
       "      <th>shares</th>\n",
       "      <th>cash</th>\n",
       "      <th>leverage</th>\n",
       "      <th>state</th>\n",
       "    </tr>\n",
       "    <tr>\n",
       "      <th>date</th>\n",
       "      <th></th>\n",
       "      <th></th>\n",
       "      <th></th>\n",
       "      <th></th>\n",
       "      <th></th>\n",
       "      <th></th>\n",
       "      <th></th>\n",
       "    </tr>\n",
       "  </thead>\n",
       "  <tbody>\n",
       "    <tr>\n",
       "      <th>2021-11-09</th>\n",
       "      <td>462572.56</td>\n",
       "      <td>462572.56</td>\n",
       "      <td>462572.56</td>\n",
       "      <td>1799</td>\n",
       "      <td>21575.20</td>\n",
       "      <td>1.00</td>\n",
       "      <td>-</td>\n",
       "    </tr>\n",
       "    <tr>\n",
       "      <th>2021-11-10</th>\n",
       "      <td>459390.65</td>\n",
       "      <td>459390.65</td>\n",
       "      <td>459390.65</td>\n",
       "      <td>1799</td>\n",
       "      <td>21575.20</td>\n",
       "      <td>1.00</td>\n",
       "      <td>-</td>\n",
       "    </tr>\n",
       "    <tr>\n",
       "      <th>2021-11-11</th>\n",
       "      <td>460232.02</td>\n",
       "      <td>460232.02</td>\n",
       "      <td>460232.02</td>\n",
       "      <td>1799</td>\n",
       "      <td>21575.20</td>\n",
       "      <td>1.00</td>\n",
       "      <td>-</td>\n",
       "    </tr>\n",
       "    <tr>\n",
       "      <th>2021-11-12</th>\n",
       "      <td>462193.21</td>\n",
       "      <td>462193.21</td>\n",
       "      <td>462193.21</td>\n",
       "      <td>1799</td>\n",
       "      <td>21575.20</td>\n",
       "      <td>1.00</td>\n",
       "      <td>-</td>\n",
       "    </tr>\n",
       "    <tr>\n",
       "      <th>2021-11-15</th>\n",
       "      <td>442921.56</td>\n",
       "      <td>442921.56</td>\n",
       "      <td>442921.56</td>\n",
       "      <td>0</td>\n",
       "      <td>442921.56</td>\n",
       "      <td>1.00</td>\n",
       "      <td>X</td>\n",
       "    </tr>\n",
       "  </tbody>\n",
       "</table>\n",
       "</div>"
      ],
      "text/plain": [
       "                high       low     close  shares      cash  leverage state\n",
       "date                                                                      \n",
       "2021-11-09 462572.56 462572.56 462572.56    1799  21575.20      1.00     -\n",
       "2021-11-10 459390.65 459390.65 459390.65    1799  21575.20      1.00     -\n",
       "2021-11-11 460232.02 460232.02 460232.02    1799  21575.20      1.00     -\n",
       "2021-11-12 462193.21 462193.21 462193.21    1799  21575.20      1.00     -\n",
       "2021-11-15 442921.56 442921.56 442921.56       0 442921.56      1.00     X"
      ]
     },
     "execution_count": 8,
     "metadata": {},
     "output_type": "execute_result"
    }
   ],
   "source": [
    "s.dbal.tail()"
   ]
  },
  {
   "cell_type": "markdown",
   "metadata": {},
   "source": [
    "Generate strategy stats - display all available stats."
   ]
  },
  {
   "cell_type": "code",
   "execution_count": 9,
   "metadata": {},
   "outputs": [
    {
     "name": "stdout",
     "output_type": "stream",
     "text": [
      "start                                                    2007-11-20\n",
      "end                                                      2021-11-15\n",
      "beginning_balance                                            100000\n",
      "ending_balance                                            442921.56\n",
      "total_net_profit                                          342921.56\n",
      "gross_profit                                              405709.81\n",
      "gross_loss                                                -62788.24\n",
      "profit_factor                                                  6.46\n",
      "return_on_initial_capital                                    342.92\n",
      "annual_return_rate                                            11.23\n",
      "trading_period                           13 years 11 months 26 days\n",
      "pct_time_in_market                                           100.00\n",
      "margin                                                            1\n",
      "avg_leverage                                                   1.00\n",
      "max_leverage                                                   1.00\n",
      "min_leverage                                                   1.00\n",
      "total_num_trades                                                642\n",
      "trades_per_year                                               45.90\n",
      "num_winning_trades                                              506\n",
      "num_losing_trades                                               136\n",
      "num_even_trades                                                   0\n",
      "pct_profitable_trades                                         78.82\n",
      "avg_profit_per_trade                                         534.15\n",
      "avg_profit_per_winning_trade                                 801.80\n",
      "avg_loss_per_losing_trade                                   -461.68\n",
      "ratio_avg_profit_win_loss                                      1.74\n",
      "largest_profit_winning_trade                                9124.10\n",
      "largest_loss_losing_trade                                  -5093.81\n",
      "num_winning_points                                         11701.43\n",
      "num_losing_points                                          -1559.96\n",
      "total_net_points                                           10141.47\n",
      "avg_points                                                    15.80\n",
      "largest_points_winning_trade                                 141.82\n",
      "largest_points_losing_trade                                  -48.07\n",
      "avg_pct_gain_per_trade                                        12.41\n",
      "largest_pct_winning_trade                                     93.47\n",
      "largest_pct_losing_trade                                     -42.31\n",
      "expected_shortfall                                           -39.06\n",
      "max_consecutive_winning_trades                                   54\n",
      "max_consecutive_losing_trades                                     5\n",
      "avg_bars_winning_trades                                      260.50\n",
      "avg_bars_losing_trades                                       223.71\n",
      "max_closed_out_drawdown                                      -20.27\n",
      "max_closed_out_drawdown_peak_date                        2008-05-20\n",
      "max_closed_out_drawdown_trough_date                      2008-10-27\n",
      "max_closed_out_drawdown_recovery_date                    2009-09-16\n",
      "drawdown_loss_period                                            160\n",
      "drawdown_recovery_period                                        324\n",
      "annualized_return_over_max_drawdown                            0.55\n",
      "max_intra_day_drawdown                                       -20.27\n",
      "avg_yearly_closed_out_drawdown                                -6.99\n",
      "max_yearly_closed_out_drawdown                               -20.27\n",
      "avg_monthly_closed_out_drawdown                               -2.07\n",
      "max_monthly_closed_out_drawdown                              -13.49\n",
      "avg_weekly_closed_out_drawdown                                -0.83\n",
      "max_weekly_closed_out_drawdown                                -8.78\n",
      "avg_yearly_closed_out_runup                                   17.64\n",
      "max_yearly_closed_out_runup                                   40.83\n",
      "avg_monthly_closed_out_runup                                   2.87\n",
      "max_monthly_closed_out_runup                                  18.96\n",
      "avg_weekly_closed_out_runup                                    1.04\n",
      "max_weekly_closed_out_runup                                    9.61\n",
      "pct_profitable_years                                          90.40\n",
      "best_year                                                     38.10\n",
      "worst_year                                                   -15.46\n",
      "avg_year                                                      12.64\n",
      "annual_std                                                    10.04\n",
      "pct_profitable_months                                         66.56\n",
      "best_month                                                    18.96\n",
      "worst_month                                                  -13.49\n",
      "avg_month                                                      0.90\n",
      "monthly_std                                                    2.63\n",
      "pct_profitable_weeks                                          60.76\n",
      "best_week                                                      9.61\n",
      "worst_week                                                    -8.78\n",
      "avg_week                                                       0.22\n",
      "weekly_std                                                     1.32\n",
      "pct_profitable_days                                           55.78\n",
      "best_day                                                       3.88\n",
      "worst_day                                                     -4.17\n",
      "avg_day                                                        0.04\n",
      "daily_std                                                      0.59\n",
      "sharpe_ratio                                                   1.18\n",
      "sharpe_ratio_max                                               1.25\n",
      "sharpe_ratio_min                                               1.12\n",
      "sortino_ratio                                                  1.59\n",
      "dtype: object\n"
     ]
    }
   ],
   "source": [
    "pf.print_full(s.stats)"
   ]
  },
  {
   "cell_type": "markdown",
   "metadata": {},
   "source": [
    "View Performance by Symbol"
   ]
  },
  {
   "cell_type": "code",
   "execution_count": 10,
   "metadata": {},
   "outputs": [
    {
     "data": {
      "text/html": [
       "<div>\n",
       "<style scoped>\n",
       "    .dataframe tbody tr th:only-of-type {\n",
       "        vertical-align: middle;\n",
       "    }\n",
       "\n",
       "    .dataframe tbody tr th {\n",
       "        vertical-align: top;\n",
       "    }\n",
       "\n",
       "    .dataframe thead th {\n",
       "        text-align: right;\n",
       "    }\n",
       "</style>\n",
       "<table border=\"1\" class=\"dataframe\">\n",
       "  <thead>\n",
       "    <tr style=\"text-align: right;\">\n",
       "      <th></th>\n",
       "      <th>cumul_total</th>\n",
       "      <th>weight</th>\n",
       "      <th>pct_cumul_total</th>\n",
       "      <th>relative_performance</th>\n",
       "    </tr>\n",
       "  </thead>\n",
       "  <tbody>\n",
       "    <tr>\n",
       "      <th>SPY</th>\n",
       "      <td>$111,372.03</td>\n",
       "      <td>0.25</td>\n",
       "      <td>0.32</td>\n",
       "      <td>1.30</td>\n",
       "    </tr>\n",
       "    <tr>\n",
       "      <th>GLD</th>\n",
       "      <td>$47,549.24</td>\n",
       "      <td>0.25</td>\n",
       "      <td>0.14</td>\n",
       "      <td>0.55</td>\n",
       "    </tr>\n",
       "    <tr>\n",
       "      <th>TLT</th>\n",
       "      <td>$47,331.94</td>\n",
       "      <td>0.25</td>\n",
       "      <td>0.14</td>\n",
       "      <td>0.55</td>\n",
       "    </tr>\n",
       "    <tr>\n",
       "      <th>QQQ</th>\n",
       "      <td>$136,668.35</td>\n",
       "      <td>0.25</td>\n",
       "      <td>0.40</td>\n",
       "      <td>1.59</td>\n",
       "    </tr>\n",
       "    <tr>\n",
       "      <th>TOTAL</th>\n",
       "      <td>$342,921.56</td>\n",
       "      <td>1.00</td>\n",
       "      <td>1.00</td>\n",
       "      <td>1.00</td>\n",
       "    </tr>\n",
       "  </tbody>\n",
       "</table>\n",
       "</div>"
      ],
      "text/plain": [
       "       cumul_total  weight  pct_cumul_total  relative_performance\n",
       "SPY    $111,372.03    0.25             0.32                  1.30\n",
       "GLD     $47,549.24    0.25             0.14                  0.55\n",
       "TLT     $47,331.94    0.25             0.14                  0.55\n",
       "QQQ    $136,668.35    0.25             0.40                  1.59\n",
       "TOTAL  $342,921.56    1.00             1.00                  1.00"
      ]
     },
     "execution_count": 10,
     "metadata": {},
     "output_type": "execute_result"
    },
    {
     "data": {
      "image/png": "[encoded data removed]",
      "text/plain": [
       "<Figure size 864x576 with 1 Axes>"
      ]
     },
     "metadata": {
      "needs_background": "light"
     },
     "output_type": "display_data"
    }
   ],
   "source": [
    "symbols_no_weights = [k for k,v in weights.items() if v is None]\n",
    "symbols_weights    = {k:v for k,v in weights.items() if v is not None}\n",
    "remaining_weight   = 1 - sum(symbols_weights.values())\n",
    "\n",
    "weights_ = weights.copy()\n",
    "for symbol in symbols_no_weights:\n",
    "    weights_[symbol] = (1 / len(symbols_no_weights)) * remaining_weight\n",
    "totals = s.portfolio.performance_per_symbol(weights=weights_)\n",
    "totals"
   ]
  },
  {
   "cell_type": "code",
   "execution_count": 11,
   "metadata": {},
   "outputs": [
    {
     "data": {
      "text/html": [
       "<div>\n",
       "<style scoped>\n",
       "    .dataframe tbody tr th:only-of-type {\n",
       "        vertical-align: middle;\n",
       "    }\n",
       "\n",
       "    .dataframe tbody tr th {\n",
       "        vertical-align: top;\n",
       "    }\n",
       "\n",
       "    .dataframe thead th {\n",
       "        text-align: right;\n",
       "    }\n",
       "</style>\n",
       "<table border=\"1\" class=\"dataframe\">\n",
       "  <thead>\n",
       "    <tr style=\"text-align: right;\">\n",
       "      <th></th>\n",
       "      <th>SPY</th>\n",
       "      <th>GLD</th>\n",
       "      <th>TLT</th>\n",
       "      <th>QQQ</th>\n",
       "    </tr>\n",
       "  </thead>\n",
       "  <tbody>\n",
       "    <tr>\n",
       "      <th>SPY</th>\n",
       "      <td>1.00</td>\n",
       "      <td>0.02</td>\n",
       "      <td>-0.43</td>\n",
       "      <td>0.92</td>\n",
       "    </tr>\n",
       "    <tr>\n",
       "      <th>GLD</th>\n",
       "      <td>0.02</td>\n",
       "      <td>1.00</td>\n",
       "      <td>0.16</td>\n",
       "      <td>0.01</td>\n",
       "    </tr>\n",
       "    <tr>\n",
       "      <th>TLT</th>\n",
       "      <td>-0.43</td>\n",
       "      <td>0.16</td>\n",
       "      <td>1.00</td>\n",
       "      <td>-0.38</td>\n",
       "    </tr>\n",
       "    <tr>\n",
       "      <th>QQQ</th>\n",
       "      <td>0.92</td>\n",
       "      <td>0.01</td>\n",
       "      <td>-0.38</td>\n",
       "      <td>1.00</td>\n",
       "    </tr>\n",
       "  </tbody>\n",
       "</table>\n",
       "</div>"
      ],
      "text/plain": [
       "      SPY  GLD   TLT   QQQ\n",
       "SPY  1.00 0.02 -0.43  0.92\n",
       "GLD  0.02 1.00  0.16  0.01\n",
       "TLT -0.43 0.16  1.00 -0.38\n",
       "QQQ  0.92 0.01 -0.38  1.00"
      ]
     },
     "execution_count": 11,
     "metadata": {},
     "output_type": "execute_result"
    },
    {
     "data": {
      "image/png": "[encoded data removed]",
      "text/plain": [
       "<Figure size 720x504 with 2 Axes>"
      ]
     },
     "metadata": {
      "needs_background": "light"
     },
     "output_type": "display_data"
    }
   ],
   "source": [
    "corr_df = s.portfolio.correlation_map(s.ts)\n",
    "corr_df"
   ]
  },
  {
   "cell_type": "markdown",
   "metadata": {},
   "source": [
    "Run Benchmark, Retrieve benchmark logs, and Generate benchmark stats."
   ]
  },
  {
   "cell_type": "code",
   "execution_count": 12,
   "metadata": {},
   "outputs": [],
   "source": [
    "benchmark = pf.Benchmark('SPY', s.capital, s.start, s.end, use_adj=True)\n",
    "benchmark.run()"
   ]
  },
  {
   "cell_type": "markdown",
   "metadata": {},
   "source": [
    "Plot Equity Curves: Strategy vs Benchmark"
   ]
  },
  {
   "cell_type": "code",
   "execution_count": 13,
   "metadata": {
    "scrolled": false
   },
   "outputs": [
    {
     "data": {
      "image/png": "[encoded data removed]",
      "text/plain": [
       "<Figure size 720x504 with 1 Axes>"
      ]
     },
     "metadata": {
      "needs_background": "light"
     },
     "output_type": "display_data"
    }
   ],
   "source": [
    "pf.plot_equity_curve(s.dbal, benchmark=benchmark.dbal)"
   ]
  },
  {
   "cell_type": "markdown",
   "metadata": {},
   "source": [
    "Bar Graph: Strategy vs Benchmark"
   ]
  },
  {
   "cell_type": "code",
   "execution_count": 14,
   "metadata": {},
   "outputs": [
    {
     "data": {
      "text/html": [
       "<div>\n",
       "<style scoped>\n",
       "    .dataframe tbody tr th:only-of-type {\n",
       "        vertical-align: middle;\n",
       "    }\n",
       "\n",
       "    .dataframe tbody tr th {\n",
       "        vertical-align: top;\n",
       "    }\n",
       "\n",
       "    .dataframe thead th {\n",
       "        text-align: right;\n",
       "    }\n",
       "</style>\n",
       "<table border=\"1\" class=\"dataframe\">\n",
       "  <thead>\n",
       "    <tr style=\"text-align: right;\">\n",
       "      <th></th>\n",
       "      <th>strategy</th>\n",
       "      <th>benchmark</th>\n",
       "    </tr>\n",
       "  </thead>\n",
       "  <tbody>\n",
       "    <tr>\n",
       "      <th>annual_return_rate</th>\n",
       "      <td>11.23</td>\n",
       "      <td>10.95</td>\n",
       "    </tr>\n",
       "    <tr>\n",
       "      <th>max_closed_out_drawdown</th>\n",
       "      <td>-20.27</td>\n",
       "      <td>-53.86</td>\n",
       "    </tr>\n",
       "    <tr>\n",
       "      <th>annualized_return_over_max_drawdown</th>\n",
       "      <td>0.55</td>\n",
       "      <td>0.20</td>\n",
       "    </tr>\n",
       "    <tr>\n",
       "      <th>best_month</th>\n",
       "      <td>18.96</td>\n",
       "      <td>23.61</td>\n",
       "    </tr>\n",
       "    <tr>\n",
       "      <th>worst_month</th>\n",
       "      <td>-13.49</td>\n",
       "      <td>-30.98</td>\n",
       "    </tr>\n",
       "    <tr>\n",
       "      <th>sharpe_ratio</th>\n",
       "      <td>1.18</td>\n",
       "      <td>0.61</td>\n",
       "    </tr>\n",
       "    <tr>\n",
       "      <th>sortino_ratio</th>\n",
       "      <td>1.59</td>\n",
       "      <td>0.73</td>\n",
       "    </tr>\n",
       "    <tr>\n",
       "      <th>monthly_std</th>\n",
       "      <td>2.63</td>\n",
       "      <td>4.81</td>\n",
       "    </tr>\n",
       "    <tr>\n",
       "      <th>annual_std</th>\n",
       "      <td>10.04</td>\n",
       "      <td>16.59</td>\n",
       "    </tr>\n",
       "  </tbody>\n",
       "</table>\n",
       "</div>"
      ],
      "text/plain": [
       "                                     strategy  benchmark\n",
       "annual_return_rate                      11.23      10.95\n",
       "max_closed_out_drawdown                -20.27     -53.86\n",
       "annualized_return_over_max_drawdown      0.55       0.20\n",
       "best_month                              18.96      23.61\n",
       "worst_month                            -13.49     -30.98\n",
       "sharpe_ratio                             1.18       0.61\n",
       "sortino_ratio                            1.59       0.73\n",
       "monthly_std                              2.63       4.81\n",
       "annual_std                              10.04      16.59"
      ]
     },
     "execution_count": 14,
     "metadata": {},
     "output_type": "execute_result"
    },
    {
     "data": {
      "image/png": "[encoded data removed]",
      "text/plain": [
       "<Figure size 720x504 with 1 Axes>"
      ]
     },
     "metadata": {
      "needs_background": "light"
     },
     "output_type": "display_data"
    }
   ],
   "source": [
    "df = pf.plot_bar_graph(s.stats, benchmark.stats)\n",
    "df"
   ]
  },
  {
   "cell_type": "markdown",
   "metadata": {},
   "source": [
    "Analysis: Kelly Criterian"
   ]
  },
  {
   "cell_type": "code",
   "execution_count": 15,
   "metadata": {},
   "outputs": [
    {
     "data": {
      "text/plain": [
       "sharpe_ratio            1.18\n",
       "sharpe_ratio_max        1.25\n",
       "sharpe_ratio_min        1.12\n",
       "strategy risk           0.10\n",
       "instrument risk         0.17\n",
       "optimal target risk     1.18\n",
       "half kelly criterion    0.59\n",
       "aggressive leverage     7.14\n",
       "moderate leverage       3.57\n",
       "conservative leverage   3.37\n",
       "dtype: float64"
      ]
     },
     "execution_count": 15,
     "metadata": {},
     "output_type": "execute_result"
    }
   ],
   "source": [
    "kelly = pf.kelly_criterion(s.stats, benchmark.stats)\n",
    "kelly"
   ]
  },
  {
   "cell_type": "code",
   "execution_count": null,
   "metadata": {},
   "outputs": [],
   "source": []
  }
 ],
 "metadata": {
  "kernelspec": {
   "display_name": "Python 3 (ipykernel)",
   "language": "python",
   "name": "python3"
  },
  "language_info": {
   "codemirror_mode": {
    "name": "ipython",
    "version": 3
   },
   "file_extension": ".py",
   "mimetype": "text/x-python",
   "name": "python",
   "nbconvert_exporter": "python",
   "pygments_lexer": "ipython3",
   "version": "3.8.10"
  },
  "latex_envs": {
   "LaTeX_envs_menu_present": true,
   "autoclose": false,
   "autocomplete": true,
   "bibliofile": "biblio.bib",
   "cite_by": "apalike",
   "current_citInitial": 1,
   "eqLabelWithNumbers": true,
   "eqNumInitial": 1,
   "hotkeys": {
    "equation": "Ctrl-E",
    "itemize": "Ctrl-I"
   },
   "labels_anchors": false,
   "latex_user_defs": false,
   "report_style_numbering": false,
   "user_envs_cfg": false
  }
 },
 "nbformat": 4,
 "nbformat_minor": 1
}
