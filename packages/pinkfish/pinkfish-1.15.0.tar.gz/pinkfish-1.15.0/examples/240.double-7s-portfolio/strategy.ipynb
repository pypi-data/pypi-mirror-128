{
 "cells": [
  {
   "cell_type": "markdown",
   "metadata": {},
   "source": [
    "# Double 7's Portfolio (Short Term Trading Strategies that Work)\n",
    "\n",
    "    1. The Security is above its 200-day moving average or X-day ma\n",
    "    2. The Security closes at a 7-day low, buy.\n",
    "    3. If the Security closes at a 7-day high, sell your long position.\n",
    "    \n",
    "    (For a Portfolio of securities.)"
   ]
  },
  {
   "cell_type": "code",
   "execution_count": 1,
   "metadata": {
    "ExecuteTime": {
     "end_time": "2020-02-17T05:42:08.798393Z",
     "start_time": "2020-02-17T05:42:07.455687Z"
    }
   },
   "outputs": [],
   "source": [
    "import datetime\n",
    "\n",
    "import matplotlib.pyplot as plt\n",
    "import pandas as pd\n",
    "\n",
    "import pinkfish as pf\n",
    "import strategy\n",
    "\n",
    "# Format price data.\n",
    "pd.options.display.float_format = '{:0.2f}'.format\n",
    "\n",
    "%matplotlib inline"
   ]
  },
  {
   "cell_type": "code",
   "execution_count": 2,
   "metadata": {
    "ExecuteTime": {
     "end_time": "2020-02-17T05:42:08.816893Z",
     "start_time": "2020-02-17T05:42:08.808607Z"
    }
   },
   "outputs": [],
   "source": [
    "# Set size of inline plots\n",
    "'''note: rcParams can't be in same cell as import matplotlib\n",
    "   or %matplotlib inline\n",
    "   \n",
    "   %matplotlib notebook: will lead to interactive plots embedded within\n",
    "   the notebook, you can zoom and resize the figure\n",
    "   \n",
    "   %matplotlib inline: only draw static images in the notebook\n",
    "'''\n",
    "plt.rcParams[\"figure.figsize\"] = (10, 7)"
   ]
  },
  {
   "cell_type": "markdown",
   "metadata": {},
   "source": [
    "Some global data"
   ]
  },
  {
   "cell_type": "code",
   "execution_count": 3,
   "metadata": {
    "ExecuteTime": {
     "end_time": "2020-02-17T05:42:08.835362Z",
     "start_time": "2020-02-17T05:42:08.821138Z"
    }
   },
   "outputs": [],
   "source": [
    "# Symbol Lists\n",
    "SP500_Sectors = ['XLB', 'XLE', 'XLF', 'XLI', 'XLK', 'XLP', 'XLU', 'XLV', 'XLY']\n",
    "Mixed_Asset_Classes = ['IWB', 'SPY', 'VGK', 'IEV', 'EWJ', 'EPP', 'IEF', 'SHY', 'GLD']\n",
    "FANG_Stocks = ['FB', 'AMZN', 'NFLX', 'GOOG']\n",
    "Stocks_Bonds_Gold = ['SPY', 'QQQ', 'TLT', 'GLD']\n",
    "\n",
    "# Pick one of the above\n",
    "symbols = Stocks_Bonds_Gold\n",
    "\n",
    "capital = 10000\n",
    "start = datetime.datetime(*pf.ALPHA_BEGIN)\n",
    "#start = datetime.datetime(*pf.SP500_BEGIN)\n",
    "end = datetime.datetime.now()"
   ]
  },
  {
   "cell_type": "code",
   "execution_count": 4,
   "metadata": {},
   "outputs": [],
   "source": [
    "options = {\n",
    "    'use_adj' : False,\n",
    "    'use_cache' : True,\n",
    "    'stop_loss_pct' : 0.15,\n",
    "    'margin' : 3.0,\n",
    "    'period' : 7,\n",
    "    'use_regime_filter' : True,\n",
    "    'use_vola_weight' : True\n",
    "}"
   ]
  },
  {
   "cell_type": "markdown",
   "metadata": {},
   "source": [
    "Run Strategy"
   ]
  },
  {
   "cell_type": "code",
   "execution_count": 5,
   "metadata": {
    "scrolled": false
   },
   "outputs": [
    {
     "name": "stdout",
     "output_type": "stream",
     "text": [
      "STOP LOSS!!!\n",
      "STOP LOSS!!!\n"
     ]
    }
   ],
   "source": [
    "s = strategy.Strategy(symbols, capital, start, end, options=options)\n",
    "s.run()"
   ]
  },
  {
   "cell_type": "markdown",
   "metadata": {},
   "source": [
    "View log DataFrames: raw trade log, trade log, and daily balance"
   ]
  },
  {
   "cell_type": "code",
   "execution_count": 6,
   "metadata": {},
   "outputs": [
    {
     "data": {
      "text/html": [
       "<div>\n",
       "<style scoped>\n",
       "    .dataframe tbody tr th:only-of-type {\n",
       "        vertical-align: middle;\n",
       "    }\n",
       "\n",
       "    .dataframe tbody tr th {\n",
       "        vertical-align: top;\n",
       "    }\n",
       "\n",
       "    .dataframe thead th {\n",
       "        text-align: right;\n",
       "    }\n",
       "</style>\n",
       "<table border=\"1\" class=\"dataframe\">\n",
       "  <thead>\n",
       "    <tr style=\"text-align: right;\">\n",
       "      <th></th>\n",
       "      <th>date</th>\n",
       "      <th>seq_num</th>\n",
       "      <th>price</th>\n",
       "      <th>shares</th>\n",
       "      <th>entry_exit</th>\n",
       "      <th>direction</th>\n",
       "      <th>symbol</th>\n",
       "    </tr>\n",
       "  </thead>\n",
       "  <tbody>\n",
       "    <tr>\n",
       "      <th>0</th>\n",
       "      <td>2005-09-07</td>\n",
       "      <td>0</td>\n",
       "      <td>93.60</td>\n",
       "      <td>93</td>\n",
       "      <td>entry</td>\n",
       "      <td>LONG</td>\n",
       "      <td>TLT</td>\n",
       "    </tr>\n",
       "    <tr>\n",
       "      <th>1</th>\n",
       "      <td>2005-09-14</td>\n",
       "      <td>1</td>\n",
       "      <td>123.21</td>\n",
       "      <td>63</td>\n",
       "      <td>entry</td>\n",
       "      <td>LONG</td>\n",
       "      <td>SPY</td>\n",
       "    </tr>\n",
       "    <tr>\n",
       "      <th>2</th>\n",
       "      <td>2005-09-14</td>\n",
       "      <td>2</td>\n",
       "      <td>39.18</td>\n",
       "      <td>195</td>\n",
       "      <td>entry</td>\n",
       "      <td>LONG</td>\n",
       "      <td>QQQ</td>\n",
       "    </tr>\n",
       "    <tr>\n",
       "      <th>3</th>\n",
       "      <td>2005-09-29</td>\n",
       "      <td>3</td>\n",
       "      <td>122.66</td>\n",
       "      <td>63</td>\n",
       "      <td>exit</td>\n",
       "      <td>LONG</td>\n",
       "      <td>SPY</td>\n",
       "    </tr>\n",
       "    <tr>\n",
       "      <th>4</th>\n",
       "      <td>2005-09-29</td>\n",
       "      <td>4</td>\n",
       "      <td>39.20</td>\n",
       "      <td>195</td>\n",
       "      <td>exit</td>\n",
       "      <td>LONG</td>\n",
       "      <td>QQQ</td>\n",
       "    </tr>\n",
       "  </tbody>\n",
       "</table>\n",
       "</div>"
      ],
      "text/plain": [
       "        date  seq_num  price  shares entry_exit direction symbol\n",
       "0 2005-09-07        0  93.60      93      entry      LONG    TLT\n",
       "1 2005-09-14        1 123.21      63      entry      LONG    SPY\n",
       "2 2005-09-14        2  39.18     195      entry      LONG    QQQ\n",
       "3 2005-09-29        3 122.66      63       exit      LONG    SPY\n",
       "4 2005-09-29        4  39.20     195       exit      LONG    QQQ"
      ]
     },
     "execution_count": 6,
     "metadata": {},
     "output_type": "execute_result"
    }
   ],
   "source": [
    "s.rlog.head()"
   ]
  },
  {
   "cell_type": "code",
   "execution_count": 7,
   "metadata": {},
   "outputs": [
    {
     "data": {
      "text/html": [
       "<div>\n",
       "<style scoped>\n",
       "    .dataframe tbody tr th:only-of-type {\n",
       "        vertical-align: middle;\n",
       "    }\n",
       "\n",
       "    .dataframe tbody tr th {\n",
       "        vertical-align: top;\n",
       "    }\n",
       "\n",
       "    .dataframe thead th {\n",
       "        text-align: right;\n",
       "    }\n",
       "</style>\n",
       "<table border=\"1\" class=\"dataframe\">\n",
       "  <thead>\n",
       "    <tr style=\"text-align: right;\">\n",
       "      <th></th>\n",
       "      <th>entry_date</th>\n",
       "      <th>entry_price</th>\n",
       "      <th>exit_date</th>\n",
       "      <th>exit_price</th>\n",
       "      <th>pl_points</th>\n",
       "      <th>pl_cash</th>\n",
       "      <th>qty</th>\n",
       "      <th>cumul_total</th>\n",
       "      <th>direction</th>\n",
       "      <th>symbol</th>\n",
       "    </tr>\n",
       "  </thead>\n",
       "  <tbody>\n",
       "    <tr>\n",
       "      <th>588</th>\n",
       "      <td>2021-08-18</td>\n",
       "      <td>439.18</td>\n",
       "      <td>2021-08-23</td>\n",
       "      <td>447.26</td>\n",
       "      <td>8.08</td>\n",
       "      <td>2327.04</td>\n",
       "      <td>288</td>\n",
       "      <td>127946.25</td>\n",
       "      <td>LONG</td>\n",
       "      <td>SPY</td>\n",
       "    </tr>\n",
       "    <tr>\n",
       "      <th>589</th>\n",
       "      <td>2021-08-25</td>\n",
       "      <td>148.04</td>\n",
       "      <td>2021-09-09</td>\n",
       "      <td>149.72</td>\n",
       "      <td>1.68</td>\n",
       "      <td>1112.17</td>\n",
       "      <td>662</td>\n",
       "      <td>129058.42</td>\n",
       "      <td>LONG</td>\n",
       "      <td>TLT</td>\n",
       "    </tr>\n",
       "    <tr>\n",
       "      <th>590</th>\n",
       "      <td>2021-09-08</td>\n",
       "      <td>450.91</td>\n",
       "      <td>2021-10-06</td>\n",
       "      <td>434.90</td>\n",
       "      <td>-16.01</td>\n",
       "      <td>-4626.89</td>\n",
       "      <td>289</td>\n",
       "      <td>124431.52</td>\n",
       "      <td>LONG</td>\n",
       "      <td>SPY</td>\n",
       "    </tr>\n",
       "    <tr>\n",
       "      <th>591</th>\n",
       "      <td>2021-09-09</td>\n",
       "      <td>379.47</td>\n",
       "      <td>2021-10-07</td>\n",
       "      <td>362.97</td>\n",
       "      <td>-16.50</td>\n",
       "      <td>-4488.00</td>\n",
       "      <td>272</td>\n",
       "      <td>119943.52</td>\n",
       "      <td>LONG</td>\n",
       "      <td>QQQ</td>\n",
       "    </tr>\n",
       "    <tr>\n",
       "      <th>592</th>\n",
       "      <td>2021-09-23</td>\n",
       "      <td>148.36</td>\n",
       "      <td>2021-10-13</td>\n",
       "      <td>145.34</td>\n",
       "      <td>-3.02</td>\n",
       "      <td>-1929.78</td>\n",
       "      <td>639</td>\n",
       "      <td>118013.74</td>\n",
       "      <td>LONG</td>\n",
       "      <td>TLT</td>\n",
       "    </tr>\n",
       "  </tbody>\n",
       "</table>\n",
       "</div>"
      ],
      "text/plain": [
       "    entry_date  entry_price  exit_date  exit_price  pl_points  pl_cash  qty  \\\n",
       "588 2021-08-18       439.18 2021-08-23      447.26       8.08  2327.04  288   \n",
       "589 2021-08-25       148.04 2021-09-09      149.72       1.68  1112.17  662   \n",
       "590 2021-09-08       450.91 2021-10-06      434.90     -16.01 -4626.89  289   \n",
       "591 2021-09-09       379.47 2021-10-07      362.97     -16.50 -4488.00  272   \n",
       "592 2021-09-23       148.36 2021-10-13      145.34      -3.02 -1929.78  639   \n",
       "\n",
       "     cumul_total direction symbol  \n",
       "588    127946.25      LONG    SPY  \n",
       "589    129058.42      LONG    TLT  \n",
       "590    124431.52      LONG    SPY  \n",
       "591    119943.52      LONG    QQQ  \n",
       "592    118013.74      LONG    TLT  "
      ]
     },
     "execution_count": 7,
     "metadata": {},
     "output_type": "execute_result"
    }
   ],
   "source": [
    "s.tlog.tail()"
   ]
  },
  {
   "cell_type": "code",
   "execution_count": 8,
   "metadata": {
    "scrolled": false
   },
   "outputs": [
    {
     "data": {
      "text/html": [
       "<div>\n",
       "<style scoped>\n",
       "    .dataframe tbody tr th:only-of-type {\n",
       "        vertical-align: middle;\n",
       "    }\n",
       "\n",
       "    .dataframe tbody tr th {\n",
       "        vertical-align: top;\n",
       "    }\n",
       "\n",
       "    .dataframe thead th {\n",
       "        text-align: right;\n",
       "    }\n",
       "</style>\n",
       "<table border=\"1\" class=\"dataframe\">\n",
       "  <thead>\n",
       "    <tr style=\"text-align: right;\">\n",
       "      <th></th>\n",
       "      <th>high</th>\n",
       "      <th>low</th>\n",
       "      <th>close</th>\n",
       "      <th>shares</th>\n",
       "      <th>cash</th>\n",
       "      <th>leverage</th>\n",
       "      <th>state</th>\n",
       "    </tr>\n",
       "    <tr>\n",
       "      <th>date</th>\n",
       "      <th></th>\n",
       "      <th></th>\n",
       "      <th></th>\n",
       "      <th></th>\n",
       "      <th></th>\n",
       "      <th></th>\n",
       "      <th></th>\n",
       "    </tr>\n",
       "  </thead>\n",
       "  <tbody>\n",
       "    <tr>\n",
       "      <th>2021-11-09</th>\n",
       "      <td>128013.74</td>\n",
       "      <td>128013.74</td>\n",
       "      <td>128013.74</td>\n",
       "      <td>0</td>\n",
       "      <td>128013.74</td>\n",
       "      <td>1.00</td>\n",
       "      <td>-</td>\n",
       "    </tr>\n",
       "    <tr>\n",
       "      <th>2021-11-10</th>\n",
       "      <td>128013.74</td>\n",
       "      <td>128013.74</td>\n",
       "      <td>128013.74</td>\n",
       "      <td>0</td>\n",
       "      <td>128013.74</td>\n",
       "      <td>1.00</td>\n",
       "      <td>-</td>\n",
       "    </tr>\n",
       "    <tr>\n",
       "      <th>2021-11-11</th>\n",
       "      <td>128013.74</td>\n",
       "      <td>128013.74</td>\n",
       "      <td>128013.74</td>\n",
       "      <td>0</td>\n",
       "      <td>128013.74</td>\n",
       "      <td>1.00</td>\n",
       "      <td>-</td>\n",
       "    </tr>\n",
       "    <tr>\n",
       "      <th>2021-11-12</th>\n",
       "      <td>128013.74</td>\n",
       "      <td>128013.74</td>\n",
       "      <td>128013.74</td>\n",
       "      <td>0</td>\n",
       "      <td>128013.74</td>\n",
       "      <td>1.00</td>\n",
       "      <td>-</td>\n",
       "    </tr>\n",
       "    <tr>\n",
       "      <th>2021-11-15</th>\n",
       "      <td>128013.74</td>\n",
       "      <td>128013.74</td>\n",
       "      <td>128013.74</td>\n",
       "      <td>409</td>\n",
       "      <td>68512.42</td>\n",
       "      <td>1.00</td>\n",
       "      <td>-</td>\n",
       "    </tr>\n",
       "  </tbody>\n",
       "</table>\n",
       "</div>"
      ],
      "text/plain": [
       "                high       low     close  shares      cash  leverage state\n",
       "date                                                                      \n",
       "2021-11-09 128013.74 128013.74 128013.74       0 128013.74      1.00     -\n",
       "2021-11-10 128013.74 128013.74 128013.74       0 128013.74      1.00     -\n",
       "2021-11-11 128013.74 128013.74 128013.74       0 128013.74      1.00     -\n",
       "2021-11-12 128013.74 128013.74 128013.74       0 128013.74      1.00     -\n",
       "2021-11-15 128013.74 128013.74 128013.74     409  68512.42      1.00     -"
      ]
     },
     "execution_count": 8,
     "metadata": {},
     "output_type": "execute_result"
    }
   ],
   "source": [
    "s.dbal.tail()"
   ]
  },
  {
   "cell_type": "markdown",
   "metadata": {},
   "source": [
    "Generate strategy stats - display all available stats"
   ]
  },
  {
   "cell_type": "code",
   "execution_count": 9,
   "metadata": {},
   "outputs": [
    {
     "name": "stdout",
     "output_type": "stream",
     "text": [
      "start                                                   2005-09-02\n",
      "end                                                     2021-11-15\n",
      "beginning_balance                                            10000\n",
      "ending_balance                                           128013.74\n",
      "total_net_profit                                         118013.74\n",
      "gross_profit                                             232852.16\n",
      "gross_loss                                              -114838.43\n",
      "profit_factor                                                 2.03\n",
      "return_on_initial_capital                                  1180.14\n",
      "annual_return_rate                                           17.04\n",
      "trading_period                           16 years 2 months 13 days\n",
      "pct_time_in_market                                           67.59\n",
      "margin                                                        3.00\n",
      "avg_leverage                                                  1.28\n",
      "max_leverage                                                  3.06\n",
      "min_leverage                                                  1.00\n",
      "total_num_trades                                               593\n",
      "trades_per_year                                              36.60\n",
      "num_winning_trades                                             429\n",
      "num_losing_trades                                              164\n",
      "num_even_trades                                                  0\n",
      "pct_profitable_trades                                        72.34\n",
      "avg_profit_per_trade                                        199.01\n",
      "avg_profit_per_winning_trade                                542.78\n",
      "avg_loss_per_losing_trade                                  -700.23\n",
      "ratio_avg_profit_win_loss                                     0.78\n",
      "largest_profit_winning_trade                               5607.90\n",
      "largest_loss_losing_trade                                 -4626.89\n",
      "num_winning_points                                         1016.61\n",
      "num_losing_points                                          -534.71\n",
      "total_net_points                                            481.90\n",
      "avg_points                                                    0.81\n",
      "largest_points_winning_trade                                 15.68\n",
      "largest_points_losing_trade                                 -20.62\n",
      "avg_pct_gain_per_trade                                        0.58\n",
      "largest_pct_winning_trade                                     8.30\n",
      "largest_pct_losing_trade                                    -17.04\n",
      "expected_shortfall                                          -10.14\n",
      "max_consecutive_winning_trades                                  14\n",
      "max_consecutive_losing_trades                                    4\n",
      "avg_bars_winning_trades                                       6.60\n",
      "avg_bars_losing_trades                                       15.01\n",
      "max_closed_out_drawdown                                     -16.79\n",
      "max_closed_out_drawdown_peak_date                       2011-07-19\n",
      "max_closed_out_drawdown_trough_date                     2011-08-08\n",
      "max_closed_out_drawdown_recovery_date                   2011-10-31\n",
      "drawdown_loss_period                                            20\n",
      "drawdown_recovery_period                                        84\n",
      "annualized_return_over_max_drawdown                           1.02\n",
      "max_intra_day_drawdown                                      -16.79\n",
      "avg_yearly_closed_out_drawdown                              -11.39\n",
      "max_yearly_closed_out_drawdown                              -16.79\n",
      "avg_monthly_closed_out_drawdown                              -3.51\n",
      "max_monthly_closed_out_drawdown                             -16.79\n",
      "avg_weekly_closed_out_drawdown                               -1.25\n",
      "max_weekly_closed_out_drawdown                              -16.18\n",
      "avg_yearly_closed_out_runup                                  27.48\n",
      "max_yearly_closed_out_runup                                  72.02\n",
      "avg_monthly_closed_out_runup                                  4.66\n",
      "max_monthly_closed_out_runup                                 20.92\n",
      "avg_weekly_closed_out_runup                                   1.61\n",
      "max_weekly_closed_out_runup                                  18.59\n",
      "pct_profitable_years                                         90.02\n",
      "best_year                                                    67.65\n",
      "worst_year                                                  -13.47\n",
      "avg_year                                                     18.34\n",
      "annual_std                                                   14.00\n",
      "pct_profitable_months                                        67.60\n",
      "best_month                                                   20.92\n",
      "worst_month                                                 -14.76\n",
      "avg_month                                                     1.34\n",
      "monthly_std                                                   3.86\n",
      "pct_profitable_weeks                                         52.04\n",
      "best_week                                                    18.59\n",
      "worst_week                                                  -16.18\n",
      "avg_week                                                      0.34\n",
      "weekly_std                                                    2.33\n",
      "pct_profitable_days                                          37.37\n",
      "best_day                                                      8.87\n",
      "worst_day                                                    -8.23\n",
      "avg_day                                                       0.07\n",
      "daily_std                                                     1.13\n",
      "sharpe_ratio                                                  0.97\n",
      "sharpe_ratio_max                                              1.02\n",
      "sharpe_ratio_min                                              0.91\n",
      "sortino_ratio                                                 1.06\n",
      "dtype: object\n"
     ]
    }
   ],
   "source": [
    "pf.print_full(s.stats)"
   ]
  },
  {
   "cell_type": "markdown",
   "metadata": {},
   "source": [
    "View Performance by Symbol"
   ]
  },
  {
   "cell_type": "code",
   "execution_count": 10,
   "metadata": {},
   "outputs": [
    {
     "data": {
      "text/html": [
       "<div>\n",
       "<style scoped>\n",
       "    .dataframe tbody tr th:only-of-type {\n",
       "        vertical-align: middle;\n",
       "    }\n",
       "\n",
       "    .dataframe tbody tr th {\n",
       "        vertical-align: top;\n",
       "    }\n",
       "\n",
       "    .dataframe thead th {\n",
       "        text-align: right;\n",
       "    }\n",
       "</style>\n",
       "<table border=\"1\" class=\"dataframe\">\n",
       "  <thead>\n",
       "    <tr style=\"text-align: right;\">\n",
       "      <th></th>\n",
       "      <th>cumul_total</th>\n",
       "      <th>weight</th>\n",
       "      <th>pct_cumul_total</th>\n",
       "      <th>relative_performance</th>\n",
       "    </tr>\n",
       "  </thead>\n",
       "  <tbody>\n",
       "    <tr>\n",
       "      <th>GLD</th>\n",
       "      <td>$17,469.92</td>\n",
       "      <td>0.25</td>\n",
       "      <td>0.15</td>\n",
       "      <td>0.59</td>\n",
       "    </tr>\n",
       "    <tr>\n",
       "      <th>SPY</th>\n",
       "      <td>$36,267.79</td>\n",
       "      <td>0.25</td>\n",
       "      <td>0.31</td>\n",
       "      <td>1.23</td>\n",
       "    </tr>\n",
       "    <tr>\n",
       "      <th>QQQ</th>\n",
       "      <td>$39,811.60</td>\n",
       "      <td>0.25</td>\n",
       "      <td>0.34</td>\n",
       "      <td>1.35</td>\n",
       "    </tr>\n",
       "    <tr>\n",
       "      <th>TLT</th>\n",
       "      <td>$24,464.43</td>\n",
       "      <td>0.25</td>\n",
       "      <td>0.21</td>\n",
       "      <td>0.83</td>\n",
       "    </tr>\n",
       "    <tr>\n",
       "      <th>TOTAL</th>\n",
       "      <td>$118,013.74</td>\n",
       "      <td>1.00</td>\n",
       "      <td>1.00</td>\n",
       "      <td>1.00</td>\n",
       "    </tr>\n",
       "  </tbody>\n",
       "</table>\n",
       "</div>"
      ],
      "text/plain": [
       "       cumul_total  weight  pct_cumul_total  relative_performance\n",
       "GLD     $17,469.92    0.25             0.15                  0.59\n",
       "SPY     $36,267.79    0.25             0.31                  1.23\n",
       "QQQ     $39,811.60    0.25             0.34                  1.35\n",
       "TLT     $24,464.43    0.25             0.21                  0.83\n",
       "TOTAL  $118,013.74    1.00             1.00                  1.00"
      ]
     },
     "execution_count": 10,
     "metadata": {},
     "output_type": "execute_result"
    },
    {
     "data": {
      "image/png": "[encoded data removed]",
      "text/plain": [
       "<Figure size 864x576 with 1 Axes>"
      ]
     },
     "metadata": {
      "needs_background": "light"
     },
     "output_type": "display_data"
    }
   ],
   "source": [
    "weights = {symbol: 1 / len(symbols) for symbol in symbols}\n",
    "totals = s.portfolio.performance_per_symbol(weights=weights)\n",
    "totals"
   ]
  },
  {
   "cell_type": "code",
   "execution_count": 11,
   "metadata": {},
   "outputs": [
    {
     "data": {
      "text/html": [
       "<div>\n",
       "<style scoped>\n",
       "    .dataframe tbody tr th:only-of-type {\n",
       "        vertical-align: middle;\n",
       "    }\n",
       "\n",
       "    .dataframe tbody tr th {\n",
       "        vertical-align: top;\n",
       "    }\n",
       "\n",
       "    .dataframe thead th {\n",
       "        text-align: right;\n",
       "    }\n",
       "</style>\n",
       "<table border=\"1\" class=\"dataframe\">\n",
       "  <thead>\n",
       "    <tr style=\"text-align: right;\">\n",
       "      <th></th>\n",
       "      <th>GLD</th>\n",
       "      <th>SPY</th>\n",
       "      <th>QQQ</th>\n",
       "      <th>TLT</th>\n",
       "    </tr>\n",
       "  </thead>\n",
       "  <tbody>\n",
       "    <tr>\n",
       "      <th>GLD</th>\n",
       "      <td>1.00</td>\n",
       "      <td>0.04</td>\n",
       "      <td>0.03</td>\n",
       "      <td>0.14</td>\n",
       "    </tr>\n",
       "    <tr>\n",
       "      <th>SPY</th>\n",
       "      <td>0.04</td>\n",
       "      <td>1.00</td>\n",
       "      <td>0.92</td>\n",
       "      <td>-0.42</td>\n",
       "    </tr>\n",
       "    <tr>\n",
       "      <th>QQQ</th>\n",
       "      <td>0.03</td>\n",
       "      <td>0.92</td>\n",
       "      <td>1.00</td>\n",
       "      <td>-0.36</td>\n",
       "    </tr>\n",
       "    <tr>\n",
       "      <th>TLT</th>\n",
       "      <td>0.14</td>\n",
       "      <td>-0.42</td>\n",
       "      <td>-0.36</td>\n",
       "      <td>1.00</td>\n",
       "    </tr>\n",
       "  </tbody>\n",
       "</table>\n",
       "</div>"
      ],
      "text/plain": [
       "     GLD   SPY   QQQ   TLT\n",
       "GLD 1.00  0.04  0.03  0.14\n",
       "SPY 0.04  1.00  0.92 -0.42\n",
       "QQQ 0.03  0.92  1.00 -0.36\n",
       "TLT 0.14 -0.42 -0.36  1.00"
      ]
     },
     "execution_count": 11,
     "metadata": {},
     "output_type": "execute_result"
    },
    {
     "data": {
      "image/png": "[encoded data removed]",
      "text/plain": [
       "<Figure size 720x504 with 2 Axes>"
      ]
     },
     "metadata": {
      "needs_background": "light"
     },
     "output_type": "display_data"
    }
   ],
   "source": [
    "corr_df = s.portfolio.correlation_map(s.ts)\n",
    "corr_df"
   ]
  },
  {
   "cell_type": "markdown",
   "metadata": {},
   "source": [
    "Run Benchmark, Retrieve benchmark logs, and Generate benchmark stats"
   ]
  },
  {
   "cell_type": "code",
   "execution_count": 12,
   "metadata": {},
   "outputs": [],
   "source": [
    "benchmark = pf.Benchmark('SPY', s.capital, s.start, s.end, use_adj=True)\n",
    "benchmark.run()"
   ]
  },
  {
   "cell_type": "markdown",
   "metadata": {},
   "source": [
    "Plot Equity Curves: Strategy vs Benchmark"
   ]
  },
  {
   "cell_type": "code",
   "execution_count": 13,
   "metadata": {
    "scrolled": false
   },
   "outputs": [
    {
     "data": {
      "image/png": "[encoded data removed]",
      "text/plain": [
       "<Figure size 720x504 with 1 Axes>"
      ]
     },
     "metadata": {
      "needs_background": "light"
     },
     "output_type": "display_data"
    }
   ],
   "source": [
    "pf.plot_equity_curve(s.dbal, benchmark=benchmark.dbal)"
   ]
  },
  {
   "cell_type": "markdown",
   "metadata": {},
   "source": [
    "Bar Graph: Strategy vs Benchmark"
   ]
  },
  {
   "cell_type": "code",
   "execution_count": 14,
   "metadata": {},
   "outputs": [
    {
     "data": {
      "text/html": [
       "<div>\n",
       "<style scoped>\n",
       "    .dataframe tbody tr th:only-of-type {\n",
       "        vertical-align: middle;\n",
       "    }\n",
       "\n",
       "    .dataframe tbody tr th {\n",
       "        vertical-align: top;\n",
       "    }\n",
       "\n",
       "    .dataframe thead th {\n",
       "        text-align: right;\n",
       "    }\n",
       "</style>\n",
       "<table border=\"1\" class=\"dataframe\">\n",
       "  <thead>\n",
       "    <tr style=\"text-align: right;\">\n",
       "      <th></th>\n",
       "      <th>strategy</th>\n",
       "      <th>benchmark</th>\n",
       "    </tr>\n",
       "  </thead>\n",
       "  <tbody>\n",
       "    <tr>\n",
       "      <th>annual_return_rate</th>\n",
       "      <td>17.04</td>\n",
       "      <td>10.77</td>\n",
       "    </tr>\n",
       "    <tr>\n",
       "      <th>max_closed_out_drawdown</th>\n",
       "      <td>-16.79</td>\n",
       "      <td>-54.91</td>\n",
       "    </tr>\n",
       "    <tr>\n",
       "      <th>annualized_return_over_max_drawdown</th>\n",
       "      <td>1.02</td>\n",
       "      <td>0.20</td>\n",
       "    </tr>\n",
       "    <tr>\n",
       "      <th>best_month</th>\n",
       "      <td>20.92</td>\n",
       "      <td>23.36</td>\n",
       "    </tr>\n",
       "    <tr>\n",
       "      <th>worst_month</th>\n",
       "      <td>-14.76</td>\n",
       "      <td>-30.93</td>\n",
       "    </tr>\n",
       "    <tr>\n",
       "      <th>sharpe_ratio</th>\n",
       "      <td>0.97</td>\n",
       "      <td>0.62</td>\n",
       "    </tr>\n",
       "    <tr>\n",
       "      <th>sortino_ratio</th>\n",
       "      <td>1.06</td>\n",
       "      <td>0.74</td>\n",
       "    </tr>\n",
       "    <tr>\n",
       "      <th>monthly_std</th>\n",
       "      <td>3.86</td>\n",
       "      <td>4.56</td>\n",
       "    </tr>\n",
       "    <tr>\n",
       "      <th>annual_std</th>\n",
       "      <td>14.00</td>\n",
       "      <td>16.71</td>\n",
       "    </tr>\n",
       "  </tbody>\n",
       "</table>\n",
       "</div>"
      ],
      "text/plain": [
       "                                     strategy  benchmark\n",
       "annual_return_rate                      17.04      10.77\n",
       "max_closed_out_drawdown                -16.79     -54.91\n",
       "annualized_return_over_max_drawdown      1.02       0.20\n",
       "best_month                              20.92      23.36\n",
       "worst_month                            -14.76     -30.93\n",
       "sharpe_ratio                             0.97       0.62\n",
       "sortino_ratio                            1.06       0.74\n",
       "monthly_std                              3.86       4.56\n",
       "annual_std                              14.00      16.71"
      ]
     },
     "execution_count": 14,
     "metadata": {},
     "output_type": "execute_result"
    },
    {
     "data": {
      "image/png": "[encoded data removed]",
      "text/plain": [
       "<Figure size 720x504 with 1 Axes>"
      ]
     },
     "metadata": {
      "needs_background": "light"
     },
     "output_type": "display_data"
    }
   ],
   "source": [
    "df = pf.plot_bar_graph(s.stats, benchmark.stats)\n",
    "df"
   ]
  },
  {
   "cell_type": "markdown",
   "metadata": {},
   "source": [
    "Analysis: Kelly Criterian"
   ]
  },
  {
   "cell_type": "code",
   "execution_count": 15,
   "metadata": {},
   "outputs": [
    {
     "data": {
      "text/plain": [
       "sharpe_ratio            0.97\n",
       "sharpe_ratio_max        1.02\n",
       "sharpe_ratio_min        0.91\n",
       "strategy risk           0.14\n",
       "instrument risk         0.17\n",
       "optimal target risk     0.97\n",
       "half kelly criterion    0.48\n",
       "aggressive leverage     5.79\n",
       "moderate leverage       2.90\n",
       "conservative leverage   2.73\n",
       "dtype: float64"
      ]
     },
     "execution_count": 15,
     "metadata": {},
     "output_type": "execute_result"
    }
   ],
   "source": [
    "kelly = pf.kelly_criterion(s.stats, benchmark.stats)\n",
    "kelly"
   ]
  },
  {
   "cell_type": "code",
   "execution_count": null,
   "metadata": {},
   "outputs": [],
   "source": []
  }
 ],
 "metadata": {
  "kernelspec": {
   "display_name": "Python 3 (ipykernel)",
   "language": "python",
   "name": "python3"
  },
  "language_info": {
   "codemirror_mode": {
    "name": "ipython",
    "version": 3
   },
   "file_extension": ".py",
   "mimetype": "text/x-python",
   "name": "python",
   "nbconvert_exporter": "python",
   "pygments_lexer": "ipython3",
   "version": "3.8.10"
  },
  "latex_envs": {
   "LaTeX_envs_menu_present": true,
   "autoclose": false,
   "autocomplete": true,
   "bibliofile": "biblio.bib",
   "cite_by": "apalike",
   "current_citInitial": 1,
   "eqLabelWithNumbers": true,
   "eqNumInitial": 1,
   "hotkeys": {
    "equation": "Ctrl-E",
    "itemize": "Ctrl-I"
   },
   "labels_anchors": false,
   "latex_user_defs": false,
   "report_style_numbering": false,
   "user_envs_cfg": false
  }
 },
 "nbformat": 4,
 "nbformat_minor": 1
}
