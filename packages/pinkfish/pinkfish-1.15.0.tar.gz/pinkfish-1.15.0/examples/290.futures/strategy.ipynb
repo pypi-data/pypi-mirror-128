{
 "cells": [
  {
   "cell_type": "markdown",
   "metadata": {},
   "source": [
    "# Futures Trend Following Portfolio\n",
    "\n",
    "    1. The Security closes with 50/100 ma > 0, buy.\n",
    "    2. If the Security closes 50/100 ma < 0, sell your long position.\n",
    "    \n",
    "    (For a Portfolio of futures.)\n",
    "    \n",
    "    NOTE: pinkfish does not yet have full support for futures backtesting, and\n",
    "    the futures data from yahoo finance isn't very good."
   ]
  },
  {
   "cell_type": "code",
   "execution_count": 1,
   "metadata": {
    "ExecuteTime": {
     "end_time": "2020-02-17T05:42:08.798393Z",
     "start_time": "2020-02-17T05:42:07.455687Z"
    }
   },
   "outputs": [],
   "source": [
    "import datetime\n",
    "\n",
    "import matplotlib.pyplot as plt\n",
    "import pandas as pd\n",
    "\n",
    "import pinkfish as pf\n",
    "import strategy\n",
    "\n",
    "# Format price data.\n",
    "pd.options.display.float_format = '{:0.2f}'.format\n",
    "pd.set_option('display.max_rows', None)\n",
    "\n",
    "%matplotlib inline"
   ]
  },
  {
   "cell_type": "code",
   "execution_count": 2,
   "metadata": {
    "ExecuteTime": {
     "end_time": "2020-02-17T05:42:08.816893Z",
     "start_time": "2020-02-17T05:42:08.808607Z"
    }
   },
   "outputs": [],
   "source": [
    "# Set size of inline plots\n",
    "'''note: rcParams can't be in same cell as import matplotlib\n",
    "   or %matplotlib inline\n",
    "   \n",
    "   %matplotlib notebook: will lead to interactive plots embedded within\n",
    "   the notebook, you can zoom and resize the figure\n",
    "   \n",
    "   %matplotlib inline: only draw static images in the notebook\n",
    "'''\n",
    "plt.rcParams[\"figure.figsize\"] = (10, 7)"
   ]
  },
  {
   "cell_type": "markdown",
   "metadata": {},
   "source": [
    "Investment Universe:  \n",
    "\n",
    "Futures contracts cover these main asset classes:  \n",
    "- Equities\n",
    "- Interest rates\n",
    "- Agricultural commodities\n",
    "- Non-agricultural commodities\n",
    "- Currencies"
   ]
  },
  {
   "cell_type": "markdown",
   "metadata": {},
   "source": [
    "### FUTURES\n",
    "\n",
    "https://finance.yahoo.com/commodities?.tsrc=fin-srch  \n",
    "https://www.barchart.com/futures/contract-specifications/currencies"
   ]
  },
  {
   "cell_type": "code",
   "execution_count": 3,
   "metadata": {
    "ExecuteTime": {
     "end_time": "2020-02-17T05:42:08.835362Z",
     "start_time": "2020-02-17T05:42:08.821138Z"
    }
   },
   "outputs": [],
   "source": [
    "# symbol: (description, multiplier)\n",
    "\n",
    "\n",
    "equities = {\n",
    "    'ES=F':  ('E-Mini S&P 500 Futures', 50),\n",
    "    'YM=F':  ('Mini Dow Jones Futures', 5),\n",
    "    'NQ=F':  ('Nasdaq 100 Futures', 20),\n",
    "}\n",
    "\n",
    "interest_rates = {\n",
    "    'ZB=F':  ('U.S. Treasury Bond Futures', 1000),\n",
    "    'ZN=F':  ('10-Year T-Note Futures', 1000),\n",
    "    'ZF=F':  ('Five-Year US Treasury Note Futures', 1000),\n",
    "    'ZT=F':  ('2-Year T-Note Futures', 2000) \n",
    "}\n",
    "\n",
    "# https://www.cmegroup.com/markets/agriculture.html#products\n",
    "agricultural_commodities = {\n",
    "# Grains\n",
    "    'ZC=F':  ('Corn Futures', 5000),\n",
    "    'KE=F':  ('KC HRW Wheat Futures', 5000),\n",
    "    'ZS=F':  ('Soybean Futures', 50),\n",
    "    'KE=F':  ('KC HRW Wheat Futures', 50),\n",
    "    'ZR=F':  ('Rough Rice Futures', 2000),\n",
    "    'ZM=F':  ('Soybean Meal Futures', 100),\n",
    "    'ZL=F':  ('Soybean Oil Futures', 600),\n",
    "    'GF=F':  ('Feeder Cattle Futures', 500),\n",
    "    'HE=F':  ('Lean Hogs Futures', 400),\n",
    "    'CC=F':  ('Cocoa Futures', 10),\n",
    "    'KC=F':  ('Coffee Futures', 375),\n",
    "    'CT=F':  ('Cotton Futures', 50000),\n",
    "    'LBS=F':  ('Lumber Futures', 110),\n",
    "     'SB=F':  ('Sugar #11 Futures', 1120)\n",
    "}\n",
    "\n",
    "non_agricultural_commodities = {\n",
    "    'GC=F':  ('Gold Futures', 100),\n",
    "    'SI=F':  ('Silver Futures', 5000),\n",
    "    'PL=F':  ('Platinum Futures', 50),\n",
    "    'HG=F':  ('Copper Futures', 25000),\n",
    "    'PA=F':  ('Palladium Futures', 100),\n",
    "    'CL=F':  ('Crude Oil Futures', 1000),\n",
    "    'HO=F':  ('Heating Oil Futures', 42000),\n",
    "    'NG=F':  ('Natural Gas Futures', 10000),\n",
    "    'RB=F':  ('RBOB Gasoline Futures', 42000)\n",
    "}\n",
    "\n",
    "# https://www.cmegroup.com/markets/fx.html#products\n",
    "currency_multiplier = 100\n",
    "currencies = {\n",
    "# G10\n",
    "    'DX=F':  ('U.S. Dollar Index', currency_multiplier),\n",
    "    '6E=F':  ('Euro FX Futures', currency_multiplier),\n",
    "    '6J=F':  ('Japanese Yen Futures', currency_multiplier),\n",
    "    '6A=F':  ('Australian Dollar Futures', currency_multiplier),\n",
    "    '6B=F':  ('British Pound Futures', currency_multiplier),\n",
    "    '6C=F':  ('Canadian Dollar Futures', currency_multiplier),\n",
    "    '6S=F':  ('Swiss Franc Futures', currency_multiplier),\n",
    "    '6N=F':  ('New Zealand Dollar Futures', currency_multiplier),   \n",
    "}\n",
    "\n",
    "\n",
    "\n",
    "futures = {**equities, **interest_rates, **agricultural_commodities,\n",
    "                 **non_agricultural_commodities, **currencies}\n",
    "\n",
    "ten_largest = ['ZN=F', 'ES=F', 'CL=F', 'GC=F', 'ZC=F', 'KC=F', 'CT=F', 'DX=F']\n",
    "\n",
    "symbols = list(ten_largest)\n",
    "#symbols = ['ES=F', 'GC=F', 'CL=F']\n",
    "capital = 100_000\n",
    "start = datetime.datetime(1900, 1, 1)\n",
    "end = datetime.datetime.now()"
   ]
  },
  {
   "cell_type": "code",
   "execution_count": 4,
   "metadata": {},
   "outputs": [],
   "source": [
    "options = {\n",
    "    'use_adj' : False,\n",
    "    'use_cache' : True,\n",
    "    'sell_short' : False,\n",
    "    'force_stock_market_calendar' : True,\n",
    "    'margin' : 2,\n",
    "    'sma_timeperiod_slow': 100,\n",
    "    'sma_timeperiod_fast': 50,\n",
    "    'use_vola_weight' : True\n",
    "}"
   ]
  },
  {
   "cell_type": "markdown",
   "metadata": {},
   "source": [
    "Run Strategy"
   ]
  },
  {
   "cell_type": "code",
   "execution_count": 5,
   "metadata": {
    "scrolled": false
   },
   "outputs": [],
   "source": [
    "s = strategy.Strategy(symbols, capital, start, end, options=options)\n",
    "s.run()"
   ]
  },
  {
   "cell_type": "markdown",
   "metadata": {},
   "source": [
    "\n",
    "\n",
    "\n",
    "View log DataFrames: raw trade log, trade log, and daily balance"
   ]
  },
  {
   "cell_type": "code",
   "execution_count": 6,
   "metadata": {},
   "outputs": [
    {
     "data": {
      "text/html": [
       "<div>\n",
       "<style scoped>\n",
       "    .dataframe tbody tr th:only-of-type {\n",
       "        vertical-align: middle;\n",
       "    }\n",
       "\n",
       "    .dataframe tbody tr th {\n",
       "        vertical-align: top;\n",
       "    }\n",
       "\n",
       "    .dataframe thead th {\n",
       "        text-align: right;\n",
       "    }\n",
       "</style>\n",
       "<table border=\"1\" class=\"dataframe\">\n",
       "  <thead>\n",
       "    <tr style=\"text-align: right;\">\n",
       "      <th></th>\n",
       "      <th>date</th>\n",
       "      <th>seq_num</th>\n",
       "      <th>price</th>\n",
       "      <th>shares</th>\n",
       "      <th>entry_exit</th>\n",
       "      <th>direction</th>\n",
       "      <th>symbol</th>\n",
       "    </tr>\n",
       "  </thead>\n",
       "  <tbody>\n",
       "    <tr>\n",
       "      <th>0</th>\n",
       "      <td>2001-03-28</td>\n",
       "      <td>0</td>\n",
       "      <td>210.50</td>\n",
       "      <td>92</td>\n",
       "      <td>entry</td>\n",
       "      <td>LONG</td>\n",
       "      <td>ZC=F</td>\n",
       "    </tr>\n",
       "    <tr>\n",
       "      <th>1</th>\n",
       "      <td>2001-03-28</td>\n",
       "      <td>1</td>\n",
       "      <td>105.78</td>\n",
       "      <td>621</td>\n",
       "      <td>entry</td>\n",
       "      <td>LONG</td>\n",
       "      <td>ZN=F</td>\n",
       "    </tr>\n",
       "    <tr>\n",
       "      <th>2</th>\n",
       "      <td>2001-04-24</td>\n",
       "      <td>2</td>\n",
       "      <td>115.34</td>\n",
       "      <td>337</td>\n",
       "      <td>entry</td>\n",
       "      <td>LONG</td>\n",
       "      <td>DX=F</td>\n",
       "    </tr>\n",
       "    <tr>\n",
       "      <th>3</th>\n",
       "      <td>2001-04-25</td>\n",
       "      <td>3</td>\n",
       "      <td>194.50</td>\n",
       "      <td>92</td>\n",
       "      <td>exit</td>\n",
       "      <td>LONG</td>\n",
       "      <td>ZC=F</td>\n",
       "    </tr>\n",
       "    <tr>\n",
       "      <th>4</th>\n",
       "      <td>2001-05-25</td>\n",
       "      <td>4</td>\n",
       "      <td>102.94</td>\n",
       "      <td>621</td>\n",
       "      <td>exit</td>\n",
       "      <td>LONG</td>\n",
       "      <td>ZN=F</td>\n",
       "    </tr>\n",
       "  </tbody>\n",
       "</table>\n",
       "</div>"
      ],
      "text/plain": [
       "        date  seq_num  price  shares entry_exit direction symbol\n",
       "0 2001-03-28        0 210.50      92      entry      LONG   ZC=F\n",
       "1 2001-03-28        1 105.78     621      entry      LONG   ZN=F\n",
       "2 2001-04-24        2 115.34     337      entry      LONG   DX=F\n",
       "3 2001-04-25        3 194.50      92       exit      LONG   ZC=F\n",
       "4 2001-05-25        4 102.94     621       exit      LONG   ZN=F"
      ]
     },
     "execution_count": 6,
     "metadata": {},
     "output_type": "execute_result"
    }
   ],
   "source": [
    "s.rlog.head()"
   ]
  },
  {
   "cell_type": "code",
   "execution_count": 7,
   "metadata": {
    "scrolled": false
   },
   "outputs": [
    {
     "data": {
      "text/html": [
       "<div>\n",
       "<style scoped>\n",
       "    .dataframe tbody tr th:only-of-type {\n",
       "        vertical-align: middle;\n",
       "    }\n",
       "\n",
       "    .dataframe tbody tr th {\n",
       "        vertical-align: top;\n",
       "    }\n",
       "\n",
       "    .dataframe thead th {\n",
       "        text-align: right;\n",
       "    }\n",
       "</style>\n",
       "<table border=\"1\" class=\"dataframe\">\n",
       "  <thead>\n",
       "    <tr style=\"text-align: right;\">\n",
       "      <th></th>\n",
       "      <th>entry_date</th>\n",
       "      <th>entry_price</th>\n",
       "      <th>exit_date</th>\n",
       "      <th>exit_price</th>\n",
       "      <th>pl_points</th>\n",
       "      <th>pl_cash</th>\n",
       "      <th>qty</th>\n",
       "      <th>cumul_total</th>\n",
       "      <th>direction</th>\n",
       "      <th>symbol</th>\n",
       "    </tr>\n",
       "  </thead>\n",
       "  <tbody>\n",
       "    <tr>\n",
       "      <th>0</th>\n",
       "      <td>2001-03-28</td>\n",
       "      <td>210.50</td>\n",
       "      <td>2001-04-25</td>\n",
       "      <td>194.50</td>\n",
       "      <td>-16.00</td>\n",
       "      <td>-1472.00</td>\n",
       "      <td>92</td>\n",
       "      <td>-1472.00</td>\n",
       "      <td>LONG</td>\n",
       "      <td>ZC=F</td>\n",
       "    </tr>\n",
       "    <tr>\n",
       "      <th>1</th>\n",
       "      <td>2001-03-28</td>\n",
       "      <td>105.78</td>\n",
       "      <td>2001-05-25</td>\n",
       "      <td>102.94</td>\n",
       "      <td>-2.84</td>\n",
       "      <td>-1766.00</td>\n",
       "      <td>621</td>\n",
       "      <td>-3238.00</td>\n",
       "      <td>LONG</td>\n",
       "      <td>ZN=F</td>\n",
       "    </tr>\n",
       "    <tr>\n",
       "      <th>2</th>\n",
       "      <td>2001-04-24</td>\n",
       "      <td>115.34</td>\n",
       "      <td>2001-08-30</td>\n",
       "      <td>112.87</td>\n",
       "      <td>-2.47</td>\n",
       "      <td>-832.39</td>\n",
       "      <td>337</td>\n",
       "      <td>-4070.39</td>\n",
       "      <td>LONG</td>\n",
       "      <td>DX=F</td>\n",
       "    </tr>\n",
       "    <tr>\n",
       "      <th>3</th>\n",
       "      <td>2001-05-25</td>\n",
       "      <td>277.90</td>\n",
       "      <td>2002-01-03</td>\n",
       "      <td>278.20</td>\n",
       "      <td>0.30</td>\n",
       "      <td>18.00</td>\n",
       "      <td>60</td>\n",
       "      <td>-4052.39</td>\n",
       "      <td>LONG</td>\n",
       "      <td>GC=F</td>\n",
       "    </tr>\n",
       "    <tr>\n",
       "      <th>4</th>\n",
       "      <td>2001-06-21</td>\n",
       "      <td>26.56</td>\n",
       "      <td>2001-06-22</td>\n",
       "      <td>26.83</td>\n",
       "      <td>0.27</td>\n",
       "      <td>120.15</td>\n",
       "      <td>445</td>\n",
       "      <td>-3932.24</td>\n",
       "      <td>LONG</td>\n",
       "      <td>CL=F</td>\n",
       "    </tr>\n",
       "  </tbody>\n",
       "</table>\n",
       "</div>"
      ],
      "text/plain": [
       "  entry_date  entry_price  exit_date  exit_price  pl_points  pl_cash  qty  \\\n",
       "0 2001-03-28       210.50 2001-04-25      194.50     -16.00 -1472.00   92   \n",
       "1 2001-03-28       105.78 2001-05-25      102.94      -2.84 -1766.00  621   \n",
       "2 2001-04-24       115.34 2001-08-30      112.87      -2.47  -832.39  337   \n",
       "3 2001-05-25       277.90 2002-01-03      278.20       0.30    18.00   60   \n",
       "4 2001-06-21        26.56 2001-06-22       26.83       0.27   120.15  445   \n",
       "\n",
       "   cumul_total direction symbol  \n",
       "0     -1472.00      LONG   ZC=F  \n",
       "1     -3238.00      LONG   ZN=F  \n",
       "2     -4070.39      LONG   DX=F  \n",
       "3     -4052.39      LONG   GC=F  \n",
       "4     -3932.24      LONG   CL=F  "
      ]
     },
     "execution_count": 7,
     "metadata": {},
     "output_type": "execute_result"
    }
   ],
   "source": [
    "s.tlog.head()"
   ]
  },
  {
   "cell_type": "code",
   "execution_count": 8,
   "metadata": {
    "scrolled": false
   },
   "outputs": [
    {
     "data": {
      "text/html": [
       "<div>\n",
       "<style scoped>\n",
       "    .dataframe tbody tr th:only-of-type {\n",
       "        vertical-align: middle;\n",
       "    }\n",
       "\n",
       "    .dataframe tbody tr th {\n",
       "        vertical-align: top;\n",
       "    }\n",
       "\n",
       "    .dataframe thead th {\n",
       "        text-align: right;\n",
       "    }\n",
       "</style>\n",
       "<table border=\"1\" class=\"dataframe\">\n",
       "  <thead>\n",
       "    <tr style=\"text-align: right;\">\n",
       "      <th></th>\n",
       "      <th>high</th>\n",
       "      <th>low</th>\n",
       "      <th>close</th>\n",
       "      <th>shares</th>\n",
       "      <th>cash</th>\n",
       "      <th>leverage</th>\n",
       "      <th>state</th>\n",
       "    </tr>\n",
       "    <tr>\n",
       "      <th>date</th>\n",
       "      <th></th>\n",
       "      <th></th>\n",
       "      <th></th>\n",
       "      <th></th>\n",
       "      <th></th>\n",
       "      <th></th>\n",
       "      <th></th>\n",
       "    </tr>\n",
       "  </thead>\n",
       "  <tbody>\n",
       "    <tr>\n",
       "      <th>2021-06-22</th>\n",
       "      <td>422677.83</td>\n",
       "      <td>422677.83</td>\n",
       "      <td>422677.83</td>\n",
       "      <td>1648</td>\n",
       "      <td>62926.89</td>\n",
       "      <td>1.00</td>\n",
       "      <td>-</td>\n",
       "    </tr>\n",
       "    <tr>\n",
       "      <th>2021-06-23</th>\n",
       "      <td>425151.66</td>\n",
       "      <td>425151.66</td>\n",
       "      <td>425151.66</td>\n",
       "      <td>1648</td>\n",
       "      <td>62926.89</td>\n",
       "      <td>1.00</td>\n",
       "      <td>-</td>\n",
       "    </tr>\n",
       "    <tr>\n",
       "      <th>2021-06-24</th>\n",
       "      <td>423671.34</td>\n",
       "      <td>423671.34</td>\n",
       "      <td>423671.34</td>\n",
       "      <td>1648</td>\n",
       "      <td>62926.89</td>\n",
       "      <td>1.00</td>\n",
       "      <td>-</td>\n",
       "    </tr>\n",
       "    <tr>\n",
       "      <th>2021-06-25</th>\n",
       "      <td>424318.04</td>\n",
       "      <td>424318.04</td>\n",
       "      <td>424318.04</td>\n",
       "      <td>1648</td>\n",
       "      <td>62926.89</td>\n",
       "      <td>1.00</td>\n",
       "      <td>-</td>\n",
       "    </tr>\n",
       "    <tr>\n",
       "      <th>2021-06-28</th>\n",
       "      <td>429386.09</td>\n",
       "      <td>429386.09</td>\n",
       "      <td>429386.09</td>\n",
       "      <td>0</td>\n",
       "      <td>429386.09</td>\n",
       "      <td>1.00</td>\n",
       "      <td>X</td>\n",
       "    </tr>\n",
       "  </tbody>\n",
       "</table>\n",
       "</div>"
      ],
      "text/plain": [
       "                high       low     close  shares      cash  leverage state\n",
       "date                                                                      \n",
       "2021-06-22 422677.83 422677.83 422677.83    1648  62926.89      1.00     -\n",
       "2021-06-23 425151.66 425151.66 425151.66    1648  62926.89      1.00     -\n",
       "2021-06-24 423671.34 423671.34 423671.34    1648  62926.89      1.00     -\n",
       "2021-06-25 424318.04 424318.04 424318.04    1648  62926.89      1.00     -\n",
       "2021-06-28 429386.09 429386.09 429386.09       0 429386.09      1.00     X"
      ]
     },
     "execution_count": 8,
     "metadata": {},
     "output_type": "execute_result"
    }
   ],
   "source": [
    "s.dbal.tail()"
   ]
  },
  {
   "cell_type": "markdown",
   "metadata": {},
   "source": [
    "Generate strategy stats - display all available stats"
   ]
  },
  {
   "cell_type": "code",
   "execution_count": 9,
   "metadata": {},
   "outputs": [
    {
     "name": "stdout",
     "output_type": "stream",
     "text": [
      "start                                                  2001-03-28\n",
      "end                                                    2021-06-28\n",
      "beginning_balance                                          100000\n",
      "ending_balance                                          429386.09\n",
      "total_net_profit                                        329386.09\n",
      "gross_profit                                            612611.79\n",
      "gross_loss                                             -283225.71\n",
      "profit_factor                                                2.16\n",
      "return_on_initial_capital                                  329.39\n",
      "annual_return_rate                                           7.46\n",
      "trading_period                           20 years 3 months 0 days\n",
      "pct_time_in_market                                          99.86\n",
      "margin                                                          2\n",
      "avg_leverage                                                 1.25\n",
      "max_leverage                                                 2.02\n",
      "min_leverage                                                 1.00\n",
      "total_num_trades                                              221\n",
      "trades_per_year                                             10.91\n",
      "num_winning_trades                                            105\n",
      "num_losing_trades                                             116\n",
      "num_even_trades                                                 0\n",
      "pct_profitable_trades                                       47.51\n",
      "avg_profit_per_trade                                      1490.43\n",
      "avg_profit_per_winning_trade                              5834.40\n",
      "avg_loss_per_losing_trade                                -2441.60\n",
      "ratio_avg_profit_win_loss                                    2.39\n",
      "largest_profit_winning_trade                             39526.25\n",
      "largest_loss_losing_trade                               -11926.25\n",
      "num_winning_points                                        6715.92\n",
      "num_losing_points                                        -2675.92\n",
      "total_net_points                                          4040.00\n",
      "avg_points                                                  18.28\n",
      "largest_points_winning_trade                              1119.24\n",
      "largest_points_losing_trade                               -411.25\n",
      "avg_pct_gain_per_trade                                       4.63\n",
      "largest_pct_winning_trade                                  119.14\n",
      "largest_pct_losing_trade                                   -27.37\n",
      "expected_shortfall                                         -21.86\n",
      "max_consecutive_winning_trades                                  9\n",
      "max_consecutive_losing_trades                                   8\n",
      "avg_bars_winning_trades                                    146.00\n",
      "avg_bars_losing_trades                                      61.91\n",
      "max_closed_out_drawdown                                    -13.66\n",
      "max_closed_out_drawdown_peak_date                      2003-03-10\n",
      "max_closed_out_drawdown_trough_date                    2003-08-18\n",
      "max_closed_out_drawdown_recovery_date                  2004-01-20\n",
      "drawdown_loss_period                                          161\n",
      "drawdown_recovery_period                                      155\n",
      "annualized_return_over_max_drawdown                          0.55\n",
      "max_intra_day_drawdown                                     -13.66\n",
      "avg_yearly_closed_out_drawdown                              -8.09\n",
      "max_yearly_closed_out_drawdown                             -13.66\n",
      "avg_monthly_closed_out_drawdown                             -2.33\n",
      "max_monthly_closed_out_drawdown                            -10.53\n",
      "avg_weekly_closed_out_drawdown                              -0.91\n",
      "max_weekly_closed_out_drawdown                              -8.52\n",
      "avg_yearly_closed_out_runup                                 15.52\n",
      "max_yearly_closed_out_runup                                 77.32\n",
      "avg_monthly_closed_out_runup                                 2.88\n",
      "max_monthly_closed_out_runup                                15.92\n",
      "avg_weekly_closed_out_runup                                  1.06\n",
      "max_weekly_closed_out_runup                                  7.61\n",
      "pct_profitable_years                                        76.15\n",
      "best_year                                                   75.58\n",
      "worst_year                                                 -12.84\n",
      "avg_year                                                     8.40\n",
      "annual_std                                                  13.65\n",
      "pct_profitable_months                                       56.93\n",
      "best_month                                                  15.92\n",
      "worst_month                                                 -9.86\n",
      "avg_month                                                    0.63\n",
      "monthly_std                                                  2.81\n",
      "pct_profitable_weeks                                        56.12\n",
      "best_week                                                    7.61\n",
      "worst_week                                                  -8.52\n",
      "avg_week                                                     0.15\n",
      "weekly_std                                                   1.43\n",
      "pct_profitable_days                                         53.34\n",
      "best_day                                                     3.87\n",
      "worst_day                                                   -3.43\n",
      "avg_day                                                      0.03\n",
      "daily_std                                                    0.62\n",
      "sharpe_ratio                                                 0.79\n",
      "sharpe_ratio_max                                             0.84\n",
      "sharpe_ratio_min                                             0.75\n",
      "sortino_ratio                                                1.11\n",
      "dtype: object\n"
     ]
    }
   ],
   "source": [
    "pf.print_full(s.stats)"
   ]
  },
  {
   "cell_type": "markdown",
   "metadata": {},
   "source": [
    "View Performance by Symbol"
   ]
  },
  {
   "cell_type": "code",
   "execution_count": 10,
   "metadata": {},
   "outputs": [
    {
     "data": {
      "text/html": [
       "<div>\n",
       "<style scoped>\n",
       "    .dataframe tbody tr th:only-of-type {\n",
       "        vertical-align: middle;\n",
       "    }\n",
       "\n",
       "    .dataframe tbody tr th {\n",
       "        vertical-align: top;\n",
       "    }\n",
       "\n",
       "    .dataframe thead th {\n",
       "        text-align: right;\n",
       "    }\n",
       "</style>\n",
       "<table border=\"1\" class=\"dataframe\">\n",
       "  <thead>\n",
       "    <tr style=\"text-align: right;\">\n",
       "      <th></th>\n",
       "      <th>cumul_total</th>\n",
       "      <th>weight</th>\n",
       "      <th>pct_cumul_total</th>\n",
       "      <th>relative_performance</th>\n",
       "    </tr>\n",
       "  </thead>\n",
       "  <tbody>\n",
       "    <tr>\n",
       "      <th>ES=F</th>\n",
       "      <td>$56,084.02</td>\n",
       "      <td>0.12</td>\n",
       "      <td>0.17</td>\n",
       "      <td>1.36</td>\n",
       "    </tr>\n",
       "    <tr>\n",
       "      <th>ZC=F</th>\n",
       "      <td>$28,740.00</td>\n",
       "      <td>0.12</td>\n",
       "      <td>0.09</td>\n",
       "      <td>0.70</td>\n",
       "    </tr>\n",
       "    <tr>\n",
       "      <th>ZN=F</th>\n",
       "      <td>$17,103.99</td>\n",
       "      <td>0.12</td>\n",
       "      <td>0.05</td>\n",
       "      <td>0.42</td>\n",
       "    </tr>\n",
       "    <tr>\n",
       "      <th>CL=F</th>\n",
       "      <td>$17,939.98</td>\n",
       "      <td>0.12</td>\n",
       "      <td>0.05</td>\n",
       "      <td>0.44</td>\n",
       "    </tr>\n",
       "    <tr>\n",
       "      <th>CT=F</th>\n",
       "      <td>$64,859.34</td>\n",
       "      <td>0.12</td>\n",
       "      <td>0.20</td>\n",
       "      <td>1.58</td>\n",
       "    </tr>\n",
       "    <tr>\n",
       "      <th>KC=F</th>\n",
       "      <td>$60,218.10</td>\n",
       "      <td>0.12</td>\n",
       "      <td>0.18</td>\n",
       "      <td>1.46</td>\n",
       "    </tr>\n",
       "    <tr>\n",
       "      <th>DX=F</th>\n",
       "      <td>$29,117.56</td>\n",
       "      <td>0.12</td>\n",
       "      <td>0.09</td>\n",
       "      <td>0.71</td>\n",
       "    </tr>\n",
       "    <tr>\n",
       "      <th>GC=F</th>\n",
       "      <td>$55,323.10</td>\n",
       "      <td>0.12</td>\n",
       "      <td>0.17</td>\n",
       "      <td>1.34</td>\n",
       "    </tr>\n",
       "    <tr>\n",
       "      <th>TOTAL</th>\n",
       "      <td>$329,386.09</td>\n",
       "      <td>1.00</td>\n",
       "      <td>1.00</td>\n",
       "      <td>1.00</td>\n",
       "    </tr>\n",
       "  </tbody>\n",
       "</table>\n",
       "</div>"
      ],
      "text/plain": [
       "       cumul_total  weight  pct_cumul_total  relative_performance\n",
       "ES=F    $56,084.02    0.12             0.17                  1.36\n",
       "ZC=F    $28,740.00    0.12             0.09                  0.70\n",
       "ZN=F    $17,103.99    0.12             0.05                  0.42\n",
       "CL=F    $17,939.98    0.12             0.05                  0.44\n",
       "CT=F    $64,859.34    0.12             0.20                  1.58\n",
       "KC=F    $60,218.10    0.12             0.18                  1.46\n",
       "DX=F    $29,117.56    0.12             0.09                  0.71\n",
       "GC=F    $55,323.10    0.12             0.17                  1.34\n",
       "TOTAL  $329,386.09    1.00             1.00                  1.00"
      ]
     },
     "execution_count": 10,
     "metadata": {},
     "output_type": "execute_result"
    },
    {
     "data": {
      "image/png": "[encoded data removed]",
      "text/plain": [
       "<Figure size 864x576 with 1 Axes>"
      ]
     },
     "metadata": {
      "needs_background": "light"
     },
     "output_type": "display_data"
    }
   ],
   "source": [
    "weights = {symbol: 1 / len(symbols) for symbol in symbols}\n",
    "totals = s.portfolio.performance_per_symbol(weights=weights)\n",
    "totals"
   ]
  },
  {
   "cell_type": "code",
   "execution_count": 11,
   "metadata": {},
   "outputs": [
    {
     "data": {
      "text/html": [
       "<div>\n",
       "<style scoped>\n",
       "    .dataframe tbody tr th:only-of-type {\n",
       "        vertical-align: middle;\n",
       "    }\n",
       "\n",
       "    .dataframe tbody tr th {\n",
       "        vertical-align: top;\n",
       "    }\n",
       "\n",
       "    .dataframe thead th {\n",
       "        text-align: right;\n",
       "    }\n",
       "</style>\n",
       "<table border=\"1\" class=\"dataframe\">\n",
       "  <thead>\n",
       "    <tr style=\"text-align: right;\">\n",
       "      <th></th>\n",
       "      <th>ES=F</th>\n",
       "      <th>ZC=F</th>\n",
       "      <th>ZN=F</th>\n",
       "      <th>CL=F</th>\n",
       "      <th>CT=F</th>\n",
       "      <th>KC=F</th>\n",
       "      <th>DX=F</th>\n",
       "      <th>GC=F</th>\n",
       "    </tr>\n",
       "  </thead>\n",
       "  <tbody>\n",
       "    <tr>\n",
       "      <th>ES=F</th>\n",
       "      <td>1.00</td>\n",
       "      <td>0.12</td>\n",
       "      <td>-0.32</td>\n",
       "      <td>0.23</td>\n",
       "      <td>0.17</td>\n",
       "      <td>0.10</td>\n",
       "      <td>-0.09</td>\n",
       "      <td>-0.03</td>\n",
       "    </tr>\n",
       "    <tr>\n",
       "      <th>ZC=F</th>\n",
       "      <td>0.12</td>\n",
       "      <td>1.00</td>\n",
       "      <td>-0.06</td>\n",
       "      <td>0.20</td>\n",
       "      <td>0.20</td>\n",
       "      <td>0.17</td>\n",
       "      <td>-0.15</td>\n",
       "      <td>0.15</td>\n",
       "    </tr>\n",
       "    <tr>\n",
       "      <th>ZN=F</th>\n",
       "      <td>-0.32</td>\n",
       "      <td>-0.06</td>\n",
       "      <td>1.00</td>\n",
       "      <td>-0.15</td>\n",
       "      <td>-0.11</td>\n",
       "      <td>-0.05</td>\n",
       "      <td>-0.15</td>\n",
       "      <td>0.16</td>\n",
       "    </tr>\n",
       "    <tr>\n",
       "      <th>CL=F</th>\n",
       "      <td>0.23</td>\n",
       "      <td>0.20</td>\n",
       "      <td>-0.15</td>\n",
       "      <td>1.00</td>\n",
       "      <td>0.16</td>\n",
       "      <td>0.14</td>\n",
       "      <td>-0.18</td>\n",
       "      <td>0.18</td>\n",
       "    </tr>\n",
       "    <tr>\n",
       "      <th>CT=F</th>\n",
       "      <td>0.17</td>\n",
       "      <td>0.20</td>\n",
       "      <td>-0.11</td>\n",
       "      <td>0.16</td>\n",
       "      <td>1.00</td>\n",
       "      <td>0.14</td>\n",
       "      <td>-0.16</td>\n",
       "      <td>0.10</td>\n",
       "    </tr>\n",
       "    <tr>\n",
       "      <th>KC=F</th>\n",
       "      <td>0.10</td>\n",
       "      <td>0.17</td>\n",
       "      <td>-0.05</td>\n",
       "      <td>0.14</td>\n",
       "      <td>0.14</td>\n",
       "      <td>1.00</td>\n",
       "      <td>-0.15</td>\n",
       "      <td>0.14</td>\n",
       "    </tr>\n",
       "    <tr>\n",
       "      <th>DX=F</th>\n",
       "      <td>-0.09</td>\n",
       "      <td>-0.15</td>\n",
       "      <td>-0.15</td>\n",
       "      <td>-0.18</td>\n",
       "      <td>-0.16</td>\n",
       "      <td>-0.15</td>\n",
       "      <td>1.00</td>\n",
       "      <td>-0.41</td>\n",
       "    </tr>\n",
       "    <tr>\n",
       "      <th>GC=F</th>\n",
       "      <td>-0.03</td>\n",
       "      <td>0.15</td>\n",
       "      <td>0.16</td>\n",
       "      <td>0.18</td>\n",
       "      <td>0.10</td>\n",
       "      <td>0.14</td>\n",
       "      <td>-0.41</td>\n",
       "      <td>1.00</td>\n",
       "    </tr>\n",
       "  </tbody>\n",
       "</table>\n",
       "</div>"
      ],
      "text/plain": [
       "      ES=F  ZC=F  ZN=F  CL=F  CT=F  KC=F  DX=F  GC=F\n",
       "ES=F  1.00  0.12 -0.32  0.23  0.17  0.10 -0.09 -0.03\n",
       "ZC=F  0.12  1.00 -0.06  0.20  0.20  0.17 -0.15  0.15\n",
       "ZN=F -0.32 -0.06  1.00 -0.15 -0.11 -0.05 -0.15  0.16\n",
       "CL=F  0.23  0.20 -0.15  1.00  0.16  0.14 -0.18  0.18\n",
       "CT=F  0.17  0.20 -0.11  0.16  1.00  0.14 -0.16  0.10\n",
       "KC=F  0.10  0.17 -0.05  0.14  0.14  1.00 -0.15  0.14\n",
       "DX=F -0.09 -0.15 -0.15 -0.18 -0.16 -0.15  1.00 -0.41\n",
       "GC=F -0.03  0.15  0.16  0.18  0.10  0.14 -0.41  1.00"
      ]
     },
     "execution_count": 11,
     "metadata": {},
     "output_type": "execute_result"
    },
    {
     "data": {
      "image/png": "[encoded data removed]",
      "text/plain": [
       "<Figure size 720x504 with 2 Axes>"
      ]
     },
     "metadata": {
      "needs_background": "light"
     },
     "output_type": "display_data"
    }
   ],
   "source": [
    "corr_df = s.portfolio.correlation_map(s.ts)\n",
    "corr_df"
   ]
  },
  {
   "cell_type": "markdown",
   "metadata": {},
   "source": [
    "Run Benchmark, Retrieve benchmark logs, and Generate benchmark stats"
   ]
  },
  {
   "cell_type": "code",
   "execution_count": 12,
   "metadata": {},
   "outputs": [],
   "source": [
    "benchmark = pf.Benchmark('SPY', s.capital, s.start, s.end, use_adj=True)\n",
    "benchmark.run()"
   ]
  },
  {
   "cell_type": "markdown",
   "metadata": {},
   "source": [
    "Plot Equity Curves: Strategy vs Benchmark"
   ]
  },
  {
   "cell_type": "code",
   "execution_count": 13,
   "metadata": {
    "scrolled": false
   },
   "outputs": [
    {
     "data": {
      "image/png": "[encoded data removed]",
      "text/plain": [
       "<Figure size 720x504 with 1 Axes>"
      ]
     },
     "metadata": {
      "needs_background": "light"
     },
     "output_type": "display_data"
    }
   ],
   "source": [
    "pf.plot_equity_curve(s.dbal, benchmark=benchmark.dbal)"
   ]
  },
  {
   "cell_type": "markdown",
   "metadata": {},
   "source": [
    "Bar Graph: Strategy vs Benchmark"
   ]
  },
  {
   "cell_type": "code",
   "execution_count": 14,
   "metadata": {},
   "outputs": [
    {
     "data": {
      "text/html": [
       "<div>\n",
       "<style scoped>\n",
       "    .dataframe tbody tr th:only-of-type {\n",
       "        vertical-align: middle;\n",
       "    }\n",
       "\n",
       "    .dataframe tbody tr th {\n",
       "        vertical-align: top;\n",
       "    }\n",
       "\n",
       "    .dataframe thead th {\n",
       "        text-align: right;\n",
       "    }\n",
       "</style>\n",
       "<table border=\"1\" class=\"dataframe\">\n",
       "  <thead>\n",
       "    <tr style=\"text-align: right;\">\n",
       "      <th></th>\n",
       "      <th>strategy</th>\n",
       "      <th>benchmark</th>\n",
       "    </tr>\n",
       "  </thead>\n",
       "  <tbody>\n",
       "    <tr>\n",
       "      <th>annual_return_rate</th>\n",
       "      <td>7.46</td>\n",
       "      <td>9.07</td>\n",
       "    </tr>\n",
       "    <tr>\n",
       "      <th>max_closed_out_drawdown</th>\n",
       "      <td>-13.66</td>\n",
       "      <td>-55.17</td>\n",
       "    </tr>\n",
       "    <tr>\n",
       "      <th>annualized_return_over_max_drawdown</th>\n",
       "      <td>0.55</td>\n",
       "      <td>0.16</td>\n",
       "    </tr>\n",
       "    <tr>\n",
       "      <th>best_month</th>\n",
       "      <td>15.92</td>\n",
       "      <td>23.60</td>\n",
       "    </tr>\n",
       "    <tr>\n",
       "      <th>worst_month</th>\n",
       "      <td>-9.86</td>\n",
       "      <td>-30.98</td>\n",
       "    </tr>\n",
       "    <tr>\n",
       "      <th>sharpe_ratio</th>\n",
       "      <td>0.79</td>\n",
       "      <td>0.55</td>\n",
       "    </tr>\n",
       "    <tr>\n",
       "      <th>sortino_ratio</th>\n",
       "      <td>1.11</td>\n",
       "      <td>0.67</td>\n",
       "    </tr>\n",
       "    <tr>\n",
       "      <th>monthly_std</th>\n",
       "      <td>2.81</td>\n",
       "      <td>4.62</td>\n",
       "    </tr>\n",
       "    <tr>\n",
       "      <th>annual_std</th>\n",
       "      <td>13.65</td>\n",
       "      <td>16.85</td>\n",
       "    </tr>\n",
       "  </tbody>\n",
       "</table>\n",
       "</div>"
      ],
      "text/plain": [
       "                                     strategy  benchmark\n",
       "annual_return_rate                       7.46       9.07\n",
       "max_closed_out_drawdown                -13.66     -55.17\n",
       "annualized_return_over_max_drawdown      0.55       0.16\n",
       "best_month                              15.92      23.60\n",
       "worst_month                             -9.86     -30.98\n",
       "sharpe_ratio                             0.79       0.55\n",
       "sortino_ratio                            1.11       0.67\n",
       "monthly_std                              2.81       4.62\n",
       "annual_std                              13.65      16.85"
      ]
     },
     "execution_count": 14,
     "metadata": {},
     "output_type": "execute_result"
    },
    {
     "data": {
      "image/png": "[encoded data removed]",
      "text/plain": [
       "<Figure size 720x504 with 1 Axes>"
      ]
     },
     "metadata": {
      "needs_background": "light"
     },
     "output_type": "display_data"
    }
   ],
   "source": [
    "df = pf.plot_bar_graph(s.stats, benchmark.stats)\n",
    "df"
   ]
  },
  {
   "cell_type": "markdown",
   "metadata": {},
   "source": [
    "Analysis: Kelly Criterian"
   ]
  },
  {
   "cell_type": "code",
   "execution_count": 15,
   "metadata": {},
   "outputs": [
    {
     "data": {
      "text/plain": [
       "sharpe_ratio            0.79\n",
       "sharpe_ratio_max        0.84\n",
       "sharpe_ratio_min        0.75\n",
       "strategy risk           0.14\n",
       "instrument risk         0.17\n",
       "optimal target risk     0.79\n",
       "half kelly criterion    0.40\n",
       "aggressive leverage     4.72\n",
       "moderate leverage       2.36\n",
       "conservative leverage   2.21\n",
       "dtype: float64"
      ]
     },
     "execution_count": 15,
     "metadata": {},
     "output_type": "execute_result"
    }
   ],
   "source": [
    "kelly = pf.kelly_criterion(s.stats, benchmark.stats)\n",
    "kelly"
   ]
  },
  {
   "cell_type": "code",
   "execution_count": null,
   "metadata": {},
   "outputs": [],
   "source": []
  }
 ],
 "metadata": {
  "kernelspec": {
   "display_name": "Python 3 (ipykernel)",
   "language": "python",
   "name": "python3"
  },
  "language_info": {
   "codemirror_mode": {
    "name": "ipython",
    "version": 3
   },
   "file_extension": ".py",
   "mimetype": "text/x-python",
   "name": "python",
   "nbconvert_exporter": "python",
   "pygments_lexer": "ipython3",
   "version": "3.8.10"
  },
  "latex_envs": {
   "LaTeX_envs_menu_present": true,
   "autoclose": false,
   "autocomplete": true,
   "bibliofile": "biblio.bib",
   "cite_by": "apalike",
   "current_citInitial": 1,
   "eqLabelWithNumbers": true,
   "eqNumInitial": 1,
   "hotkeys": {
    "equation": "Ctrl-E",
    "itemize": "Ctrl-I"
   },
   "labels_anchors": false,
   "latex_user_defs": false,
   "report_style_numbering": false,
   "user_envs_cfg": false
  }
 },
 "nbformat": 4,
 "nbformat_minor": 1
}
