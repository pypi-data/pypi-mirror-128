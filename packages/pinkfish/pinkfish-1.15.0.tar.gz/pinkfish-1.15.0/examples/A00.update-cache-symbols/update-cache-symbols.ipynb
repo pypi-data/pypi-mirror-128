{
 "cells": [
  {
   "cell_type": "markdown",
   "metadata": {},
   "source": [
    "# Update Cache Symbols\n",
    "\n",
    "A useful utility for demonstating the use of the update/remove cache symbols functions.  You can use this notebook to periodically update all of the timeseries in your symbol cache.\n",
    "    "
   ]
  },
  {
   "cell_type": "code",
   "execution_count": 1,
   "metadata": {
    "ExecuteTime": {
     "end_time": "2020-02-15T23:14:35.785032Z",
     "start_time": "2020-02-15T23:14:34.966914Z"
    }
   },
   "outputs": [],
   "source": [
    "import pandas as pd\n",
    "import pinkfish as pf"
   ]
  },
  {
   "cell_type": "markdown",
   "metadata": {},
   "source": [
    "Update time series for the symbols below.  \n",
    "Time series will be fetched for any symbols not already cached."
   ]
  },
  {
   "cell_type": "code",
   "execution_count": 2,
   "metadata": {
    "ExecuteTime": {
     "end_time": "2020-02-15T23:14:39.514651Z",
     "start_time": "2020-02-15T23:14:35.794760Z"
    }
   },
   "outputs": [
    {
     "name": "stdout",
     "output_type": "stream",
     "text": [
      "updating symbols:\n",
      "MSFT ORCL TSLA \n"
     ]
    }
   ],
   "source": [
    "pf.update_cache_symbols(symbols=['msft', 'orcl', 'tsla'])"
   ]
  },
  {
   "cell_type": "markdown",
   "metadata": {},
   "source": [
    "Remove the time series for TSLA"
   ]
  },
  {
   "cell_type": "code",
   "execution_count": 3,
   "metadata": {
    "ExecuteTime": {
     "end_time": "2020-02-15T23:14:39.535037Z",
     "start_time": "2020-02-15T23:14:39.521363Z"
    }
   },
   "outputs": [
    {
     "name": "stdout",
     "output_type": "stream",
     "text": [
      "removing symbols:\n",
      "TSLA \n"
     ]
    }
   ],
   "source": [
    "pf.remove_cache_symbols(symbols=['tsla'])"
   ]
  },
  {
   "cell_type": "markdown",
   "metadata": {},
   "source": [
    "Update time series for all symbols in the cache directory"
   ]
  },
  {
   "cell_type": "code",
   "execution_count": 4,
   "metadata": {
    "ExecuteTime": {
     "end_time": "2020-02-15T23:16:05.937873Z",
     "start_time": "2020-02-15T23:14:39.540755Z"
    }
   },
   "outputs": [
    {
     "name": "stdout",
     "output_type": "stream",
     "text": [
      "updating symbols:\n",
      "EURUSD=X CMCSA BTC=F BMY V ZC=F VNQ ADA-USD NQ=F UB=F \n",
      "('Date')\n",
      "RUB=X \n",
      "IWM ZN=F MNQ=F BND 6A=F IEF SLV SHY PA=F PM \n",
      "DBC THB=X PL=F DIA BRK-B XLK MIR=F INR=X XLB VGK \n",
      "DX=F MES=F NUE AMZN ETH-USD GIS BIL UL XLE EURCHF=X \n",
      "EEM GF=F USDT-USD XLP EURGBP=X M6A=F SPY CT=F DC=F KC=F \n",
      "ZO=F SLY 6Z=F KE=F M2K=F BTC-USD 6R=F AUDUSD=X M6E=F UUP \n",
      "BUD ZB=F JNJ ZM=F XLU CU=F \n",
      "(No data fetched for symbol CU=F using YahooDailyReader)\n",
      "HD EURHUF=X INTC FXE \n",
      "LBS=F GOOG XHB JKE 6J=F FXB 6B=F GDX RSP XOM \n",
      "BTCUSD=X GLD JNK MGC=F BSV BCH-USD XRP-USD RB=F PHP=X NLY \n",
      "GBPUSD=X BTI MO K ORCL HG=F HKD=X CLX XLI TLT \n",
      "XLY ZAR=X 6L=F T ZW=F SO NFLX MYR=X UNG GBPJPY=X \n",
      "EFA HSY LTC-USD CNY=X IWB MSF=F KMI IYR KO EWJ \n",
      "FB BNB-USD SGD=X ZR=F LQD MRK PG AAPL PGX XLV \n",
      "KMB ZQ=F VZ HRL NZDUSD=X MCD=F IVV MSFT TN=F ISF \n",
      "\n",
      "(No data fetched for symbol ISF using YahooDailyReader)\n",
      "6S=F DIS SIL=F HE=F QA=F \n",
      "(No data fetched for symbol QA=F using YahooDailyReader)\n",
      "CC=F 6M=F CHRIS-CME_ES1 \n",
      "(No data fetched for symbol CHRIS-CME using YahooDailyReader)\n",
      "NG=F 6E=F \n",
      "LLY GE=F ES=F EURCAD=X ADP BZT=F MXN=X VXUS RDS-B ETHUSD=X \n",
      "\n",
      "(No data fetched for symbol ETHUSD=X using YahooDailyReader)\n",
      "EH=F YM=F LMT XLF CL=F ZF=F EURSEK=X JPY=X TIP RTY=F \n",
      "DOV ^GSPC EURJPY=X OJ=F M6B=F CL IEV XLRE LE=F MYM=F \n",
      "SF=F MCD 6N=F Z GC=F 6C=F RPG ZL=F ZS=F OIH \n",
      "F ZT=F EPP SB=F BZ=F SPY-MINUTE \n",
      "(No data fetched for symbol SPY-MINUTE using YahooDailyReader)\n",
      "VWO BOND IWO IDR=X \n",
      "QQQ VQNPX PFF DAX VEU HO=F AGG SI=F \n"
     ]
    }
   ],
   "source": [
    "pf.update_cache_symbols()"
   ]
  },
  {
   "cell_type": "markdown",
   "metadata": {},
   "source": [
    "Remove time series for all symbols in the cache directory"
   ]
  },
  {
   "cell_type": "code",
   "execution_count": 5,
   "metadata": {
    "ExecuteTime": {
     "end_time": "2020-02-15T23:16:05.951276Z",
     "start_time": "2020-02-15T23:16:05.941884Z"
    }
   },
   "outputs": [],
   "source": [
    "# WARNING!!! - if you uncomment the line below, you'll wipe out\n",
    "# all the symbols in your cache directory\n",
    "#pf.remove_cache_symbols()"
   ]
  }
 ],
 "metadata": {
  "kernelspec": {
   "display_name": "Python 3 (ipykernel)",
   "language": "python",
   "name": "python3"
  },
  "language_info": {
   "codemirror_mode": {
    "name": "ipython",
    "version": 3
   },
   "file_extension": ".py",
   "mimetype": "text/x-python",
   "name": "python",
   "nbconvert_exporter": "python",
   "pygments_lexer": "ipython3",
   "version": "3.8.10"
  },
  "latex_envs": {
   "LaTeX_envs_menu_present": true,
   "autoclose": false,
   "autocomplete": true,
   "bibliofile": "biblio.bib",
   "cite_by": "apalike",
   "current_citInitial": 1,
   "eqLabelWithNumbers": true,
   "eqNumInitial": 1,
   "hotkeys": {
    "equation": "Ctrl-E",
    "itemize": "Ctrl-I"
   },
   "labels_anchors": false,
   "latex_user_defs": false,
   "report_style_numbering": false,
   "user_envs_cfg": false
  }
 },
 "nbformat": 4,
 "nbformat_minor": 1
}
