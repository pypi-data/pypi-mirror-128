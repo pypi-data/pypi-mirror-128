{
 "cells": [
  {
   "cell_type": "markdown",
   "metadata": {
    "ExecuteTime": {
     "end_time": "2019-11-16T14:29:50.731803Z",
     "start_time": "2019-11-16T14:29:50.715887Z"
    }
   },
   "source": [
    "# S&P 500 Components Time Series\n",
    "\n",
    "Get time series of all S&P 500 components"
   ]
  },
  {
   "cell_type": "code",
   "execution_count": 1,
   "metadata": {
    "ExecuteTime": {
     "end_time": "2020-02-16T18:51:39.883363Z",
     "start_time": "2020-02-16T18:51:38.457025Z"
    }
   },
   "outputs": [],
   "source": [
    "from datetime import datetime\n",
    "import pandas as pd\n",
    "\n",
    "import pinkfish as pf\n",
    "\n",
    "# -*- encoding: utf-8 -*-\n",
    "%matplotlib inline"
   ]
  },
  {
   "cell_type": "markdown",
   "metadata": {},
   "source": [
    "Current S&P500 symbols.  \n",
    "See my SP500 project that generates the sp500.cvs file."
   ]
  },
  {
   "cell_type": "code",
   "execution_count": 3,
   "metadata": {
    "ExecuteTime": {
     "end_time": "2020-02-16T18:51:39.983162Z",
     "start_time": "2020-02-16T18:51:39.916040Z"
    },
    "scrolled": false
   },
   "outputs": [
    {
     "name": "stdout",
     "output_type": "stream",
     "text": [
      "['A', 'AAL', 'AAP', 'AAPL', 'ABBV', 'ABC', 'ABMD', 'ABT', 'ACN', 'ADBE', 'ADI', 'ADM', 'ADP', 'ADS', 'ADSK', 'AEE', 'AEP', 'AES', 'AFL', 'AGN', 'AIG', 'AIV', 'AIZ', 'AJG', 'AKAM', 'ALB', 'ALGN', 'ALK', 'ALL', 'ALLE', 'ALXN', 'AMAT', 'AMCR', 'AMD', 'AME', 'AMGN', 'AMP', 'AMT', 'AMZN', 'ANET', 'ANSS', 'ANTM', 'AON', 'AOS', 'APA', 'APD', 'APH', 'APTV', 'ARE', 'ATO', 'ATVI', 'AVB', 'AVGO', 'AVY', 'AWK', 'AXP', 'AZO', 'BA', 'BAC', 'BAX', 'BBY', 'BDX', 'BEN', 'BF.B', 'BIIB', 'BK', 'BKNG', 'BKR', 'BLK', 'BLL', 'BMY', 'BR', 'BRK.B', 'BSX', 'BWA', 'BXP', 'C', 'CAG', 'CAH', 'CARR', 'CAT', 'CB', 'CBOE', 'CBRE', 'CCI', 'CCL', 'CDNS', 'CDW', 'CE', 'CERN', 'CF', 'CFG', 'CHD', 'CHRW', 'CHTR', 'CI', 'CINF', 'CL', 'CLX', 'CMA', 'CMCSA', 'CME', 'CMG', 'CMI', 'CMS', 'CNC', 'CNP', 'COF', 'COG', 'COO', 'COP', 'COST', 'COTY', 'CPB', 'CPRI', 'CPRT', 'CRM', 'CSCO', 'CSX', 'CTAS', 'CTL', 'CTSH', 'CTVA', 'CTXS', 'CVS', 'CVX', 'CXO', 'D', 'DAL', 'DD', 'DE', 'DFS', 'DG', 'DGX', 'DHI', 'DHR', 'DIS', 'DISCA', 'DISCK', 'DISH', 'DLR', 'DLTR', 'DOV', 'DOW', 'DRE', 'DRI', 'DTE', 'DUK', 'DVA', 'DVN', 'DXC', 'EA', 'EBAY', 'ECL', 'ED', 'EFX', 'EIX', 'EL', 'EMN', 'EMR', 'EOG', 'EQIX', 'EQR', 'ES', 'ESS', 'ETFC', 'ETN', 'ETR', 'EVRG', 'EW', 'EXC', 'EXPD', 'EXPE', 'EXR', 'F', 'FANG', 'FAST', 'FB', 'FBHS', 'FCX', 'FDX', 'FE', 'FFIV', 'FIS', 'FISV', 'FITB', 'FLIR', 'FLS', 'FLT', 'FMC', 'FOX', 'FOXA', 'FRC', 'FRT', 'FTI', 'FTNT', 'FTV', 'GD', 'GE', 'GILD', 'GIS', 'GL', 'GLW', 'GM', 'GOOG', 'GOOGL', 'GPC', 'GPN', 'GPS', 'GRMN', 'GS', 'GWW', 'HAL', 'HAS', 'HBAN', 'HBI', 'HCA', 'HD', 'HES', 'HFC', 'HIG', 'HII', 'HLT', 'HOG', 'HOLX', 'HON', 'HP', 'HPE', 'HPQ', 'HRB', 'HRL', 'HSIC', 'HST', 'HSY', 'HUM', 'HWM', 'IBM', 'ICE', 'IDXX', 'IEX', 'IFF', 'ILMN', 'INCY', 'INFO', 'INTC', 'INTU', 'IP', 'IPG', 'IPGP', 'IQV', 'IR', 'IRM', 'ISRG', 'IT', 'ITW', 'IVZ', 'J', 'JBHT', 'JCI', 'JKHY', 'JNJ', 'JNPR', 'JPM', 'JWN', 'K', 'KEY', 'KEYS', 'KHC', 'KIM', 'KLAC', 'KMB', 'KMI', 'KMX', 'KO', 'KR', 'KSS', 'KSU', 'L', 'LB', 'LDOS', 'LEG', 'LEN', 'LH', 'LHX', 'LIN', 'LKQ', 'LLY', 'LMT', 'LNC', 'LNT', 'LOW', 'LRCX', 'LUV', 'LVS', 'LW', 'LYB', 'LYV', 'MA', 'MAA', 'MAR', 'MAS', 'MCD', 'MCHP', 'MCK', 'MCO', 'MDLZ', 'MDT', 'MET', 'MGM', 'MHK', 'MKC', 'MKTX', 'MLM', 'MMC', 'MMM', 'MNST', 'MO', 'MOS', 'MPC', 'MRK', 'MRO', 'MS', 'MSCI', 'MSFT', 'MSI', 'MTB', 'MTD', 'MU', 'MXIM', 'MYL', 'NBL', 'NCLH', 'NDAQ', 'NEE', 'NEM', 'NFLX', 'NI', 'NKE', 'NLOK', 'NLSN', 'NOC', 'NOV', 'NOW', 'NRG', 'NSC', 'NTAP', 'NTRS', 'NUE', 'NVDA', 'NVR', 'NWL', 'NWS', 'NWSA', 'O', 'ODFL', 'OKE', 'OMC', 'ORCL', 'ORLY', 'OTIS', 'OXY', 'PAYC', 'PAYX', 'PBCT', 'PCAR', 'PEAK', 'PEG', 'PEP', 'PFE', 'PFG', 'PG', 'PGR', 'PH', 'PHM', 'PKG', 'PKI', 'PLD', 'PM', 'PNC', 'PNR', 'PNW', 'PPG', 'PPL', 'PRGO', 'PRU', 'PSA', 'PSX', 'PVH', 'PWR', 'PXD', 'PYPL', 'QCOM', 'QRVO', 'RCL', 'RE', 'REG', 'REGN', 'RF', 'RHI', 'RJF', 'RL', 'RMD', 'ROK', 'ROL', 'ROP', 'ROST', 'RSG', 'RTX', 'SBAC', 'SBUX', 'SCHW', 'SEE', 'SHW', 'SIVB', 'SJM', 'SLB', 'SLG', 'SNA', 'SNPS', 'SO', 'SPG', 'SPGI', 'SRE', 'STE', 'STT', 'STX', 'STZ', 'SWK', 'SWKS', 'SYF', 'SYK', 'SYY', 'T', 'TAP', 'TDG', 'TEL', 'TFC', 'TFX', 'TGT', 'TIF', 'TJX', 'TMO', 'TMUS', 'TPR', 'TROW', 'TRV', 'TSCO', 'TSN', 'TT', 'TTWO', 'TWTR', 'TXN', 'TXT', 'UA', 'UAA', 'UAL', 'UDR', 'UHS', 'ULTA', 'UNH', 'UNM', 'UNP', 'UPS', 'URI', 'USB', 'V', 'VAR', 'VFC', 'VIAC', 'VLO', 'VMC', 'VNO', 'VRSK', 'VRSN', 'VRTX', 'VTR', 'VZ', 'WAB', 'WAT', 'WBA', 'WDC', 'WEC', 'WELL', 'WFC', 'WHR', 'WLTW', 'WM', 'WMB', 'WMT', 'WRB', 'WRK', 'WU', 'WY', 'WYNN', 'XEL', 'XLNX', 'XOM', 'XRAY', 'XRX', 'XYL', 'YUM', 'ZBH', 'ZBRA', 'ZION', 'ZTS']\n"
     ]
    }
   ],
   "source": [
    "filename = 'sp500.csv'\n",
    "symbols = pd.read_csv(filename)\n",
    "symbols = sorted(list(symbols['Symbol']))\n",
    "print(symbols)"
   ]
  },
  {
   "cell_type": "markdown",
   "metadata": {},
   "source": [
    "Create cache directory for current sp500 symbol timeseries"
   ]
  },
  {
   "cell_type": "code",
   "execution_count": 4,
   "metadata": {
    "ExecuteTime": {
     "end_time": "2020-02-16T18:51:40.015676Z",
     "start_time": "2020-02-16T18:51:39.993152Z"
    }
   },
   "outputs": [],
   "source": [
    "now = datetime.now()\n",
    "dt_string = now.strftime('%m-%d-%Y') # mm-dd-YYYY\n",
    "dir_name = 'sp500-components-{}'.format(dt_string)"
   ]
  },
  {
   "cell_type": "markdown",
   "metadata": {},
   "source": [
    "Update time series for the symbols below.  \n",
    "Time series will be fetched for any symbols not already cached."
   ]
  },
  {
   "cell_type": "code",
   "execution_count": 5,
   "metadata": {
    "ExecuteTime": {
     "end_time": "2020-02-16T18:59:26.164109Z",
     "start_time": "2020-02-16T18:51:40.022478Z"
    },
    "scrolled": false
   },
   "outputs": [
    {
     "name": "stdout",
     "output_type": "stream",
     "text": [
      "updating symbols:\n",
      "A AAL AAP AAPL ABBV ABC ABMD ABT ACN ADBE ADI \n",
      "ADM ADP ADS ADSK AEE AEP AES AFL AGN AIG \n",
      "AIV AIZ AJG AKAM ALB ALGN ALK ALL ALLE ALXN \n",
      "AMAT AMCR AMD AME AMGN AMP AMT AMZN ANET ANSS \n",
      "ANTM AON AOS APA APD APH APTV ARE ATO ATVI \n",
      "AVB AVGO AVY AWK AXP AZO BA BAC BAX BBY \n",
      "BDX BEN BF.B BIIB BK BKNG BKR BLK BLL BMY \n",
      "BR BRK.B BSX BWA BXP C CAG CAH CARR CAT \n",
      "CB CBOE CBRE CCI CCL CDNS CDW CE CERN CF \n",
      "CFG CHD CHRW CHTR CI CINF CL CLX CMA CMCSA \n",
      "CME CMG CMI CMS CNC CNP COF COG COO COP \n",
      "COST COTY CPB CPRI CPRT CRM CSCO CSX CTAS CTL \n",
      "CTSH CTVA CTXS CVS CVX CXO D DAL DD DE \n",
      "DFS DG DGX DHI DHR DIS DISCA DISCK DISH DLR \n",
      "DLTR DOV DOW DRE DRI DTE DUK DVA DVN DXC \n",
      "EA EBAY ECL ED EFX EIX EL EMN EMR EOG \n",
      "EQIX EQR ES ESS ETFC ETN ETR EVRG EW EXC \n",
      "EXPD EXPE EXR F FANG FAST FB FBHS FCX FDX \n",
      "FE FFIV FIS FISV FITB FLIR FLS FLT FMC FOX \n",
      "FOXA FRC FRT FTI FTNT FTV GD GE GILD GIS \n",
      "GL GLW GM GOOG GOOGL GPC GPN GPS GRMN GS \n",
      "GWW HAL HAS HBAN HBI HCA HD HES HFC HIG \n",
      "HII HLT HOG HOLX HON HP HPE HPQ HRB HRL \n",
      "HSIC HST HSY HUM HWM IBM ICE IDXX IEX IFF \n",
      "ILMN INCY INFO INTC INTU IP IPG IPGP IQV IR \n",
      "IRM ISRG IT ITW IVZ J JBHT JCI JKHY JNJ \n",
      "JNPR JPM JWN K KEY KEYS KHC KIM KLAC KMB \n",
      "KMI KMX KO KR KSS KSU L LB LDOS LEG \n",
      "LEN LH LHX LIN LKQ LLY LMT LNC LNT LOW \n",
      "LRCX LUV LVS LW LYB LYV MA MAA MAR MAS \n",
      "MCD MCHP MCK MCO MDLZ MDT MET MGM MHK MKC \n",
      "MKTX MLM MMC MMM MNST MO MOS MPC MRK MRO \n",
      "MS MSCI MSFT MSI MTB MTD MU MXIM MYL NBL \n",
      "NCLH NDAQ NEE NEM NFLX NI NKE NLOK NLSN NOC \n",
      "NOV NOW NRG NSC NTAP NTRS NUE NVDA NVR NWL \n",
      "NWS NWSA O ODFL OKE OMC ORCL ORLY OTIS OXY \n",
      "PAYC PAYX PBCT PCAR PEAK PEG PEP PFE PFG PG \n",
      "PGR PH PHM PKG PKI PLD PM PNC PNR PNW \n",
      "PPG PPL PRGO PRU PSA PSX PVH PWR PXD PYPL \n",
      "QCOM QRVO RCL RE REG REGN RF RHI RJF RL \n",
      "RMD ROK ROL ROP ROST RSG RTX SBAC SBUX SCHW \n",
      "SEE SHW SIVB SJM SLB SLG SNA SNPS SO SPG \n",
      "SPGI SRE STE STT STX STZ SWK SWKS SYF SYK \n",
      "SYY T TAP TDG TEL TFC TFX TGT TIF TJX \n",
      "TMO TMUS TPR TROW TRV TSCO TSN TT TTWO TWTR \n",
      "TXN TXT UA UAA UAL UDR UHS ULTA UNH UNM \n",
      "UNP UPS URI USB V VAR VFC VIAC VLO VMC \n",
      "VNO VRSK VRSN VRTX VTR VZ WAB WAT WBA WDC \n",
      "WEC WELL WFC WHR WLTW WM WMB WMT WRB WRK \n",
      "WU WY WYNN XEL XLNX XOM XRAY XRX XYL YUM \n",
      "ZBH ZBRA ZION ZTS \n"
     ]
    }
   ],
   "source": [
    "pf.update_cache_symbols(symbols=symbols, dir_name=dir_name,from_year=2018)"
   ]
  }
 ],
 "metadata": {
  "kernelspec": {
   "display_name": "Python 3 (ipykernel)",
   "language": "python",
   "name": "python3"
  },
  "language_info": {
   "codemirror_mode": {
    "name": "ipython",
    "version": 3
   },
   "file_extension": ".py",
   "mimetype": "text/x-python",
   "name": "python",
   "nbconvert_exporter": "python",
   "pygments_lexer": "ipython3",
   "version": "3.8.10"
  },
  "latex_envs": {
   "LaTeX_envs_menu_present": true,
   "autoclose": false,
   "autocomplete": true,
   "bibliofile": "biblio.bib",
   "cite_by": "apalike",
   "current_citInitial": 1,
   "eqLabelWithNumbers": true,
   "eqNumInitial": 1,
   "hotkeys": {
    "equation": "Ctrl-E",
    "itemize": "Ctrl-I"
   },
   "labels_anchors": false,
   "latex_user_defs": false,
   "report_style_numbering": false,
   "user_envs_cfg": false
  }
 },
 "nbformat": 4,
 "nbformat_minor": 2
}
