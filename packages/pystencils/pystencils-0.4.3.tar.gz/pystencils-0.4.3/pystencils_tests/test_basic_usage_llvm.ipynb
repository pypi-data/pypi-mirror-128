{
 "cells": [
  {
   "cell_type": "markdown",
   "metadata": {},
   "source": [
    "# pystencils - LLVM generation\n",
    "The generation of LLVM code is simliar but not identical as seen with the C++ version. For the generation itself a python module ``llvmlite`` is used. This module provides the necessary support and bindings for LLVM. In order to generate from the AST to llvm, the AST needs to be transformed to support type conversions. This is the biggest difference to the C++ version. C++ doesn't need that since the language itself handles the casts.\n",
    "\n",
    "In this example a simple weighted Jacobi kernel is generated, so the focus remains on the part of LLVM generation."
   ]
  },
  {
   "cell_type": "code",
   "execution_count": null,
   "metadata": {},
   "outputs": [],
   "source": [
    "import pytest\n",
    "pytest.importorskip('llvmlite')"
   ]
  },
  {
   "cell_type": "code",
   "execution_count": 1,
   "metadata": {},
   "outputs": [],
   "source": [
    "import sympy as sp\n",
    "import numpy as np\n",
    "import ctypes\n",
    "from pystencils import Field, Assignment\n",
    "from pystencils import create_kernel, Backend\n",
    "from pystencils.display_utils import to_dot\n",
    "\n",
    "sp.init_printing()"
   ]
  },
  {
   "cell_type": "markdown",
   "metadata": {},
   "source": [
    "The numpy arrays (with inital values) create *Field*s for the update Rule. Later those arrays are used for the computation itself."
   ]
  },
  {
   "cell_type": "code",
   "execution_count": 2,
   "metadata": {},
   "outputs": [],
   "source": [
    "src_arr = np.zeros((30, 20))\n",
    "src_arr[0,:] = 1.0\n",
    "src_arr[:,0] = 1.0\n",
    "dst_arr = src_arr.copy()\n",
    "\n",
    "src_field = Field.create_from_numpy_array('src', src_arr)\n",
    "dst_field = Field.create_from_numpy_array('dst', dst_arr)"
   ]
  },
  {
   "cell_type": "markdown",
   "metadata": {},
   "source": [
    "Using the *Field* objects and the additional *Symbol* $\\omega$ for the weight the update rule is specified as a *sympy* equation."
   ]
  },
  {
   "cell_type": "code",
   "execution_count": 3,
   "metadata": {},
   "outputs": [
    {
     "data": {
      "image/png": "[encoded data removed]",
      "text/latex": [
       "$\\displaystyle {{dst}_{(0,0)}} \\leftarrow {{src}_{(0,0)}} \\left(1.0 - \\omega\\right) + \\frac{\\omega \\left({{src}_{(1,0)}} + {{src}_{(0,1)}} + {{src}_{(0,-1)}} + {{src}_{(-1,0)}}\\right)}{4}$"
      ],
      "text/plain": [
       "                           ω⋅(src_E + src_N + src_S + src_W)\n",
       "dst_C := src_C⋅(1.0 - ω) + ─────────────────────────────────\n",
       "                                           4                "
      ]
     },
     "execution_count": 3,
     "metadata": {},
     "output_type": "execute_result"
    }
   ],
   "source": [
    "omega = sp.symbols(\"omega\")\n",
    "update_rule = Assignment(dst_field[0,0], omega * (src_field[0,1] + src_field[0,-1] + src_field[1,0] + src_field[-1,0]) / 4\n",
    "                   + (1.-omega)*src_field[0,0])\n",
    "update_rule"
   ]
  },
  {
   "cell_type": "markdown",
   "metadata": {},
   "source": [
    "With this update rule an abstract syntax tree (AST) can be created. This AST can be used to print the LLVM code. The creation follows the same routines as the C++ version does. However at the end there are two more steps. In order to generate LLVM, type casting and pointer arithmetic had to be introduced (which C++ does for you)."
   ]
  },
  {
   "cell_type": "code",
   "execution_count": 4,
   "metadata": {
    "scrolled": false
   },
   "outputs": [
    {
     "name": "stdout",
     "output_type": "stream",
     "text": [
      "KernelFunction kernel([_data_dst, _data_src, omega])\n",
      "\tBlock for(ctr_0=1; ctr_0<29; ctr_0+=1)\n",
      "\t\tBlock _data_dst_00 ← pointer_arithmetic_func(_data_dst, 20*ctr_0)\n",
      "\t\t_data_src_00 ← pointer_arithmetic_func(_data_src, 20*ctr_0)\n",
      "\t\t_data_src_01 ← pointer_arithmetic_func(_data_src, 20*ctr_0 + 20)\n",
      "\t\t_data_src_0m1 ← pointer_arithmetic_func(_data_src, 20*ctr_0 - 20)\n",
      "\t\tfor(ctr_1=1; ctr_1<19; ctr_1+=1)\n",
      "\t\t\tBlock _data_dst_00[ctr_1] ← omega*(_data_src_00[ctr_1 + 1] + _data_src_00[ctr_1 - 1] + _data_src_01[ctr_1] + _data_src_0m1[ctr_1])*cast_func(1/4, double) + (omega*cast_func(-1, double) + cast_func(1.0, double))*_data_src_00[ctr_1]\n",
      "\t\t\n",
      "\t\n",
      "\n"
     ]
    }
   ],
   "source": [
    "ast = create_kernel([update_rule], backend=Backend.LLVM)\n",
    "print(str(ast))"
   ]
  },
  {
   "cell_type": "markdown",
   "metadata": {},
   "source": [
    "It is possible to examine the AST further."
   ]
  },
  {
   "cell_type": "code",
   "execution_count": 5,
   "metadata": {
    "scrolled": false
   },
   "outputs": [
    {
     "data": {
      "image/svg+xml": [
       "<?xml version=\"1.0\" encoding=\"UTF-8\" standalone=\"no\"?>\n",
       "<!DOCTYPE svg PUBLIC \"-//W3C//DTD SVG 1.1//EN\"\n",
       " \"http://www.w3.org/Graphics/SVG/1.1/DTD/svg11.dtd\">\n",
       "<!-- Generated by graphviz version 2.40.1 (20161225.0304)\n",
       " -->\n",
       "<!-- Title: %3 Pages: 1 -->\n",
       "<svg width=\"864pt\" height=\"476pt\"\n",
       " viewBox=\"0.00 0.00 864.48 476.00\" xmlns=\"http://www.w3.org/2000/svg\" xmlns:xlink=\"http://www.w3.org/1999/xlink\">\n",
       "<g id=\"graph0\" class=\"graph\" transform=\"scale(1 1) rotate(0) translate(4 472)\">\n",
       "<title>%3</title>\n",
       "<polygon fill=\"#ffffff\" stroke=\"transparent\" points=\"-4,4 -4,-472 860.4844,-472 860.4844,4 -4,4\"/>\n",
       "<!-- 139792163067600 -->\n",
       "<g id=\"node1\" class=\"node\">\n",
       "<title>139792163067600</title>\n",
       "<ellipse fill=\"#a056db\" stroke=\"#000000\" cx=\"396.1436\" cy=\"-450\" rx=\"145.6742\" ry=\"18\"/>\n",
       "<text text-anchor=\"middle\" x=\"396.1436\" y=\"-446.3\" font-family=\"Times,serif\" font-size=\"14.00\" fill=\"#000000\">Func: kernel (dst,src,omega)</text>\n",
       "</g>\n",
       "<!-- 139791989624336 -->\n",
       "<g id=\"node11\" class=\"node\">\n",
       "<title>139791989624336</title>\n",
       "<ellipse fill=\"#dbc256\" stroke=\"#000000\" cx=\"396.1436\" cy=\"-378\" rx=\"37.0935\" ry=\"18\"/>\n",
       "<text text-anchor=\"middle\" x=\"396.1436\" y=\"-374.3\" font-family=\"Times,serif\" font-size=\"14.00\" fill=\"#000000\">Block</text>\n",
       "</g>\n",
       "<!-- 139792163067600&#45;&gt;139791989624336 -->\n",
       "<g id=\"edge10\" class=\"edge\">\n",
       "<title>139792163067600&#45;&gt;139791989624336</title>\n",
       "<path fill=\"none\" stroke=\"#000000\" d=\"M396.1436,-431.8314C396.1436,-424.131 396.1436,-414.9743 396.1436,-406.4166\"/>\n",
       "<polygon fill=\"#000000\" stroke=\"#000000\" points=\"399.6437,-406.4132 396.1436,-396.4133 392.6437,-406.4133 399.6437,-406.4132\"/>\n",
       "</g>\n",
       "<!-- 139791989623376 -->\n",
       "<g id=\"node2\" class=\"node\">\n",
       "<title>139791989623376</title>\n",
       "<ellipse fill=\"#3498db\" stroke=\"#000000\" cx=\"396.1436\" cy=\"-306\" rx=\"86.3847\" ry=\"18\"/>\n",
       "<text text-anchor=\"middle\" x=\"396.1436\" y=\"-302.3\" font-family=\"Times,serif\" font-size=\"14.00\" fill=\"#000000\">Loop over dim 0</text>\n",
       "</g>\n",
       "<!-- 139792050742160 -->\n",
       "<g id=\"node10\" class=\"node\">\n",
       "<title>139792050742160</title>\n",
       "<ellipse fill=\"#dbc256\" stroke=\"#000000\" cx=\"396.1436\" cy=\"-234\" rx=\"37.0935\" ry=\"18\"/>\n",
       "<text text-anchor=\"middle\" x=\"396.1436\" y=\"-230.3\" font-family=\"Times,serif\" font-size=\"14.00\" fill=\"#000000\">Block</text>\n",
       "</g>\n",
       "<!-- 139791989623376&#45;&gt;139792050742160 -->\n",
       "<g id=\"edge8\" class=\"edge\">\n",
       "<title>139791989623376&#45;&gt;139792050742160</title>\n",
       "<path fill=\"none\" stroke=\"#000000\" d=\"M396.1436,-287.8314C396.1436,-280.131 396.1436,-270.9743 396.1436,-262.4166\"/>\n",
       "<polygon fill=\"#000000\" stroke=\"#000000\" points=\"399.6437,-262.4132 396.1436,-252.4133 392.6437,-262.4133 399.6437,-262.4132\"/>\n",
       "</g>\n",
       "<!-- 139791989188432 -->\n",
       "<g id=\"node3\" class=\"node\">\n",
       "<title>139791989188432</title>\n",
       "<ellipse fill=\"#56db7f\" stroke=\"#000000\" cx=\"72.1436\" cy=\"-162\" rx=\"72.2875\" ry=\"18\"/>\n",
       "<text text-anchor=\"middle\" x=\"72.1436\" y=\"-158.3\" font-family=\"Times,serif\" font-size=\"14.00\" fill=\"#000000\">_data_dst_00</text>\n",
       "</g>\n",
       "<!-- 139791989188752 -->\n",
       "<g id=\"node4\" class=\"node\">\n",
       "<title>139791989188752</title>\n",
       "<ellipse fill=\"#56db7f\" stroke=\"#000000\" cx=\"234.1436\" cy=\"-162\" rx=\"72.2875\" ry=\"18\"/>\n",
       "<text text-anchor=\"middle\" x=\"234.1436\" y=\"-158.3\" font-family=\"Times,serif\" font-size=\"14.00\" fill=\"#000000\">_data_src_00</text>\n",
       "</g>\n",
       "<!-- 139791989189072 -->\n",
       "<g id=\"node5\" class=\"node\">\n",
       "<title>139791989189072</title>\n",
       "<ellipse fill=\"#56db7f\" stroke=\"#000000\" cx=\"396.1436\" cy=\"-162\" rx=\"72.2875\" ry=\"18\"/>\n",
       "<text text-anchor=\"middle\" x=\"396.1436\" y=\"-158.3\" font-family=\"Times,serif\" font-size=\"14.00\" fill=\"#000000\">_data_src_01</text>\n",
       "</g>\n",
       "<!-- 139791989189456 -->\n",
       "<g id=\"node6\" class=\"node\">\n",
       "<title>139791989189456</title>\n",
       "<ellipse fill=\"#56db7f\" stroke=\"#000000\" cx=\"567.1436\" cy=\"-162\" rx=\"81.4863\" ry=\"18\"/>\n",
       "<text text-anchor=\"middle\" x=\"567.1436\" y=\"-158.3\" font-family=\"Times,serif\" font-size=\"14.00\" fill=\"#000000\">_data_src_0m1</text>\n",
       "</g>\n",
       "<!-- 139792198596368 -->\n",
       "<g id=\"node7\" class=\"node\">\n",
       "<title>139792198596368</title>\n",
       "<ellipse fill=\"#3498db\" stroke=\"#000000\" cx=\"753.1436\" cy=\"-162\" rx=\"86.3847\" ry=\"18\"/>\n",
       "<text text-anchor=\"middle\" x=\"753.1436\" y=\"-158.3\" font-family=\"Times,serif\" font-size=\"14.00\" fill=\"#000000\">Loop over dim 1</text>\n",
       "</g>\n",
       "<!-- 139792198655632 -->\n",
       "<g id=\"node9\" class=\"node\">\n",
       "<title>139792198655632</title>\n",
       "<ellipse fill=\"#dbc256\" stroke=\"#000000\" cx=\"753.1436\" cy=\"-90\" rx=\"37.0935\" ry=\"18\"/>\n",
       "<text text-anchor=\"middle\" x=\"753.1436\" y=\"-86.3\" font-family=\"Times,serif\" font-size=\"14.00\" fill=\"#000000\">Block</text>\n",
       "</g>\n",
       "<!-- 139792198596368&#45;&gt;139792198655632 -->\n",
       "<g id=\"edge2\" class=\"edge\">\n",
       "<title>139792198596368&#45;&gt;139792198655632</title>\n",
       "<path fill=\"none\" stroke=\"#000000\" d=\"M753.1436,-143.8314C753.1436,-136.131 753.1436,-126.9743 753.1436,-118.4166\"/>\n",
       "<polygon fill=\"#000000\" stroke=\"#000000\" points=\"756.6437,-118.4132 753.1436,-108.4133 749.6437,-118.4133 756.6437,-118.4132\"/>\n",
       "</g>\n",
       "<!-- 139791989208464 -->\n",
       "<g id=\"node8\" class=\"node\">\n",
       "<title>139791989208464</title>\n",
       "<ellipse fill=\"#56db7f\" stroke=\"#000000\" cx=\"753.1436\" cy=\"-18\" rx=\"103.1819\" ry=\"18\"/>\n",
       "<text text-anchor=\"middle\" x=\"753.1436\" y=\"-14.3\" font-family=\"Times,serif\" font-size=\"14.00\" fill=\"#000000\">_data_dst_00[ctr_1]</text>\n",
       "</g>\n",
       "<!-- 139792198655632&#45;&gt;139791989208464 -->\n",
       "<g id=\"edge1\" class=\"edge\">\n",
       "<title>139792198655632&#45;&gt;139791989208464</title>\n",
       "<path fill=\"none\" stroke=\"#000000\" d=\"M753.1436,-71.8314C753.1436,-64.131 753.1436,-54.9743 753.1436,-46.4166\"/>\n",
       "<polygon fill=\"#000000\" stroke=\"#000000\" points=\"756.6437,-46.4132 753.1436,-36.4133 749.6437,-46.4133 756.6437,-46.4132\"/>\n",
       "</g>\n",
       "<!-- 139792050742160&#45;&gt;139791989188432 -->\n",
       "<g id=\"edge3\" class=\"edge\">\n",
       "<title>139792050742160&#45;&gt;139791989188432</title>\n",
       "<path fill=\"none\" stroke=\"#000000\" d=\"M362.3868,-226.4985C309.0457,-214.6449 204.358,-191.381 136.3723,-176.2731\"/>\n",
       "<polygon fill=\"#000000\" stroke=\"#000000\" points=\"136.7255,-172.7662 126.2043,-174.0135 135.2069,-179.5995 136.7255,-172.7662\"/>\n",
       "</g>\n",
       "<!-- 139792050742160&#45;&gt;139791989188752 -->\n",
       "<g id=\"edge4\" class=\"edge\">\n",
       "<title>139792050742160&#45;&gt;139791989188752</title>\n",
       "<path fill=\"none\" stroke=\"#000000\" d=\"M368.6625,-221.7862C344.1691,-210.9002 307.8582,-194.7621 279.1334,-181.9955\"/>\n",
       "<polygon fill=\"#000000\" stroke=\"#000000\" points=\"280.2705,-178.6708 269.7108,-177.8077 277.4275,-185.0674 280.2705,-178.6708\"/>\n",
       "</g>\n",
       "<!-- 139792050742160&#45;&gt;139791989189072 -->\n",
       "<g id=\"edge5\" class=\"edge\">\n",
       "<title>139792050742160&#45;&gt;139791989189072</title>\n",
       "<path fill=\"none\" stroke=\"#000000\" d=\"M396.1436,-215.8314C396.1436,-208.131 396.1436,-198.9743 396.1436,-190.4166\"/>\n",
       "<polygon fill=\"#000000\" stroke=\"#000000\" points=\"399.6437,-190.4132 396.1436,-180.4133 392.6437,-190.4133 399.6437,-190.4132\"/>\n",
       "</g>\n",
       "<!-- 139792050742160&#45;&gt;139791989189456 -->\n",
       "<g id=\"edge6\" class=\"edge\">\n",
       "<title>139792050742160&#45;&gt;139791989189456</title>\n",
       "<path fill=\"none\" stroke=\"#000000\" d=\"M424.3808,-222.1107C450.343,-211.1792 489.3422,-194.7585 520.0222,-181.8406\"/>\n",
       "<polygon fill=\"#000000\" stroke=\"#000000\" points=\"521.3947,-185.0604 529.2528,-177.954 518.6783,-178.6089 521.3947,-185.0604\"/>\n",
       "</g>\n",
       "<!-- 139792050742160&#45;&gt;139792198596368 -->\n",
       "<g id=\"edge7\" class=\"edge\">\n",
       "<title>139792050742160&#45;&gt;139792198596368</title>\n",
       "<path fill=\"none\" stroke=\"#000000\" d=\"M430.3743,-227.0963C487.746,-215.5256 604.5075,-191.977 680.7422,-176.602\"/>\n",
       "<polygon fill=\"#000000\" stroke=\"#000000\" points=\"681.6457,-179.9903 690.7564,-174.5823 680.2618,-173.1285 681.6457,-179.9903\"/>\n",
       "</g>\n",
       "<!-- 139791989624336&#45;&gt;139791989623376 -->\n",
       "<g id=\"edge9\" class=\"edge\">\n",
       "<title>139791989624336&#45;&gt;139791989623376</title>\n",
       "<path fill=\"none\" stroke=\"#000000\" d=\"M396.1436,-359.8314C396.1436,-352.131 396.1436,-342.9743 396.1436,-334.4166\"/>\n",
       "<polygon fill=\"#000000\" stroke=\"#000000\" points=\"399.6437,-334.4132 396.1436,-324.4133 392.6437,-334.4133 399.6437,-334.4132\"/>\n",
       "</g>\n",
       "</g>\n",
       "</svg>\n"
      ],
      "text/plain": [
       "<graphviz.files.Source at 0x7f23dbdc5c10>"
      ]
     },
     "execution_count": 5,
     "metadata": {},
     "output_type": "execute_result"
    }
   ],
   "source": [
    "to_dot(ast)"
   ]
  },
  {
   "cell_type": "markdown",
   "metadata": {},
   "source": [
    "With transformed AST it is now possible to generate and compile the AST into LLVM. Notice that unlike in C++ version, no files are writen to the hard drive (although it is possible).\n",
    "\n",
    "There are multiple ways how to generate and compile the AST. The most simple one is simillar to the C++ version. Using the ``compile()`` function of the generated AST\n",
    "\n",
    "You can also manually create a python function with ``make_python_function``.\n",
    "\n",
    "Another option is obtaining the jit itself with ``generate_and_jit``.\n",
    "The function ``generate_and_jit`` first generates and the compiles the AST.\n",
    "\n",
    "If even more controll is needed, it is possible to use the functions ``generateLLVM`` and ``compileLLVM`` to achieve the same. For further controll, instead of calling ``compileLLVM`` the jit object itself can be created and its necessary functions for the compilation have to be run manually (``parse``, (``optimize``,) ``compile``)"
   ]
  },
  {
   "cell_type": "code",
   "execution_count": 6,
   "metadata": {
    "scrolled": false
   },
   "outputs": [],
   "source": [
    "kernel = ast.compile()\n",
    "\n",
    "#kernel = make_python_function(ast)\n",
    "\n",
    "# Or alternativally\n",
    "#jit = generate_and_jit(ast)\n",
    "# Call: jit('kernel', src_arr, dst_arr)"
   ]
  },
  {
   "cell_type": "markdown",
   "metadata": {},
   "source": [
    "The compiled function(s) can be used now. Either call the function (with arguments, if not given before) or call the jit object with the function's name and its arguments. Here, numpy arrays are automatically adjusted with ctypes.\n",
    "\n",
    "The functions and arguments can be read as well.\n",
    "\n",
    "**All of the information the jit object has comes from the module which was parsed. If you parse a second module and don't run the compilation step, the module and the compiled code are not the same anymore, thus leading to false information**"
   ]
  },
  {
   "cell_type": "code",
   "execution_count": 7,
   "metadata": {},
   "outputs": [],
   "source": [
    "#jit.print_functions()"
   ]
  },
  {
   "cell_type": "code",
   "execution_count": 8,
   "metadata": {
    "scrolled": true
   },
   "outputs": [],
   "source": [
    "for i in range(100):\n",
    "    kernel(src=src_arr, dst=dst_arr, omega=2/3)\n",
    "    src_arr, dst_arr = dst_arr, src_arr\n",
    "\n"
   ]
  },
  {
   "cell_type": "markdown",
   "metadata": {},
   "source": [
    "The output is drawn with matplotlib."
   ]
  },
  {
   "cell_type": "code",
   "execution_count": 9,
   "metadata": {},
   "outputs": [
    {
     "data": {
      "image/png": "[encoded data removed]",
      "text/plain": [
       "<Figure size 432x288 with 1 Axes>"
      ]
     },
     "metadata": {
      "needs_background": "light"
     },
     "output_type": "display_data"
    }
   ],
   "source": [
    "import matplotlib.pyplot as plt\n",
    "from matplotlib import cm\n",
    "fig = plt.figure()\n",
    "ax = fig.add_subplot(111)\n",
    "ax.imshow(dst_arr, cmap=cm.jet)\n",
    "plt.show()"
   ]
  },
  {
   "cell_type": "code",
   "execution_count": null,
   "metadata": {},
   "outputs": [],
   "source": []
  }
 ],
 "metadata": {
  "anaconda-cloud": {},
  "kernelspec": {
   "display_name": "Python 3",
   "language": "python",
   "name": "python3"
  },
  "language_info": {
   "codemirror_mode": {
    "name": "ipython",
    "version": 3
   },
   "file_extension": ".py",
   "mimetype": "text/x-python",
   "name": "python",
   "nbconvert_exporter": "python",
   "pygments_lexer": "ipython3",
   "version": "3.7.7"
  }
 },
 "nbformat": 4,
 "nbformat_minor": 2
}