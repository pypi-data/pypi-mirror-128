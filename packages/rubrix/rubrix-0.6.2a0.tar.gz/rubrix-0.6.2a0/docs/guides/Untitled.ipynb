{
 "cells": [
  {
   "cell_type": "code",
   "execution_count": 7,
   "id": "b64fae22-7761-4adb-ae1b-e029a92af295",
   "metadata": {},
   "outputs": [],
   "source": [
    "import rubrix as rb\n",
    "import rubrix\n",
    "from rubrix import TextClassificationRecord, TokenClassificationRecord"
   ]
  },
  {
   "cell_type": "code",
   "execution_count": 5,
   "id": "08f06955-e217-4665-9e32-df13750a0e65",
   "metadata": {},
   "outputs": [],
   "source": [
    "rb.init(\"https://dev545c28052.rubrix.ml/\", \"cd818cfa-899a-47e8-979d-6354221b3283\")"
   ]
  },
  {
   "cell_type": "code",
   "execution_count": 9,
   "id": "2d6a0002-75c2-4909-91e7-fb318ecb4896",
   "metadata": {},
   "outputs": [
    {
     "data": {
      "text/plain": [
       "BulkResponse(dataset='test_delete_and_create_for_different_task', processed=1, failed=0)"
      ]
     },
     "execution_count": 9,
     "metadata": {},
     "output_type": "execute_result"
    }
   ],
   "source": [
    "dataset = \"test_delete_and_create_for_different_task\"\n",
    "text = \"This is a text\"\n",
    "\n",
    "rubrix.delete(dataset)\n",
    "rubrix.log(TextClassificationRecord(id=0, inputs=text), name=dataset)\n",
    "\n",
    "rubrix.delete(dataset)\n",
    "rubrix.log(\n",
    "    TokenClassificationRecord(id=0, text=text, tokens=text.split(\" \")), name=dataset\n",
    ")"
   ]
  },
  {
   "cell_type": "code",
   "execution_count": 2,
   "id": "8bd953a1-1451-4e91-aba5-b73f07174f18",
   "metadata": {},
   "outputs": [
    {
     "data": {
      "text/plain": [
       "BulkResponse(dataset='a_lot_of_labels_multi-label', processed=1, failed=0)"
      ]
     },
     "execution_count": 2,
     "metadata": {},
     "output_type": "execute_result"
    }
   ],
   "source": [
    "rb.log(rb.TextClassificationRecord(id=\"b5a23810-10e9-4bff-adf3-447a45667299\",multi_label=True, inputs=\"Esto es un registro sin predicciones ni anotaciones\"), name=\"a_lot_of_labels_multi-label\")"
   ]
  },
  {
   "cell_type": "code",
   "execution_count": 5,
   "id": "7f346189-e60c-4d27-9cf7-580a54a5e771",
   "metadata": {},
   "outputs": [
    {
     "data": {
      "text/plain": [
       "\u001b[0;31mSignature:\u001b[0m\n",
       "\u001b[0mrb\u001b[0m\u001b[0;34m.\u001b[0m\u001b[0mlog\u001b[0m\u001b[0;34m(\u001b[0m\u001b[0;34m\u001b[0m\n",
       "\u001b[0;34m\u001b[0m    \u001b[0mrecords\u001b[0m\u001b[0;34m:\u001b[0m \u001b[0mUnion\u001b[0m\u001b[0;34m[\u001b[0m\u001b[0mrubrix\u001b[0m\u001b[0;34m.\u001b[0m\u001b[0mclient\u001b[0m\u001b[0;34m.\u001b[0m\u001b[0mmodels\u001b[0m\u001b[0;34m.\u001b[0m\u001b[0mTextClassificationRecord\u001b[0m\u001b[0;34m,\u001b[0m \u001b[0mrubrix\u001b[0m\u001b[0;34m.\u001b[0m\u001b[0mclient\u001b[0m\u001b[0;34m.\u001b[0m\u001b[0mmodels\u001b[0m\u001b[0;34m.\u001b[0m\u001b[0mTokenClassificationRecord\u001b[0m\u001b[0;34m,\u001b[0m \u001b[0mrubrix\u001b[0m\u001b[0;34m.\u001b[0m\u001b[0mclient\u001b[0m\u001b[0;34m.\u001b[0m\u001b[0mmodels\u001b[0m\u001b[0;34m.\u001b[0m\u001b[0mText2TextRecord\u001b[0m\u001b[0;34m,\u001b[0m \u001b[0mIterable\u001b[0m\u001b[0;34m[\u001b[0m\u001b[0mUnion\u001b[0m\u001b[0;34m[\u001b[0m\u001b[0mrubrix\u001b[0m\u001b[0;34m.\u001b[0m\u001b[0mclient\u001b[0m\u001b[0;34m.\u001b[0m\u001b[0mmodels\u001b[0m\u001b[0;34m.\u001b[0m\u001b[0mTextClassificationRecord\u001b[0m\u001b[0;34m,\u001b[0m \u001b[0mrubrix\u001b[0m\u001b[0;34m.\u001b[0m\u001b[0mclient\u001b[0m\u001b[0;34m.\u001b[0m\u001b[0mmodels\u001b[0m\u001b[0;34m.\u001b[0m\u001b[0mTokenClassificationRecord\u001b[0m\u001b[0;34m,\u001b[0m \u001b[0mrubrix\u001b[0m\u001b[0;34m.\u001b[0m\u001b[0mclient\u001b[0m\u001b[0;34m.\u001b[0m\u001b[0mmodels\u001b[0m\u001b[0;34m.\u001b[0m\u001b[0mText2TextRecord\u001b[0m\u001b[0;34m]\u001b[0m\u001b[0;34m]\u001b[0m\u001b[0;34m]\u001b[0m\u001b[0;34m,\u001b[0m\u001b[0;34m\u001b[0m\n",
       "\u001b[0;34m\u001b[0m    \u001b[0mname\u001b[0m\u001b[0;34m:\u001b[0m \u001b[0mstr\u001b[0m\u001b[0;34m,\u001b[0m\u001b[0;34m\u001b[0m\n",
       "\u001b[0;34m\u001b[0m    \u001b[0mtags\u001b[0m\u001b[0;34m:\u001b[0m \u001b[0mUnion\u001b[0m\u001b[0;34m[\u001b[0m\u001b[0mDict\u001b[0m\u001b[0;34m[\u001b[0m\u001b[0mstr\u001b[0m\u001b[0;34m,\u001b[0m \u001b[0mstr\u001b[0m\u001b[0;34m]\u001b[0m\u001b[0;34m,\u001b[0m \u001b[0mNoneType\u001b[0m\u001b[0;34m]\u001b[0m \u001b[0;34m=\u001b[0m \u001b[0;32mNone\u001b[0m\u001b[0;34m,\u001b[0m\u001b[0;34m\u001b[0m\n",
       "\u001b[0;34m\u001b[0m    \u001b[0mmetadata\u001b[0m\u001b[0;34m:\u001b[0m \u001b[0mUnion\u001b[0m\u001b[0;34m[\u001b[0m\u001b[0mDict\u001b[0m\u001b[0;34m[\u001b[0m\u001b[0mstr\u001b[0m\u001b[0;34m,\u001b[0m \u001b[0mAny\u001b[0m\u001b[0;34m]\u001b[0m\u001b[0;34m,\u001b[0m \u001b[0mNoneType\u001b[0m\u001b[0;34m]\u001b[0m \u001b[0;34m=\u001b[0m \u001b[0;32mNone\u001b[0m\u001b[0;34m,\u001b[0m\u001b[0;34m\u001b[0m\n",
       "\u001b[0;34m\u001b[0m    \u001b[0mchunk_size\u001b[0m\u001b[0;34m:\u001b[0m \u001b[0mint\u001b[0m \u001b[0;34m=\u001b[0m \u001b[0;36m500\u001b[0m\u001b[0;34m,\u001b[0m\u001b[0;34m\u001b[0m\n",
       "\u001b[0;34m\u001b[0m\u001b[0;34m)\u001b[0m \u001b[0;34m->\u001b[0m \u001b[0mrubrix\u001b[0m\u001b[0;34m.\u001b[0m\u001b[0mclient\u001b[0m\u001b[0;34m.\u001b[0m\u001b[0mmodels\u001b[0m\u001b[0;34m.\u001b[0m\u001b[0mBulkResponse\u001b[0m\u001b[0;34m\u001b[0m\u001b[0;34m\u001b[0m\u001b[0m\n",
       "\u001b[0;31mDocstring:\u001b[0m\n",
       "Log Records to Rubrix.\n",
       "\n",
       "Args:\n",
       "    records:\n",
       "        The record or an iterable of records.\n",
       "    name:\n",
       "        The dataset name.\n",
       "    tags:\n",
       "        A dictionary of tags related to the dataset.\n",
       "    metadata:\n",
       "        A dictionary of extra info for the dataset.\n",
       "    chunk_size:\n",
       "        The chunk size for a data bulk.\n",
       "\n",
       "Returns:\n",
       "    Summary of the response from the REST API\n",
       "\n",
       "Examples:\n",
       "    >>> import rubrix as rb\n",
       "    >>> record = rb.TextClassificationRecord(\n",
       "    ...     inputs={\"text\": \"my first rubrix example\"},\n",
       "    ...     prediction=[('spam', 0.8), ('ham', 0.2)]\n",
       "    ... )\n",
       "    >>> response = rb.log(record, name=\"example-dataset\")\n",
       "\u001b[0;31mFile:\u001b[0m      ~/recognai/rubrix/src/rubrix/__init__.py\n",
       "\u001b[0;31mType:\u001b[0m      function\n"
      ]
     },
     "metadata": {},
     "output_type": "display_data"
    }
   ],
   "source": [
    "rb.log?"
   ]
  },
  {
   "cell_type": "code",
   "execution_count": null,
   "id": "a8053977-48e0-4747-946f-93ce19396d7a",
   "metadata": {},
   "outputs": [],
   "source": []
  }
 ],
 "metadata": {
  "kernelspec": {
   "display_name": "Python 3 (ipykernel)",
   "language": "python",
   "name": "python3"
  },
  "language_info": {
   "codemirror_mode": {
    "name": "ipython",
    "version": 3
   },
   "file_extension": ".py",
   "mimetype": "text/x-python",
   "name": "python",
   "nbconvert_exporter": "python",
   "pygments_lexer": "ipython3",
   "version": "3.8.12"
  }
 },
 "nbformat": 4,
 "nbformat_minor": 5
}
